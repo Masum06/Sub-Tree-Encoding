{
 "cells": [
  {
   "cell_type": "code",
   "execution_count": null,
   "metadata": {},
   "outputs": [],
   "source": [
    "### Compress child and token together: 10k\n",
    "# Coverage: 0.9927927927927928\n",
    "# Functions survived after addidngg in freq_dict: 2220\n",
    "# Ended up after compression: 2204\n",
    "# Compression Ratio: 0.8523115931079496\n",
    "\n",
    "### Compress child and token together: 20k\n",
    "# Coverage: 0.992019507869652\n",
    "# Functions survived after addidngg in freq_dict: 4511\n",
    "# Ended up after compression: 4475\n",
    "# Compression Ratio: 0.8282915522161035\n",
    "\n",
    "### Compress child and token together: 30k\n",
    "# Coverage: 0.9915953774576017\n",
    "# Functions survived after addidngg in freq_dict: 6620\n",
    "# Ended up after compression: 6607\n",
    "# Compression Ratio: 0.8120006470466895"
   ]
  },
  {
   "cell_type": "markdown",
   "metadata": {},
   "source": [
    "## Function Definitions"
   ]
  },
  {
   "cell_type": "code",
   "execution_count": 1,
   "metadata": {},
   "outputs": [],
   "source": [
    "import json\n",
    "import copy\n",
    "def getJsonData(JsonFile):\n",
    "    with open(JsonFile, encoding=\"utf8\") as f:\n",
    "        data = json.load(f)\n",
    "    return data\n",
    "\n",
    "def dump_dict(data, name):\n",
    "    with open(name, 'w', encoding=\"utf8\") as f:\n",
    "        json.dump(data, f)"
   ]
  },
  {
   "cell_type": "code",
   "execution_count": 2,
   "metadata": {},
   "outputs": [],
   "source": [
    "import ast\n",
    "def tree2code(tree, indentation):\n",
    "    code = \"\"\n",
    "    parent = list(tree.keys())[0]\n",
    "    children = tree[parent]\n",
    "    if 'type' in tree:\n",
    "        code = tree['text'] + ' '\n",
    "        if tree['text'] in [';', '{', '}']:\n",
    "            code += '\\n'\n",
    "            if tree['text'] == '{':\n",
    "                indentation += 1\n",
    "            elif tree['text'] == '}':\n",
    "                indentation -= 1\n",
    "            code += '\\t'*indentation\n",
    "        #return code, indentation\n",
    "    elif len(children)==1 and parent == \"literal\":\n",
    "        child = children[0]\n",
    "        child_text = child[\"text\"]\n",
    "        #type(ast.literal_eval(child_text))\n",
    "        try:\n",
    "            if child_text in ['null', 'true', 'false']:\n",
    "                code = child_text + \" \"\n",
    "            elif type(ast.literal_eval(child_text)) == type(\"STRING\"):\n",
    "                code = \"STRING00 \"\n",
    "            elif type(ast.literal_eval(child_text)) == type(1):\n",
    "                code = \"INT00 \"\n",
    "            elif type(ast.literal_eval(child_text)) == type(1.1):\n",
    "                code = \"FLOAT00 \"\n",
    "        except:\n",
    "            code = \"NUM00 \"\n",
    "    else:\n",
    "        root = list(tree.keys())[0]\n",
    "        children = tree[root]\n",
    "        for child in children:\n",
    "            t, indentation = tree2code(child, indentation)\n",
    "            code += t\n",
    "    return code, indentation"
   ]
  },
  {
   "cell_type": "code",
   "execution_count": 3,
   "metadata": {},
   "outputs": [],
   "source": [
    "import ast\n",
    "def get_compressed_func():\n",
    "    global compression_number\n",
    "    compression_number += 1\n",
    "    return \"$F\"+str(compression_number)"
   ]
  },
  {
   "cell_type": "code",
   "execution_count": 4,
   "metadata": {},
   "outputs": [],
   "source": [
    "def build_dict(tree):\n",
    "    var_list = []\n",
    "    global abstract_code_dict_copy\n",
    "    global abstract_code_keys\n",
    "    \n",
    "    \n",
    "    if 'text' in tree:\n",
    "        code = tree[\"text\"] + \" \"\n",
    "        #print(\"**:\\t\",code, 1)\n",
    "        return (code, 1, 0, [], None)\n",
    "    else:\n",
    "        parent = list(tree.keys())[0]\n",
    "        children = tree[parent]\n",
    "        if len(children) == 0:\n",
    "            return (\"\", 0, 0, [], None)\n",
    "        \n",
    "        code = \"\"\n",
    "        compressed_func = None\n",
    "        leaf_count = 0\n",
    "        id_count = 0\n",
    "        children_list = []\n",
    "        #leaf_list = []\n",
    "        \n",
    "        '''\n",
    "        and not (len(children) == 2 and 'text' in children[1] and children[1]['text'] == ';')\\\n",
    "        and not (len(children) == 3 and 'text' in children[0] and 'text' in children[2] and \\\n",
    "                 ((children[0]['text'] == '(' and children[2]['text'] == ')') or \n",
    "                  (children[0]['text'] == '{' and children[2]['text'] == '}') or\n",
    "                  (children[0]['text'] == '[' and children[2]['text'] == ']')))\n",
    "        '''\n",
    "        \n",
    "        if len(children) > 1:\n",
    "            for child in children:\n",
    "                (c, n, i, vl, f) = build_dict(child)\n",
    "                code += c\n",
    "                leaf_count += n\n",
    "                id_count += i\n",
    "                var_list += [v for v in vl if v not in var_list]\n",
    "                if f: children_list.append(f)\n",
    "                #else: leaf_list += code.split()\n",
    "                \n",
    "            if (var_list and leaf_count - len(var_list) >= 4) or (not var_list and leaf_count > 1) :\n",
    "                abstract_code = code.split()\n",
    "                for i in range(len(abstract_code)):\n",
    "                    if abstract_code[i] in var_list:\n",
    "                        abstract_code[i] = \"$id{}\".format(var_list.index(abstract_code[i]))\n",
    "                abstract_code = ' '.join(abstract_code)\n",
    "                \n",
    "                if abstract_code not in abstract_code_dict:\n",
    "                    compressed_func = get_compressed_func()\n",
    "                    abstract_code_dict[abstract_code] = {\n",
    "                        'count': 0, \n",
    "                        'compressed_name': compressed_func,\n",
    "                        'num_params': len(var_list),\n",
    "                        'children': children_list,\n",
    "                        #'leaves': leaf_list\n",
    "                    }\n",
    "                else:\n",
    "                    compressed_func = abstract_code_dict[abstract_code]['compressed_name']\n",
    "                \n",
    "                abstract_code_dict[abstract_code]['count'] += 1\n",
    "#                 children_list.insert(0, compressed_func)\n",
    "                \n",
    "            return (code, leaf_count, id_count, var_list, compressed_func)\n",
    "        \n",
    "        if parent == \"literal\":\n",
    "            child = children[0]\n",
    "            child_text = child[\"text\"]\n",
    "            try:\n",
    "                if child_text in ['null', 'true', 'false']:\n",
    "                    pass\n",
    "                elif type(ast.literal_eval(child_text)) == type(\"STRING\"):\n",
    "                    children[0][\"text\"] = \"STRING00\"\n",
    "                elif type(ast.literal_eval(child_text)) == type(1):\n",
    "                    children[0][\"text\"] = \"INT00\"\n",
    "                elif type(ast.literal_eval(child_text)) == type(1.1):\n",
    "                    children[0][\"text\"] = \"FLOAT00\"\n",
    "            except:\n",
    "                children[0][\"text\"] = \"NUM00\"\n",
    "            code = children[0][\"text\"] + \" \"\n",
    "        elif parent == \"primary\" and 'type' in children[0]:\n",
    "            id_count += 1\n",
    "            text = children[0][\"text\"]\n",
    "            if text not in var_list:\n",
    "                var_list.append(text)\n",
    "            code = text + \" \"\n",
    "        elif parent == \"variableDeclaratorId\" and 'type' in children[0]:\n",
    "            id_count += 1\n",
    "            text = children[0][\"text\"]\n",
    "            if text not in var_list:\n",
    "                var_list.append(text)\n",
    "            code = text + \" \"\n",
    "        else:\n",
    "            (code, leaf_count, i, vl, compressed_func) = build_dict(children[0])\n",
    "            id_count += i\n",
    "            var_list += [v for v in vl if v not in var_list]\n",
    "        \n",
    "        return (code, leaf_count, id_count, var_list, compressed_func)"
   ]
  },
  {
   "cell_type": "code",
   "execution_count": 5,
   "metadata": {},
   "outputs": [],
   "source": [
    "def compress(tree):\n",
    "    var_list = []\n",
    "    global abstract_code_dict_copy\n",
    "    global abstract_code_keys\n",
    "    \n",
    "    if 'text' in tree:\n",
    "        code = tree[\"text\"] + \" \"\n",
    "        #print(\"**:\\t\",code, 1)\n",
    "        return (code, 1, 0, [])\n",
    "    else:\n",
    "        parent = list(tree.keys())[0]\n",
    "        children = tree[parent]\n",
    "        if len(children) == 0:\n",
    "            return (\"\", 0, 0, [])\n",
    "        \n",
    "        code = \"\"\n",
    "        compressed_func = None\n",
    "        leaf_count = 0\n",
    "        id_count = 0\n",
    "        children_list = []\n",
    "        \n",
    "        if len(children) > 1:\n",
    "            for child in children:\n",
    "                (c, n, i, vl) = compress(child)\n",
    "                code += c\n",
    "                leaf_count += n\n",
    "                id_count += i\n",
    "                var_list += [v for v in vl if v not in var_list]\n",
    "                \n",
    "            if (var_list and leaf_count - len(var_list) >= 4) or (not var_list and leaf_count > 1) :\n",
    "                abstract_code = code.split()\n",
    "                for i in range(len(abstract_code)):\n",
    "                    if abstract_code[i] in var_list:\n",
    "                        abstract_code[i] = \"$id{}\".format(var_list.index(abstract_code[i]))\n",
    "                abstract_code = ' '.join(abstract_code)\n",
    "                \n",
    "                #---------------------------------------------------\n",
    "                if abstract_code in abstract_code_keys:\n",
    "                    compressed_func = abstract_code_dict_copy[abstract_code]['compressed_name']\n",
    "                    compressed_func += ' ( ' +' , '.join(var_list)+' )' if var_list else ''\n",
    "                    tree[parent] = [{\"type\": \"compressed\", \"text\": compressed_func}]\n",
    "                #---------------------------------------------------\n",
    "\n",
    "            return (code, leaf_count, id_count, var_list)\n",
    "        \n",
    "        if parent == \"literal\":\n",
    "            child = children[0]\n",
    "            child_text = child[\"text\"]\n",
    "            try:\n",
    "                if child_text in ['null', 'true', 'false']:\n",
    "                    pass\n",
    "                elif type(ast.literal_eval(child_text)) == type(\"STRING\"):\n",
    "                    children[0][\"text\"] = \"STRING00\"\n",
    "                elif type(ast.literal_eval(child_text)) == type(1):\n",
    "                    children[0][\"text\"] = \"INT00\"\n",
    "                elif type(ast.literal_eval(child_text)) == type(1.1):\n",
    "                    children[0][\"text\"] = \"FLOAT00\"\n",
    "            except:\n",
    "                children[0][\"text\"] = \"NUM00\"\n",
    "            code = children[0][\"text\"] + \" \"\n",
    "            \n",
    "        elif parent == \"primary\" and 'type' in children[0]:\n",
    "            id_count += 1\n",
    "            text = children[0][\"text\"]\n",
    "            if text not in var_list:\n",
    "                var_list.append(text)\n",
    "            code = text + \" \"\n",
    "        elif parent == \"variableDeclaratorId\" and 'type' in children[0]:\n",
    "            id_count += 1\n",
    "            text = children[0][\"text\"]\n",
    "            if text not in var_list:\n",
    "                var_list.append(text)\n",
    "            code = text + \" \"\n",
    "        else:\n",
    "            (code, leaf_count, i, vl) = compress(children[0])\n",
    "            id_count += i\n",
    "            var_list += [v for v in vl if v not in var_list]\n",
    "        \n",
    "        return (code, leaf_count, id_count, var_list)"
   ]
  },
  {
   "cell_type": "markdown",
   "metadata": {},
   "source": [
    "### CodeSearchNet Training data"
   ]
  },
  {
   "cell_type": "code",
   "execution_count": 6,
   "metadata": {},
   "outputs": [],
   "source": [
    "## Loading one training data\n",
    "tree_data = []\n",
    "for i in range(16):\n",
    "    tree_data += getJsonData(\"../CodeSearchNet/train_test_valid_uncompressed/java_train_{}.json\".format(i))\n",
    "    \n",
    "#tree_data = getJsonData(\"../CodeSearchNet/train_test_valid_uncompressed/java_train_0.json\")"
   ]
  },
  {
   "cell_type": "markdown",
   "metadata": {},
   "source": [
    "### Summarization training data"
   ]
  },
  {
   "cell_type": "code",
   "execution_count": null,
   "metadata": {},
   "outputs": [],
   "source": [
    "!unzip code_summarization/train/code.zip"
   ]
  },
  {
   "cell_type": "code",
   "execution_count": null,
   "metadata": {},
   "outputs": [],
   "source": [
    "tree_data = getJsonData(\"code_summarization/train/code.tree\")"
   ]
  },
  {
   "cell_type": "code",
   "execution_count": null,
   "metadata": {},
   "outputs": [],
   "source": [
    "!rm code_summarization/train/code.tree"
   ]
  },
  {
   "cell_type": "markdown",
   "metadata": {},
   "source": [
    "### Building CSN Dictionary"
   ]
  },
  {
   "cell_type": "code",
   "execution_count": 7,
   "metadata": {
    "scrolled": true
   },
   "outputs": [
    {
     "name": "stdout",
     "output_type": "stream",
     "text": [
      "[ 0 ]\n",
      "[ 5000 ]\n",
      "[ 10000 ]\n",
      "[ 15000 ]\n",
      "[ 20000 ]\n",
      "[ 25000 ]\n",
      "[ 30000 ]\n",
      "[ 35000 ]\n",
      "[ 40000 ]\n",
      "[ 45000 ]\n",
      "[ 50000 ]\n",
      "[ 55000 ]\n",
      "[ 60000 ]\n",
      "[ 65000 ]\n",
      "[ 70000 ]\n",
      "[ 75000 ]\n",
      "[ 80000 ]\n",
      "[ 85000 ]\n",
      "[ 90000 ]\n",
      "[ 95000 ]\n",
      "[ 100000 ]\n",
      "[ 105000 ]\n",
      "[ 110000 ]\n",
      "[ 115000 ]\n",
      "[ 120000 ]\n",
      "[ 125000 ]\n",
      "[ 130000 ]\n",
      "[ 135000 ]\n",
      "[ 140000 ]\n",
      "[ 145000 ]\n",
      "[ 150000 ]\n",
      "[ 155000 ]\n",
      "[ 160000 ]\n",
      "[ 165000 ]\n",
      "[ 170000 ]\n",
      "[ 175000 ]\n",
      "[ 180000 ]\n",
      "[ 185000 ]\n",
      "[ 190000 ]\n",
      "[ 195000 ]\n",
      "[ 200000 ]\n",
      "[ 205000 ]\n",
      "[ 210000 ]\n",
      "[ 215000 ]\n",
      "[ 220000 ]\n",
      "[ 225000 ]\n",
      "[ 230000 ]\n",
      "[ 235000 ]\n",
      "[ 240000 ]\n",
      "[ 245000 ]\n",
      "[ 250000 ]\n",
      "[ 255000 ]\n",
      "[ 260000 ]\n",
      "[ 265000 ]\n",
      "[ 270000 ]\n",
      "[ 275000 ]\n",
      "[ 280000 ]\n",
      "[ 285000 ]\n",
      "[ 290000 ]\n",
      "[ 295000 ]\n",
      "[ 300000 ]\n",
      "[ 305000 ]\n",
      "[ 310000 ]\n",
      "[ 315000 ]\n",
      "[ 320000 ]\n",
      "[ 325000 ]\n",
      "[ 330000 ]\n",
      "[ 335000 ]\n",
      "[ 340000 ]\n",
      "[ 345000 ]\n",
      "[ 350000 ]\n",
      "[ 355000 ]\n",
      "[ 360000 ]\n",
      "[ 365000 ]\n",
      "[ 370000 ]\n",
      "[ 375000 ]\n",
      "[ 380000 ]\n",
      "[ 385000 ]\n",
      "[ 390000 ]\n",
      "[ 395000 ]\n",
      "[ 400000 ]\n",
      "[ 405000 ]\n",
      "[ 410000 ]\n",
      "[ 415000 ]\n",
      "[ 420000 ]\n",
      "[ 425000 ]\n",
      "[ 430000 ]\n",
      "[ 435000 ]\n",
      "[ 440000 ]\n",
      "[ 445000 ]\n",
      "[ 450000 ]\n",
      "[ 454450 ]\n"
     ]
    },
    {
     "data": {
      "text/plain": [
       "1069804"
      ]
     },
     "execution_count": 7,
     "metadata": {},
     "output_type": "execute_result"
    }
   ],
   "source": [
    "## build freq_dict\n",
    "## This is non-invasive, doens't change tree_data_dict\n",
    "freq_dict_original = {}\n",
    "uncompressed_codes = []\n",
    "\n",
    "for i in range(len(tree_data)):\n",
    "    if i%5000 == 0: print(\"[\", i, \"]\")\n",
    "    code, _ = tree2code(tree_data[i], 0)\n",
    "    uncompressed_codes.append({\"code\": code})\n",
    "    tokens = code.split()\n",
    "\n",
    "    for token in tokens:\n",
    "        if token not in freq_dict_original: freq_dict_original[token] = 0\n",
    "        freq_dict_original[token] += 1\n",
    "print(\"[\", i, \"]\")\n",
    "len(freq_dict_original)"
   ]
  },
  {
   "cell_type": "code",
   "execution_count": 8,
   "metadata": {},
   "outputs": [],
   "source": [
    "abstract_code_dict = {}\n",
    "compression_number = 0"
   ]
  },
  {
   "cell_type": "code",
   "execution_count": 9,
   "metadata": {
    "scrolled": true
   },
   "outputs": [
    {
     "name": "stdout",
     "output_type": "stream",
     "text": [
      "0\n",
      "5000\n",
      "10000\n",
      "15000\n",
      "20000\n",
      "25000\n",
      "30000\n",
      "35000\n",
      "40000\n",
      "45000\n",
      "50000\n",
      "55000\n",
      "60000\n",
      "65000\n",
      "70000\n",
      "75000\n",
      "80000\n",
      "85000\n",
      "90000\n",
      "95000\n",
      "100000\n",
      "105000\n",
      "110000\n",
      "115000\n",
      "120000\n",
      "125000\n",
      "130000\n",
      "135000\n",
      "140000\n",
      "145000\n",
      "150000\n",
      "155000\n",
      "160000\n",
      "165000\n",
      "170000\n",
      "175000\n",
      "180000\n",
      "185000\n",
      "190000\n",
      "195000\n",
      "200000\n",
      "205000\n",
      "210000\n",
      "215000\n",
      "220000\n",
      "225000\n",
      "230000\n",
      "235000\n",
      "240000\n",
      "245000\n",
      "250000\n",
      "255000\n",
      "260000\n",
      "265000\n",
      "270000\n",
      "275000\n",
      "280000\n",
      "285000\n",
      "290000\n",
      "295000\n",
      "300000\n",
      "305000\n",
      "310000\n",
      "315000\n",
      "320000\n",
      "325000\n",
      "330000\n",
      "335000\n",
      "340000\n",
      "345000\n",
      "350000\n",
      "355000\n",
      "360000\n",
      "365000\n",
      "370000\n",
      "375000\n",
      "380000\n",
      "385000\n",
      "390000\n",
      "395000\n",
      "400000\n",
      "405000\n",
      "410000\n",
      "415000\n",
      "420000\n",
      "425000\n",
      "430000\n",
      "435000\n",
      "440000\n",
      "445000\n",
      "450000\n",
      "454451\n"
     ]
    }
   ],
   "source": [
    "## Building dictionary\n",
    "## This is invasive, and changes tree_data_dict\n",
    "i = 0\n",
    "for data in tree_data:\n",
    "    if not i%5000: print(i)\n",
    "    data_copy = copy.deepcopy(data)\n",
    "    build_dict(data_copy)\n",
    "    i += 1\n",
    "print(i)"
   ]
  },
  {
   "cell_type": "code",
   "execution_count": 13,
   "metadata": {},
   "outputs": [],
   "source": [
    "#dump_dict(abstract_code_dict, '../CodeSearchNet/abstract_code_dict_d.json')"
   ]
  },
  {
   "cell_type": "code",
   "execution_count": 14,
   "metadata": {},
   "outputs": [],
   "source": [
    "#dump_dict(freq_dict_original, '../CodeSearchNet/freq_dict.json')"
   ]
  },
  {
   "cell_type": "code",
   "execution_count": 15,
   "metadata": {},
   "outputs": [],
   "source": [
    "#dump_dict(uncompressed_codes, \"../CodeSearchNet/uncompressed_codes_no_literal.json\")"
   ]
  },
  {
   "cell_type": "code",
   "execution_count": null,
   "metadata": {},
   "outputs": [],
   "source": [
    "#abstract_code_dict = getJsonData('../CodeSearchNet/abstract_code_dict_d.json')"
   ]
  },
  {
   "cell_type": "code",
   "execution_count": null,
   "metadata": {},
   "outputs": [],
   "source": [
    "#freq_dict_original = getJsonData('../CodeSearchNet/freq_dict.json')"
   ]
  },
  {
   "cell_type": "code",
   "execution_count": 16,
   "metadata": {
    "scrolled": true
   },
   "outputs": [],
   "source": [
    "func2abs = {}\n",
    "abs2func = {}\n",
    "\n",
    "for key in abstract_code_dict:\n",
    "    func2abs[abstract_code_dict[key]['compressed_name']] = key\n",
    "    abs2func[key] = abstract_code_dict[key]['compressed_name']"
   ]
  },
  {
   "cell_type": "code",
   "execution_count": null,
   "metadata": {},
   "outputs": [],
   "source": []
  },
  {
   "cell_type": "markdown",
   "metadata": {},
   "source": [
    "### For Reruns, run from here"
   ]
  },
  {
   "cell_type": "code",
   "execution_count": 17,
   "metadata": {},
   "outputs": [],
   "source": [
    "vocab_size = 10000"
   ]
  },
  {
   "cell_type": "code",
   "execution_count": 18,
   "metadata": {},
   "outputs": [
    {
     "data": {
      "text/plain": [
       "6133731"
      ]
     },
     "execution_count": 18,
     "metadata": {},
     "output_type": "execute_result"
    }
   ],
   "source": [
    "import copy\n",
    "abstract_code_dict_copy = copy.deepcopy(abstract_code_dict)\n",
    "abstract_code_keys = sorted(abstract_code_dict_copy, key = lambda x:abstract_code_dict_copy[x]['count'], reverse=True)\n",
    "len(abstract_code_keys)"
   ]
  },
  {
   "cell_type": "code",
   "execution_count": 19,
   "metadata": {
    "scrolled": true
   },
   "outputs": [
    {
     "data": {
      "text/plain": [
       "1069804"
      ]
     },
     "execution_count": 19,
     "metadata": {},
     "output_type": "execute_result"
    }
   ],
   "source": [
    "freq_dict = copy.deepcopy(freq_dict_original)\n",
    "most_freq = sorted(freq_dict, key = lambda x:freq_dict[x], reverse=True)\n",
    "len(most_freq)"
   ]
  },
  {
   "cell_type": "code",
   "execution_count": 20,
   "metadata": {
    "scrolled": false
   },
   "outputs": [
    {
     "data": {
      "text/plain": [
       "('getSeverity', 116)"
      ]
     },
     "execution_count": 20,
     "metadata": {},
     "output_type": "execute_result"
    }
   ],
   "source": [
    "min_freq = freq_dict[most_freq[vocab_size]]\n",
    "most_freq[vocab_size], min_freq\n",
    "# 10k : ('nColors', 11)\n",
    "# 30k: ('ceMask_', 4)\n",
    "# 20k: ('beginCancelWithServiceResponseAsync', 6)"
   ]
  },
  {
   "cell_type": "code",
   "execution_count": 21,
   "metadata": {
    "scrolled": true
   },
   "outputs": [
    {
     "data": {
      "text/plain": [
       "4164"
      ]
     },
     "execution_count": 21,
     "metadata": {},
     "output_type": "execute_result"
    }
   ],
   "source": [
    "# Tokens that are less than the min-count, will not appear on the final vocab\n",
    "\n",
    "for key in list(abstract_code_dict_copy):\n",
    "    if abstract_code_dict_copy[key]['count'] < min_freq:\n",
    "        del abstract_code_dict_copy[key]\n",
    "abstract_code_keys = sorted(abstract_code_dict_copy, key = lambda x:abstract_code_dict_copy[x]['count'], reverse=True)\n",
    "len(abstract_code_keys)"
   ]
  },
  {
   "cell_type": "code",
   "execution_count": null,
   "metadata": {},
   "outputs": [],
   "source": [
    "## Untested\n",
    "\n",
    "for key in list(freq_dict):\n",
    "    if freq_dict[key] < min_freq//2:\n",
    "        del freq_dict[key]\n",
    "most_freq = sorted(freq_dict, key = lambda x:freq_dict[x], reverse=True)\n",
    "len(most_freq)"
   ]
  },
  {
   "cell_type": "code",
   "execution_count": 22,
   "metadata": {
    "scrolled": true
   },
   "outputs": [
    {
     "name": "stdout",
     "output_type": "stream",
     "text": [
      "0 : 0\n",
      "$F1128 is less frequent than parent $F1129\n",
      "$F277597 is less frequent than parent $F277598\n",
      "$F11236 is less frequent than parent $F11237\n",
      "$F8166 is less frequent than parent $F8167\n",
      "$F10911 is less frequent than parent $F10912\n",
      "$F12054 is less frequent than parent $F12055\n",
      "$F6392 is less frequent than parent $F6393\n",
      "$F2721 is less frequent than parent $F2722\n",
      "$F110130 is less frequent than parent $F110131\n",
      "500 : 403\n",
      "$F23838 is less frequent than parent $F23839\n",
      "$F2082 is less frequent than parent $F2083\n",
      "$F41050 is less frequent than parent $F41051\n",
      "$F22652 is less frequent than parent $F22653\n",
      "$F9606 is less frequent than parent $F9607\n",
      "$F1493779 is less frequent than parent $F1493780\n",
      "1000 : 754\n",
      "$F784953 is less frequent than parent $F784959\n",
      "$F784146 is less frequent than parent $F784152\n",
      "$F57443 is less frequent than parent $F57444\n",
      "$F18593 is less frequent than parent $F18594\n",
      "$F154651 is less frequent than parent $F154836\n",
      "1500 : 1073\n",
      "$F22312 is less frequent than parent $F22313\n",
      "$F25480 is less frequent than parent $F25481\n",
      "2000 : 1421\n",
      "$F1492210 is less frequent than parent $F1492214\n",
      "$F78366 is less frequent than parent $F78367\n",
      "$F21609 is less frequent than parent $F21610\n",
      "2500 : 1738\n",
      "$F153754 is less frequent than parent $F153755\n",
      "3000 : 2061\n",
      "$F100379 is less frequent than parent $F100380\n",
      "3500 : 2149\n",
      "4000 : 2149\n",
      "4164 : 2149\n"
     ]
    }
   ],
   "source": [
    "## We take one compressed token at a time and remove the tokens it compresses\n",
    "\n",
    "i = 0\n",
    "accepted_functions = []\n",
    "child_not_found = []\n",
    "for key in abstract_code_keys:\n",
    "    if not i%500: print(i, \":\", len(accepted_functions))\n",
    "    i+=1\n",
    "    func = abstract_code_dict_copy[key]['compressed_name']\n",
    "    freq_dict[func] = abstract_code_dict_copy[key]['count']\n",
    "    most_freq = sorted(freq_dict, key = lambda x:freq_dict[x], reverse=True)\n",
    "    accepted_functions = list(set(func2abs) & set(most_freq[:vocab_size]))\n",
    "    \n",
    "    if func in most_freq[:vocab_size]:\n",
    "        count = abstract_code_dict_copy[key]['count']\n",
    "        children = abstract_code_dict_copy[key]['children']\n",
    "        accepted_functions.append(func)\n",
    "        tokens = key.split()\n",
    "        \n",
    "        # Should be recursive\n",
    "        if children:\n",
    "            for child in children:\n",
    "                if child in freq_dict:\n",
    "                    freq_dict[child] -= count\n",
    "                else:\n",
    "                    print(child, \"is less frequent than parent\", func)\n",
    "                    child_not_found.append(child)\n",
    "                    \n",
    "        else:\n",
    "            for token in tokens:\n",
    "                if not token.startswith(\"$id\") and token in freq_dict:\n",
    "                    freq_dict[token] -= count\n",
    "\n",
    "most_freq = sorted(freq_dict, key = lambda x:freq_dict[x], reverse=True)\n",
    "accepted_functions = list(set(func2abs) & set(most_freq[:vocab_size]))\n",
    "print(i, \":\", len(accepted_functions))"
   ]
  },
  {
   "cell_type": "code",
   "execution_count": 23,
   "metadata": {
    "scrolled": false
   },
   "outputs": [
    {
     "data": {
      "text/plain": [
       "2149"
      ]
     },
     "execution_count": 23,
     "metadata": {},
     "output_type": "execute_result"
    }
   ],
   "source": [
    "len(accepted_functions)"
   ]
  },
  {
   "cell_type": "code",
   "execution_count": null,
   "metadata": {
    "scrolled": false
   },
   "outputs": [],
   "source": []
  },
  {
   "cell_type": "code",
   "execution_count": 24,
   "metadata": {},
   "outputs": [
    {
     "data": {
      "text/plain": [
       "148"
      ]
     },
     "execution_count": 24,
     "metadata": {},
     "output_type": "execute_result"
    }
   ],
   "source": [
    "freq_dict[most_freq[vocab_size]]"
   ]
  },
  {
   "cell_type": "code",
   "execution_count": 25,
   "metadata": {},
   "outputs": [],
   "source": [
    "to_be_compressed = []\n",
    "for token in accepted_functions:\n",
    "    to_be_compressed.append(func2abs[token])"
   ]
  },
  {
   "cell_type": "code",
   "execution_count": 26,
   "metadata": {},
   "outputs": [
    {
     "data": {
      "text/plain": [
       "(2149, '$id0 . println ( STRING00 + $id1 ) ;')"
      ]
     },
     "execution_count": 26,
     "metadata": {},
     "output_type": "execute_result"
    }
   ],
   "source": [
    "len(to_be_compressed), to_be_compressed[0]"
   ]
  },
  {
   "cell_type": "code",
   "execution_count": 27,
   "metadata": {},
   "outputs": [],
   "source": [
    "del abstract_code_keys\n",
    "abstract_code_keys = to_be_compressed"
   ]
  },
  {
   "cell_type": "code",
   "execution_count": 28,
   "metadata": {
    "scrolled": false
   },
   "outputs": [
    {
     "data": {
      "text/plain": [
       "2149"
      ]
     },
     "execution_count": 28,
     "metadata": {},
     "output_type": "execute_result"
    }
   ],
   "source": [
    "len(abstract_code_keys)"
   ]
  },
  {
   "cell_type": "code",
   "execution_count": 30,
   "metadata": {},
   "outputs": [],
   "source": [
    "dump_dict(to_be_compressed, \"../CodeSearchNet/to_be_compressed_10k.json\")"
   ]
  },
  {
   "cell_type": "markdown",
   "metadata": {},
   "source": [
    "## Compressing and finding out the overlap between our calculation and actual most frequent"
   ]
  },
  {
   "cell_type": "code",
   "execution_count": 7,
   "metadata": {},
   "outputs": [],
   "source": [
    "abstract_code_keys = getJsonData(\"../CodeSearchNet/to_be_compressed_10k.json\")"
   ]
  },
  {
   "cell_type": "code",
   "execution_count": 25,
   "metadata": {},
   "outputs": [],
   "source": [
    "abstract_code_dict_copy = getJsonData('../CodeSearchNet/abstract_code_dict_d.json')"
   ]
  },
  {
   "cell_type": "code",
   "execution_count": 36,
   "metadata": {},
   "outputs": [],
   "source": [
    "tree_data = getJsonData(\"../CodeSearchNet/train_test_valid_uncompressed/java_valid_0.json\")"
   ]
  },
  {
   "cell_type": "code",
   "execution_count": 37,
   "metadata": {},
   "outputs": [],
   "source": [
    "# Necessary data items: \n",
    "## tree_data\n",
    "## abstract_code_dict_copy, abstract_code_keys"
   ]
  },
  {
   "cell_type": "code",
   "execution_count": 38,
   "metadata": {
    "scrolled": true
   },
   "outputs": [
    {
     "name": "stdout",
     "output_type": "stream",
     "text": [
      "[ 0 ] : 0.8313253012048193\n",
      "[ 5000 ] : 0.8973311909023719\n",
      "[ 10000 ] : 0.9053904250474979\n",
      "[ 15000 ] : 0.9042502579347484\n",
      "[ 15327 ] : 0.9039755935705738\n"
     ]
    }
   ],
   "source": [
    "## This is not invasive, does not changes tree_data\n",
    "\n",
    "compressed_freq_dict = {}\n",
    "compressed_codes = []\n",
    "total_tokens_before = 0\n",
    "total_tokens_after = 0\n",
    "for i in range(len(tree_data)):\n",
    "    try:\n",
    "        tree_copy = copy.deepcopy(tree_data[i])\n",
    "        code, _ = tree2code(tree_copy, 0)\n",
    "        total_tokens_before += len(code.split())\n",
    "        (code, leaf_count, id_count, var_list) = compress(tree_copy)\n",
    "        code, _ = tree2code(tree_copy, 0)\n",
    "    except Exception as e:\n",
    "        print(e)\n",
    "        code, _ = tree2code(tree_data[i], 0)\n",
    "    compressed_code = {\"code\": code}\n",
    "    tokens = code.split()\n",
    "    total_tokens_after += len(tokens)\n",
    "    for token in tokens:\n",
    "        if token not in compressed_freq_dict:\n",
    "            compressed_freq_dict[token] = 0\n",
    "        compressed_freq_dict[token] += 1\n",
    "    compressed_codes.append(compressed_code)\n",
    "    if i%5000 == 0: print(\"[\", i, \"] :\", total_tokens_after/total_tokens_before) \n",
    "print(\"[\", i, \"] :\", total_tokens_after/total_tokens_before)"
   ]
  },
  {
   "cell_type": "code",
   "execution_count": 39,
   "metadata": {},
   "outputs": [],
   "source": [
    "dump_dict(compressed_codes, '../CodeSearchNet/freq_norm_compressed_codes_valid_10k.json')"
   ]
  },
  {
   "cell_type": "code",
   "execution_count": 35,
   "metadata": {},
   "outputs": [
    {
     "data": {
      "text/plain": [
       "['../csn_big_only_trees/csn_big_16.json',\n",
       " '../csn_big_only_trees/csn_big_8.json',\n",
       " '../csn_big_only_trees/csn_big_4.json',\n",
       " '../csn_big_only_trees/csn_big_5.json',\n",
       " '../csn_big_only_trees/csn_big_13.json',\n",
       " '../csn_big_only_trees/csn_big_15.json',\n",
       " '../csn_big_only_trees/csn_big_1.json',\n",
       " '../csn_big_only_trees/csn_big_6.json',\n",
       " '../csn_big_only_trees/csn_big_11.json',\n",
       " '../csn_big_only_trees/csn_big_10.json',\n",
       " '../csn_big_only_trees/csn_big_2.json',\n",
       " '../csn_big_only_trees/csn_big_9.json',\n",
       " '../csn_big_only_trees/csn_big_12.json',\n",
       " '../csn_big_only_trees/csn_big_14.json',\n",
       " '../csn_big_only_trees/csn_big_3.json',\n",
       " '../csn_big_only_trees/csn_big_7.json']"
      ]
     },
     "execution_count": 35,
     "metadata": {},
     "output_type": "execute_result"
    }
   ],
   "source": [
    "import glob\n",
    "paths = glob.glob('../csn_big_only_trees/*.json')\n",
    "paths"
   ]
  },
  {
   "cell_type": "code",
   "execution_count": 45,
   "metadata": {},
   "outputs": [
    {
     "name": "stdout",
     "output_type": "stream",
     "text": [
      "[ 0 ] : 1.0\n",
      "[ 5000 ] : 0.8975873119233935\n",
      "[ 10000 ] : 0.9003621420315912\n",
      "[ 15000 ] : 0.9020824976820953\n",
      "[ 20000 ] : 0.9023611508288645\n",
      "[ 25000 ] : 0.901780875602055\n",
      "[ 30000 ] : 0.9019153202722994\n",
      "[ 35000 ] : 0.9012018660992892\n",
      "[ 40000 ] : 0.9002338258246981\n",
      "[ 45000 ] : 0.8990562530266887\n",
      "[ 50000 ] : 0.8982108722045063\n",
      "[ 55000 ] : 0.8969434586726457\n",
      "[ 60000 ] : 0.8958771873141815\n",
      "[ 65000 ] : 0.8944022090522482\n",
      "[ 69888 ] : 0.8934806986043782\n",
      "[ 0 ] : 0.8934802990230137\n",
      "[ 5000 ] : 0.8943099334742042\n",
      "[ 10000 ] : 0.8938940906263956\n",
      "[ 15000 ] : 0.894641303490407\n",
      "[ 20000 ] : 0.8955443424238535\n",
      "[ 25000 ] : 0.8965973854289072\n",
      "[ 30000 ] : 0.8974100175520285\n",
      "[ 35000 ] : 0.8977644203551551\n",
      "[ 40000 ] : 0.897071382486972\n",
      "[ 45000 ] : 0.897345048350886\n",
      "[ 50000 ] : 0.8986873586487555\n",
      "[ 55000 ] : 0.9003498762742144\n",
      "[ 60000 ] : 0.9013287516526355\n",
      "[ 65000 ] : 0.9014121640202607\n",
      "[ 70000 ] : 0.9014792620772455\n",
      "[ 75000 ] : 0.9017849136569582\n",
      "[ 80000 ] : 0.9029641741349659\n",
      "[ 85000 ] : 0.9037990314543095\n",
      "[ 90000 ] : 0.904445067672426\n",
      "[ 95000 ] : 0.9047997688765647\n",
      "[ 99999 ] : 0.905109269179746\n",
      "[ 0 ] : 0.9051091693098768\n",
      "[ 5000 ] : 0.9058777568303327\n",
      "[ 10000 ] : 0.906000055278743\n",
      "[ 15000 ] : 0.9061830063116986\n",
      "[ 20000 ] : 0.9046396610547968\n",
      "[ 25000 ] : 0.9040867159461208\n",
      "[ 30000 ] : 0.9026541840969915\n",
      "[ 35000 ] : 0.902744577323747\n",
      "[ 40000 ] : 0.9032712734152293\n",
      "[ 45000 ] : 0.9042910055623207\n",
      "[ 50000 ] : 0.9047930967537873\n",
      "[ 55000 ] : 0.9051411664719916\n",
      "[ 60000 ] : 0.9055548755524485\n",
      "[ 65000 ] : 0.9057690012217564\n",
      "[ 70000 ] : 0.9058998579162245\n",
      "[ 75000 ] : 0.9059482021741478\n",
      "[ 80000 ] : 0.9062454685377359\n",
      "[ 85000 ] : 0.9061264623092571\n",
      "[ 90000 ] : 0.9065438236834342\n",
      "[ 95000 ] : 0.9066350430734356\n",
      "[ 99999 ] : 0.9067484577175953\n",
      "[ 0 ] : 0.9067485392255815\n",
      "[ 5000 ] : 0.9069210693773907\n",
      "[ 10000 ] : 0.9070532321516768\n",
      "[ 15000 ] : 0.9073374974978227\n",
      "[ 20000 ] : 0.9074689782761957\n",
      "[ 25000 ] : 0.9077160537216076\n",
      "[ 30000 ] : 0.9077989237277275\n",
      "[ 35000 ] : 0.9078035217473102\n",
      "[ 40000 ] : 0.9080975032686138\n",
      "[ 45000 ] : 0.9082093514505287\n",
      "[ 50000 ] : 0.9084252580691483\n",
      "[ 55000 ] : 0.9083293707078616\n",
      "[ 60000 ] : 0.9083223045469772\n",
      "[ 65000 ] : 0.9084257112214454\n",
      "[ 70000 ] : 0.9086037571564682\n",
      "[ 75000 ] : 0.9085302429650033\n",
      "[ 80000 ] : 0.9076940746865296\n",
      "[ 85000 ] : 0.9067715179777223\n",
      "[ 90000 ] : 0.9060362783406917\n",
      "[ 95000 ] : 0.9059277173887665\n",
      "[ 99999 ] : 0.9059519590861005\n",
      "[ 0 ] : 0.9059518781434306\n",
      "[ 5000 ] : 0.9059295799899055\n",
      "[ 10000 ] : 0.9059674607765248\n",
      "[ 15000 ] : 0.9059487091591697\n",
      "[ 20000 ] : 0.9059859269631292\n",
      "[ 25000 ] : 0.9063051675896557\n",
      "[ 30000 ] : 0.9062491336912394\n",
      "[ 35000 ] : 0.9061876251999444\n",
      "[ 40000 ] : 0.9061746146263233\n",
      "[ 45000 ] : 0.9061813162715678\n",
      "[ 50000 ] : 0.9060301492282278\n",
      "[ 55000 ] : 0.9060879081182961\n",
      "[ 60000 ] : 0.9060836412476585\n",
      "[ 65000 ] : 0.9061856420613004\n",
      "[ 70000 ] : 0.9062821587115297\n",
      "[ 75000 ] : 0.906213349426948\n",
      "[ 80000 ] : 0.9062164616879855\n",
      "[ 85000 ] : 0.906262575552686\n",
      "[ 90000 ] : 0.9060233404678458\n",
      "[ 95000 ] : 0.9059716039401635\n",
      "[ 99999 ] : 0.905965185213223\n",
      "[ 0 ] : 0.9059652708211088\n",
      "[ 5000 ] : 0.9058015940666261\n",
      "[ 10000 ] : 0.9058216545404402\n",
      "[ 15000 ] : 0.9059098966854647\n",
      "[ 20000 ] : 0.9059567188365888\n",
      "[ 25000 ] : 0.9059508693870508\n",
      "[ 30000 ] : 0.9058330030156629\n",
      "[ 35000 ] : 0.9057564749268049\n",
      "[ 40000 ] : 0.9057881155104274\n",
      "[ 45000 ] : 0.9059386007820109\n",
      "[ 50000 ] : 0.9059652551474805\n",
      "[ 55000 ] : 0.9060270719128548\n",
      "[ 60000 ] : 0.9059313489465947\n",
      "[ 65000 ] : 0.90587782799072\n",
      "[ 70000 ] : 0.9057831857480707\n",
      "[ 75000 ] : 0.9057426331622083\n",
      "[ 80000 ] : 0.9057852053889074\n",
      "[ 85000 ] : 0.9058674322764529\n",
      "[ 90000 ] : 0.9058290750515487\n",
      "[ 95000 ] : 0.9057947824235636\n",
      "[ 99999 ] : 0.9057307759803442\n",
      "[ 0 ] : 0.9057307402788999\n",
      "[ 5000 ] : 0.9057057568014799\n",
      "[ 10000 ] : 0.9056868457778497\n",
      "[ 15000 ] : 0.9057475209525334\n",
      "[ 20000 ] : 0.9057693331725833\n",
      "[ 25000 ] : 0.9057879862799854\n",
      "[ 30000 ] : 0.905582499883354\n",
      "[ 35000 ] : 0.9054989673474982\n",
      "[ 40000 ] : 0.9054967796508931\n",
      "[ 45000 ] : 0.9056065136317705\n",
      "[ 50000 ] : 0.9057381584721856\n",
      "[ 55000 ] : 0.9058027593462739\n",
      "[ 60000 ] : 0.9058978972699342\n",
      "[ 65000 ] : 0.906036568587702\n",
      "[ 70000 ] : 0.9061124449495014\n",
      "[ 75000 ] : 0.9063406941238512\n",
      "[ 80000 ] : 0.9065575631906416\n",
      "[ 85000 ] : 0.9064513846590364\n",
      "[ 90000 ] : 0.9063625395422052\n",
      "[ 95000 ] : 0.9064569979285386\n",
      "[ 99999 ] : 0.9064574102627913\n",
      "[ 0 ] : 0.9064574641427058\n",
      "[ 5000 ] : 0.9065310509319046\n",
      "[ 10000 ] : 0.9065508001934692\n",
      "[ 15000 ] : 0.9068816568208775\n",
      "[ 20000 ] : 0.9069803846898616\n",
      "[ 25000 ] : 0.9069916800392906\n",
      "[ 30000 ] : 0.9070689948674403\n",
      "[ 35000 ] : 0.9071057157166343\n",
      "[ 40000 ] : 0.9074369162070931\n",
      "[ 45000 ] : 0.9075115533665706\n",
      "[ 50000 ] : 0.9075342574094396\n",
      "[ 55000 ] : 0.9075950087462262\n",
      "[ 60000 ] : 0.9076085348448928\n",
      "[ 65000 ] : 0.9076274108053197\n",
      "[ 70000 ] : 0.9076052056482911\n",
      "[ 75000 ] : 0.9077138243799101\n",
      "[ 80000 ] : 0.9073086929194978\n",
      "[ 85000 ] : 0.9073183332404271\n",
      "[ 90000 ] : 0.9074419065904424\n",
      "[ 95000 ] : 0.9075235405889471\n",
      "[ 99999 ] : 0.9075987034595184\n",
      "[ 0 ] : 0.9075989272778253\n",
      "[ 5000 ] : 0.9075813707512106\n",
      "[ 10000 ] : 0.9075841058160936\n",
      "[ 15000 ] : 0.907589659040317\n",
      "[ 20000 ] : 0.9075636159838697\n",
      "[ 25000 ] : 0.9076386589148618\n",
      "[ 30000 ] : 0.9075829574830171\n",
      "[ 35000 ] : 0.9076154100778124\n",
      "[ 40000 ] : 0.907514931083412\n",
      "[ 45000 ] : 0.9075736357885031\n",
      "[ 50000 ] : 0.9075198701415527\n",
      "[ 55000 ] : 0.9075277120587664\n",
      "[ 60000 ] : 0.9075185622457322\n",
      "[ 65000 ] : 0.9074693878735992\n",
      "[ 70000 ] : 0.9074068913377112\n",
      "[ 75000 ] : 0.9074508636300863\n",
      "[ 80000 ] : 0.907454658796854\n",
      "[ 85000 ] : 0.9074612649828124\n",
      "[ 90000 ] : 0.907505254923802\n",
      "[ 95000 ] : 0.9075020462267106\n",
      "[ 99999 ] : 0.9074997443059027\n",
      "[ 0 ] : 0.9074998298758812\n",
      "[ 5000 ] : 0.9075418972491653\n",
      "[ 10000 ] : 0.9074985202198704\n",
      "[ 15000 ] : 0.9073947499165886\n",
      "[ 20000 ] : 0.9072434461456221\n",
      "[ 25000 ] : 0.9072538708428276\n",
      "[ 30000 ] : 0.9070369179637132\n",
      "[ 35000 ] : 0.9069706438651669\n",
      "[ 40000 ] : 0.9070567869880268\n",
      "[ 45000 ] : 0.9070982954594387\n",
      "[ 50000 ] : 0.9071552760166122\n",
      "[ 55000 ] : 0.9072644637545777\n",
      "[ 60000 ] : 0.9072889748961244\n",
      "[ 65000 ] : 0.9074344665528763\n",
      "[ 70000 ] : 0.9074614249428241\n",
      "[ 75000 ] : 0.9075830117173005\n",
      "[ 80000 ] : 0.9075257746155976\n",
      "[ 85000 ] : 0.9075088833215429\n",
      "[ 90000 ] : 0.9076846197264719\n",
      "[ 95000 ] : 0.9077351842644448\n",
      "[ 99999 ] : 0.9076957918000577\n",
      "[ 0 ] : 0.9076958578007935\n",
      "[ 5000 ] : 0.9077116532341358\n",
      "[ 10000 ] : 0.9077755014627145\n",
      "[ 15000 ] : 0.9077960008761902\n",
      "[ 20000 ] : 0.9078399360415116\n",
      "[ 25000 ] : 0.9078789278714304\n",
      "[ 30000 ] : 0.9078963383172576\n",
      "[ 35000 ] : 0.9078965820313071\n",
      "[ 40000 ] : 0.9078443339768295\n",
      "[ 45000 ] : 0.9077588035701376\n",
      "[ 50000 ] : 0.907586121459094\n",
      "[ 55000 ] : 0.9076246938380168\n",
      "[ 60000 ] : 0.9076452536651362\n",
      "[ 65000 ] : 0.9077028327395498\n",
      "[ 70000 ] : 0.9077738753562452\n",
      "[ 75000 ] : 0.9078695379375252\n",
      "[ 80000 ] : 0.9078440736332094\n",
      "[ 85000 ] : 0.9079468072308512\n",
      "[ 90000 ] : 0.908072891710661\n",
      "[ 95000 ] : 0.9081576206152806\n",
      "[ 99999 ] : 0.9082190051588237\n",
      "[ 0 ] : 0.9082191287134924\n",
      "[ 5000 ] : 0.9081736119097973\n",
      "[ 10000 ] : 0.90822818013032\n",
      "[ 15000 ] : 0.9082004762256872\n",
      "[ 20000 ] : 0.9082385745793778\n",
      "[ 25000 ] : 0.9081088930825217\n",
      "[ 30000 ] : 0.908199627138714\n",
      "[ 35000 ] : 0.908184222829311\n",
      "[ 40000 ] : 0.9081960415997332\n",
      "[ 45000 ] : 0.9082344609224005\n",
      "[ 50000 ] : 0.9082206689798189\n",
      "[ 55000 ] : 0.9082578551532864\n",
      "[ 60000 ] : 0.908246296444218\n",
      "[ 65000 ] : 0.9055385032112669\n",
      "[ 70000 ] : 0.9056776684558306\n",
      "[ 75000 ] : 0.9057018500743995\n",
      "[ 80000 ] : 0.905512350294583\n",
      "[ 85000 ] : 0.9056294675612608\n",
      "[ 90000 ] : 0.9056303276518454\n",
      "[ 95000 ] : 0.9056944739655631\n",
      "[ 99999 ] : 0.9057244182708868\n",
      "[ 0 ] : 0.9057240711054749\n",
      "[ 5000 ] : 0.9057618174355093\n",
      "[ 10000 ] : 0.9057486225891684\n",
      "[ 15000 ] : 0.9057662465896695\n",
      "[ 20000 ] : 0.9057389893544794\n",
      "[ 25000 ] : 0.9057506933390452\n",
      "[ 30000 ] : 0.9057270054913864\n",
      "[ 35000 ] : 0.9056849703467562\n",
      "[ 40000 ] : 0.905692349833512\n",
      "[ 45000 ] : 0.9057013289670933\n",
      "[ 50000 ] : 0.9056755968699776\n",
      "[ 55000 ] : 0.9056177758767271\n",
      "[ 60000 ] : 0.905579633867602\n",
      "[ 65000 ] : 0.9055575943693663\n",
      "[ 70000 ] : 0.9055421632559189\n",
      "[ 75000 ] : 0.9055645563737678\n",
      "[ 80000 ] : 0.9056056334945485\n",
      "[ 85000 ] : 0.9056024946383171\n",
      "[ 90000 ] : 0.9056500728413089\n",
      "[ 95000 ] : 0.9056773712548168\n",
      "[ 99999 ] : 0.9057745489082135\n",
      "[ 0 ] : 0.9057745381281351\n"
     ]
    },
    {
     "name": "stdout",
     "output_type": "stream",
     "text": [
      "[ 5000 ] : 0.9057368796120633\n",
      "[ 10000 ] : 0.9057637867126467\n",
      "[ 15000 ] : 0.9057479274694294\n",
      "[ 20000 ] : 0.9057475637561899\n",
      "[ 25000 ] : 0.9057380724166103\n",
      "[ 30000 ] : 0.9057917454816918\n",
      "[ 35000 ] : 0.9057262801278856\n",
      "[ 40000 ] : 0.9056731673100256\n",
      "[ 45000 ] : 0.9057163319730996\n",
      "[ 50000 ] : 0.9057290967168096\n",
      "[ 55000 ] : 0.9057414482952731\n",
      "[ 60000 ] : 0.9057159164667468\n",
      "[ 65000 ] : 0.905735360775385\n",
      "[ 70000 ] : 0.9057334843036845\n",
      "[ 75000 ] : 0.9055984098378668\n",
      "[ 80000 ] : 0.9056206977639245\n",
      "[ 85000 ] : 0.9056109703490259\n",
      "[ 90000 ] : 0.905574055763119\n",
      "[ 95000 ] : 0.9056121989026421\n",
      "[ 99999 ] : 0.9055995855637946\n",
      "[ 0 ] : 0.905599470842817\n",
      "[ 5000 ] : 0.9056098112723907\n",
      "[ 10000 ] : 0.90565525781595\n",
      "[ 15000 ] : 0.9054046476294947\n",
      "[ 20000 ] : 0.9050918511220288\n",
      "[ 25000 ] : 0.9049057029167913\n",
      "[ 30000 ] : 0.9049005512376572\n",
      "[ 35000 ] : 0.9049382353142371\n",
      "[ 40000 ] : 0.9049856234319911\n",
      "[ 45000 ] : 0.9048609547633253\n",
      "[ 50000 ] : 0.9047294262702269\n",
      "[ 55000 ] : 0.9046042850330581\n",
      "[ 60000 ] : 0.9045072657691274\n",
      "[ 65000 ] : 0.9044583827602534\n",
      "[ 70000 ] : 0.9043397796347433\n",
      "[ 75000 ] : 0.9042584564266188\n",
      "[ 80000 ] : 0.9041347814352036\n",
      "[ 85000 ] : 0.9040001920944618\n",
      "[ 90000 ] : 0.9039423382993672\n",
      "[ 95000 ] : 0.9039905249113042\n",
      "[ 99999 ] : 0.9040572023178579\n",
      "[ 0 ] : 0.9040573062754047\n",
      "[ 5000 ] : 0.9040699507642932\n",
      "[ 10000 ] : 0.9041335948707695\n",
      "[ 15000 ] : 0.9041588586970959\n",
      "[ 20000 ] : 0.904164529532609\n",
      "[ 25000 ] : 0.9042389544964656\n",
      "[ 30000 ] : 0.9042627847639034\n",
      "[ 35000 ] : 0.9040963277518645\n",
      "[ 40000 ] : 0.9039186093564754\n",
      "[ 45000 ] : 0.9037533591408086\n",
      "[ 50000 ] : 0.9035597154004765\n",
      "[ 55000 ] : 0.9033924257742103\n",
      "[ 60000 ] : 0.9031970799971724\n",
      "[ 65000 ] : 0.9030470404899622\n",
      "[ 70000 ] : 0.9028314696127345\n",
      "[ 75000 ] : 0.9028707229375397\n",
      "[ 80000 ] : 0.9028650209294615\n",
      "[ 85000 ] : 0.9028567904921813\n",
      "[ 90000 ] : 0.9028768704828751\n",
      "[ 95000 ] : 0.9029477036181693\n",
      "[ 99999 ] : 0.9029298999359072\n"
     ]
    }
   ],
   "source": [
    "## Compressing the search corpus\n",
    "\n",
    "compressed_freq_dict = {}\n",
    "total_tokens_before = 0\n",
    "total_tokens_after = 0\n",
    "for path in paths:\n",
    "    compressed_codes = []\n",
    "    print(path)\n",
    "    tree_data = getJsonData(path)\n",
    "    for i in range(len(tree_data)):\n",
    "        try:\n",
    "            tree_copy = copy.deepcopy(tree_data[i])\n",
    "            code, _ = tree2code(tree_copy, 0)\n",
    "            total_tokens_before += len(code.split())\n",
    "            (code, leaf_count, id_count, var_list) = compress(tree_copy)\n",
    "            code, _ = tree2code(tree_copy, 0)\n",
    "        except Exception as e:\n",
    "            print(e)\n",
    "            code, _ = tree2code(tree_data[i], 0)\n",
    "        compressed_code = {\"code\": code}\n",
    "        tokens = code.split()\n",
    "        total_tokens_after += len(tokens)\n",
    "        for token in tokens:\n",
    "            if token not in compressed_freq_dict:\n",
    "                compressed_freq_dict[token] = 0\n",
    "            compressed_freq_dict[token] += 1\n",
    "        compressed_codes.append(compressed_code)\n",
    "        if i%5000 == 0: print(\"[\", i, \"] :\", total_tokens_after/total_tokens_before) \n",
    "    print(\"[\", i, \"] :\", total_tokens_after/total_tokens_before)\n",
    "    dump_dict(compressed_codes, path.replace(\".json\", \"_10k.json\"))"
   ]
  },
  {
   "cell_type": "code",
   "execution_count": 46,
   "metadata": {
    "scrolled": false
   },
   "outputs": [
    {
     "data": {
      "text/plain": [
       "2525098"
      ]
     },
     "execution_count": 46,
     "metadata": {},
     "output_type": "execute_result"
    }
   ],
   "source": [
    "compressed_most_freq = sorted(compressed_freq_dict, key = lambda x:compressed_freq_dict[x], reverse=True)\n",
    "len(compressed_most_freq)"
   ]
  },
  {
   "cell_type": "code",
   "execution_count": 47,
   "metadata": {},
   "outputs": [],
   "source": [
    "accepted_functions = [abstract_code_dict_copy[key]['compressed_name'] for key in abstract_code_keys]"
   ]
  },
  {
   "cell_type": "code",
   "execution_count": 48,
   "metadata": {
    "scrolled": true
   },
   "outputs": [
    {
     "data": {
      "text/plain": [
       "1716"
      ]
     },
     "execution_count": 48,
     "metadata": {},
     "output_type": "execute_result"
    }
   ],
   "source": [
    "common_tokens_after_compression = list(set(compressed_most_freq[:10000]) & set(accepted_functions))\n",
    "len(common_tokens_after_compression)"
   ]
  },
  {
   "cell_type": "markdown",
   "metadata": {},
   "source": [
    "## Coverage"
   ]
  },
  {
   "cell_type": "code",
   "execution_count": 49,
   "metadata": {
    "scrolled": true
   },
   "outputs": [
    {
     "data": {
      "text/plain": [
       "0.798510935318753"
      ]
     },
     "execution_count": 49,
     "metadata": {},
     "output_type": "execute_result"
    }
   ],
   "source": [
    "len(common_tokens_after_compression)/len(accepted_functions)"
   ]
  },
  {
   "cell_type": "code",
   "execution_count": 40,
   "metadata": {},
   "outputs": [],
   "source": [
    "results = []"
   ]
  },
  {
   "cell_type": "code",
   "execution_count": 50,
   "metadata": {},
   "outputs": [],
   "source": [
    "results.append({\n",
    "    \"vocab_size\": 10000,\n",
    "    \"model\": \"search\",\n",
    "    \"compression_ratio\": total_tokens_after/total_tokens_before,\n",
    "    \"coverage\": len(common_tokens_after_compression)/len(accepted_functions),\n",
    "    \"num_token_suggested\": len(abstract_code_keys),\n",
    "    \"compressed_tokens_taken\": len(common_tokens_after_compression)\n",
    "})"
   ]
  },
  {
   "cell_type": "code",
   "execution_count": 51,
   "metadata": {
    "scrolled": true
   },
   "outputs": [],
   "source": [
    "dump_dict(results, 'results.json')"
   ]
  },
  {
   "cell_type": "code",
   "execution_count": null,
   "metadata": {},
   "outputs": [],
   "source": [
    "results = getJsonDatasonData('results.json')"
   ]
  },
  {
   "cell_type": "code",
   "execution_count": 42,
   "metadata": {
    "scrolled": true
   },
   "outputs": [
    {
     "data": {
      "text/plain": [
       "2149"
      ]
     },
     "execution_count": 42,
     "metadata": {},
     "output_type": "execute_result"
    }
   ],
   "source": [
    "len(abstract_code_keys)"
   ]
  },
  {
   "cell_type": "code",
   "execution_count": null,
   "metadata": {
    "scrolled": true
   },
   "outputs": [],
   "source": [
    "oov = list(set(accepted_functions) - set(compressed_most_freq[:vocab_size]))\n",
    "len(oov)"
   ]
  },
  {
   "cell_type": "code",
   "execution_count": null,
   "metadata": {
    "scrolled": true
   },
   "outputs": [],
   "source": [
    "for o in oov:\n",
    "    a = abstract_code_dict[func2abs[o]]\n",
    "    print(func2abs[o], a)"
   ]
  },
  {
   "cell_type": "code",
   "execution_count": null,
   "metadata": {},
   "outputs": [],
   "source": [
    "'$F406149' in compressed_freq_dict"
   ]
  },
  {
   "cell_type": "code",
   "execution_count": null,
   "metadata": {
    "scrolled": true
   },
   "outputs": [],
   "source": [
    "common_tokens_after_compression[0]"
   ]
  },
  {
   "cell_type": "markdown",
   "metadata": {},
   "source": []
  },
  {
   "cell_type": "code",
   "execution_count": 52,
   "metadata": {
    "scrolled": true
   },
   "outputs": [
    {
     "data": {
      "text/plain": [
       "1569889"
      ]
     },
     "execution_count": 52,
     "metadata": {},
     "output_type": "execute_result"
    }
   ],
   "source": [
    "len(compressed_codes)"
   ]
  },
  {
   "cell_type": "code",
   "execution_count": 53,
   "metadata": {},
   "outputs": [],
   "source": [
    "#[16, \n",
    "sequence =  [8, 4, 5, 13, 15, 1, 6, 11, 10, 2, 9, 12, 14, 3, 7]"
   ]
  },
  {
   "cell_type": "code",
   "execution_count": 65,
   "metadata": {},
   "outputs": [
    {
     "data": {
      "text/plain": [
       "{'code': '$F61 public void execute $F74 throws BuildException { \\n\\tif ( ! StringUtils . hasText ( this . refid ) ) { \\n\\t\\tthrow new BuildException $F1378 ; \\n\\t\\t} \\n\\tgetProject ( ) . addReference ( this . refid , $F3142 ( getClass ) ) ; \\n\\t} \\n'}"
      ]
     },
     "execution_count": 65,
     "metadata": {},
     "output_type": "execute_result"
    }
   ],
   "source": [
    "all_data[0]"
   ]
  },
  {
   "cell_type": "code",
   "execution_count": 64,
   "metadata": {},
   "outputs": [
    {
     "name": "stdout",
     "output_type": "stream",
     "text": [
      "  adding: ../csn_compressed_codes/10k_upperbound_1.5M/10k_upperbound_search.json (deflated 83%)\n"
     ]
    }
   ],
   "source": []
  },
  {
   "cell_type": "markdown",
   "metadata": {},
   "source": [
    "# Sub-Tokenization"
   ]
  },
  {
   "cell_type": "code",
   "execution_count": null,
   "metadata": {},
   "outputs": [],
   "source": [
    "def state(c):\n",
    "    n = ord(c)\n",
    "    if n>=97 and n<=122: # lower case\n",
    "        return 1\n",
    "    elif n>=65 and n<=90: # upper case\n",
    "        return 2\n",
    "    elif n>=48 and n<=57: # numbers\n",
    "        return 3\n",
    "    elif c.isspace(): # whitespaces\n",
    "        return 4\n",
    "    elif c in ['_', '$']: \n",
    "        return 5\n",
    "    elif n < 128:\n",
    "        return 6\n",
    "    else:\n",
    "        return 7\n",
    "\n",
    "def space_up(s):\n",
    "    if s is None or s == \"\":\n",
    "        return \"\"\n",
    "    new_s = s[0]\n",
    "    for i in range(1,len(s)):\n",
    "        prev_state = state(s[i-1])\n",
    "        curr_state = state(s[i])\n",
    "        if prev_state in [1,2] and curr_state in [3]:\n",
    "            new_s += \" \"\n",
    "        elif prev_state in [1] and curr_state in [2]:\n",
    "            new_s += \" \"\n",
    "        elif prev_state in [3] and curr_state in [1,2]:\n",
    "            new_s += \" \"\n",
    "        elif prev_state in [1,2,3] and curr_state in [5]:\n",
    "            new_s += \" \"\n",
    "        elif prev_state in [5] and curr_state in [1,2,3]:\n",
    "            new_s += \" \"\n",
    "        new_s+=s[i]\n",
    "    return new_s\n"
   ]
  },
  {
   "cell_type": "code",
   "execution_count": null,
   "metadata": {},
   "outputs": [],
   "source": []
  }
 ],
 "metadata": {
  "kernelspec": {
   "display_name": "Python 3",
   "language": "python",
   "name": "python3"
  },
  "language_info": {
   "codemirror_mode": {
    "name": "ipython",
    "version": 3
   },
   "file_extension": ".py",
   "mimetype": "text/x-python",
   "name": "python",
   "nbconvert_exporter": "python",
   "pygments_lexer": "ipython3",
   "version": "3.6.8"
  }
 },
 "nbformat": 4,
 "nbformat_minor": 4
}
