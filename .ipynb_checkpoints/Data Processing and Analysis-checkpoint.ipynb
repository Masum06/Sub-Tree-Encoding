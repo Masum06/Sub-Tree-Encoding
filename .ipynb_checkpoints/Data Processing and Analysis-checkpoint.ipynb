{
 "cells": [
  {
   "cell_type": "code",
   "execution_count": null,
   "metadata": {},
   "outputs": [],
   "source": [
    "import pickle"
   ]
  },
  {
   "cell_type": "code",
   "execution_count": null,
   "metadata": {},
   "outputs": [],
   "source": [
    "filename = \"../CodeSearchNet/big_csn_data/CodeSearchNet_Java_Search_Preliminary.pkl\"\n",
    "infile = open(filename,'rb')\n",
    "new_dict = pickle.load(infile)\n",
    "infile.close()"
   ]
  },
  {
   "cell_type": "code",
   "execution_count": null,
   "metadata": {
    "scrolled": false
   },
   "outputs": [],
   "source": [
    "len(new_dict)"
   ]
  },
  {
   "cell_type": "code",
   "execution_count": null,
   "metadata": {
    "scrolled": true
   },
   "outputs": [],
   "source": [
    "i = -1 #+(100000)*15\n",
    "print(new_dict[i]['function'])"
   ]
  },
  {
   "cell_type": "code",
   "execution_count": null,
   "metadata": {
    "scrolled": false
   },
   "outputs": [],
   "source": [
    "len(new_dict[i]['function_tokens'])"
   ]
  },
  {
   "cell_type": "markdown",
   "metadata": {},
   "source": [
    "## Analyzing Compression"
   ]
  },
  {
   "cell_type": "code",
   "execution_count": 1,
   "metadata": {},
   "outputs": [],
   "source": [
    "import json\n",
    "import copy"
   ]
  },
  {
   "cell_type": "code",
   "execution_count": 2,
   "metadata": {},
   "outputs": [],
   "source": [
    "def getJsonData(JsonFile):\n",
    "    with open(JsonFile, encoding=\"utf8\") as f:\n",
    "        data = json.load(f)\n",
    "    return data"
   ]
  },
  {
   "cell_type": "code",
   "execution_count": 3,
   "metadata": {},
   "outputs": [],
   "source": [
    "def getJsonDataLineByLine(JsonFile):\n",
    "    data = []\n",
    "    i = 0\n",
    "    with open(JsonFile) as f:\n",
    "        for line in f:\n",
    "            i += 1\n",
    "            line = line.strip()\n",
    "            if line[0] == '[':\n",
    "                line = line[1:]\n",
    "            elif line[-1] == ']':\n",
    "                line = line[:-1]\n",
    "            if line[-1] == ',':\n",
    "                line = line[:-1]\n",
    "            try:\n",
    "                data.append(json.loads(line))\n",
    "                if i%10000 == 0: print(i, \"success\")\n",
    "            except:\n",
    "                data.append('''{\"classBodyDeclaration\": \"\"}''')\n",
    "                print(i, \"failure\")\n",
    "                print(line)\n",
    "    return data"
   ]
  },
  {
   "cell_type": "code",
   "execution_count": 4,
   "metadata": {},
   "outputs": [],
   "source": [
    "def getJsonDataSafe(JsonFile):\n",
    "    try:\n",
    "        return getJsonData(JsonFile)\n",
    "    except Exception as e:\n",
    "        print(e)\n",
    "        print(\"Loading JSON failed. Attempting safe method.\")\n",
    "        return getJsonDataLineByLine(JsonFile)"
   ]
  },
  {
   "cell_type": "code",
   "execution_count": 5,
   "metadata": {},
   "outputs": [],
   "source": [
    "def dump_dict(data, name):\n",
    "    with open(name, 'w', encoding=\"utf8\") as f:\n",
    "        json.dump(data, f)"
   ]
  },
  {
   "cell_type": "markdown",
   "metadata": {},
   "source": [
    "# Visualize Tree"
   ]
  },
  {
   "cell_type": "code",
   "execution_count": 6,
   "metadata": {},
   "outputs": [],
   "source": [
    "def travarse(tree):\n",
    "    if 'type' in tree:\n",
    "        print(tree['text'], end=\" \")\n",
    "        if tree['text'] in [';', '{', '}']:\n",
    "            print()\n",
    "        return\n",
    "    else:\n",
    "        root = list(tree.keys())[0]\n",
    "        children = tree[root]\n",
    "        for child in children:\n",
    "            travarse(child)"
   ]
  },
  {
   "cell_type": "code",
   "execution_count": 7,
   "metadata": {},
   "outputs": [],
   "source": [
    "def tree2code(tree, indentation):\n",
    "    if 'type' in tree:\n",
    "        code = tree['text'] + ' '\n",
    "        if tree['text'] in [';', '{', '}']:\n",
    "            code += '\\n'\n",
    "            if tree['text'] == '{':\n",
    "                indentation += 1\n",
    "            elif tree['text'] == '}':\n",
    "                indentation -= 1\n",
    "            code += '\\t'*indentation\n",
    "        return code, indentation\n",
    "    else:\n",
    "        root = list(tree.keys())[0]\n",
    "        children = tree[root]\n",
    "        code = \"\"\n",
    "        for child in children:\n",
    "            t, indentation = tree2code(child, indentation)\n",
    "            code += t\n",
    "        return code, indentation"
   ]
  },
  {
   "cell_type": "code",
   "execution_count": 8,
   "metadata": {},
   "outputs": [],
   "source": [
    "def printCode(tree):\n",
    "    code, _ = tree2code(tree, 0)\n",
    "    print(code)\n",
    "    print(\"Count:\", len(code.split()))"
   ]
  },
  {
   "cell_type": "code",
   "execution_count": 9,
   "metadata": {
    "scrolled": false
   },
   "outputs": [
    {
     "name": "stderr",
     "output_type": "stream",
     "text": [
      "Parameter format not correct - \"csn_big_only_trees\".\n"
     ]
    }
   ],
   "source": [
    "ls ../csn_big_only_trees/"
   ]
  },
  {
   "cell_type": "code",
   "execution_count": null,
   "metadata": {},
   "outputs": [],
   "source": [
    "uncompressed_data = getJsonData('../csn_big_only_trees/csn_big_1.json')"
   ]
  },
  {
   "cell_type": "code",
   "execution_count": null,
   "metadata": {},
   "outputs": [],
   "source": [
    "compressed_data = getJsonData('../CodeSearchNet/train_test_valid_data_10k/java_train_1u_10k_compressed.json')"
   ]
  },
  {
   "cell_type": "code",
   "execution_count": null,
   "metadata": {},
   "outputs": [],
   "source": [
    "bef_comp = 0\n",
    "aft_comp = 0\n",
    "for i in range(len(compressed_data)):\n",
    "    code, _ = tree2code(uncompressed_data[i], 0)\n",
    "    num_tokens = len(code.split())\n",
    "    compressed_tokens = len(compressed_data[i]['code'].split())\n",
    "    bef_comp += num_tokens\n",
    "    aft_comp += compressed_tokens\n",
    "    if not compressed_tokens:\n",
    "        aft_comp += num_tokens\n",
    "\n",
    "print(1-aft_comp/bef_comp)"
   ]
  },
  {
   "cell_type": "code",
   "execution_count": null,
   "metadata": {},
   "outputs": [],
   "source": [
    "i = 205"
   ]
  },
  {
   "cell_type": "code",
   "execution_count": null,
   "metadata": {},
   "outputs": [],
   "source": []
  },
  {
   "cell_type": "code",
   "execution_count": null,
   "metadata": {
    "scrolled": true
   },
   "outputs": [],
   "source": [
    "code, _ = tree2code(uncompressed_data[i], 0)\n",
    "num_tokens = len(code.split())\n",
    "print(code)\n",
    "print(num_tokens)\n",
    "print(\"================================\")\n",
    "print(compressed_data[i]['code'])\n",
    "compressed_tokens = len(compressed_data[i]['code'].split())\n",
    "print(compressed_tokens)\n",
    "print(\"Compression Ratio:\", compressed_tokens/num_tokens)\n",
    "i+=1"
   ]
  },
  {
   "cell_type": "code",
   "execution_count": null,
   "metadata": {},
   "outputs": [],
   "source": []
  },
  {
   "cell_type": "code",
   "execution_count": null,
   "metadata": {},
   "outputs": [],
   "source": [
    "0.2104572106016639"
   ]
  },
  {
   "cell_type": "markdown",
   "metadata": {},
   "source": [
    "## How many of the compressed tokens were present in the top 10k train data?"
   ]
  },
  {
   "cell_type": "code",
   "execution_count": null,
   "metadata": {},
   "outputs": [],
   "source": [
    "abstract_code_dict = getJsonData('../CodeSearchNet/abstract_code_dict_500k_w_child.json')"
   ]
  },
  {
   "cell_type": "code",
   "execution_count": null,
   "metadata": {},
   "outputs": [],
   "source": [
    "abstract_code_keys = sorted(abstract_code_dict, key = lambda x:abstract_code_dict[x]['count'], reverse=True)"
   ]
  },
  {
   "cell_type": "code",
   "execution_count": null,
   "metadata": {},
   "outputs": [],
   "source": [
    "abstract_code_dict[abstract_code_keys[110]]"
   ]
  },
  {
   "cell_type": "code",
   "execution_count": null,
   "metadata": {},
   "outputs": [],
   "source": [
    "most_freq_25k = [abstract_code_dict[abstract_code_keys[i]]['compressed_name'] for i in range(25000)]"
   ]
  },
  {
   "cell_type": "code",
   "execution_count": null,
   "metadata": {},
   "outputs": [],
   "source": [
    "most_freq_10k = [abstract_code_dict[abstract_code_keys[i]]['compressed_name'] for i in range(10000)]"
   ]
  },
  {
   "cell_type": "code",
   "execution_count": null,
   "metadata": {
    "scrolled": true
   },
   "outputs": [],
   "source": [
    "most_freq_25k[:1000]"
   ]
  },
  {
   "cell_type": "code",
   "execution_count": null,
   "metadata": {},
   "outputs": [],
   "source": [
    "#!mkdir ../CodeSearchNet/25k\n",
    "#!mv ../CodeSearchNet/train-test-valid_25kf.zip ../CodeSearchNet/25k/\n",
    "#!unzip ../CodeSearchNet/25k/train-test-valid_25kf.zip\n",
    "!ls ../CodeSearchNet/train_test_valid_data_10k/"
   ]
  },
  {
   "cell_type": "code",
   "execution_count": null,
   "metadata": {},
   "outputs": [],
   "source": [
    "import glob\n",
    "dirs = glob.glob('../CodeSearchNet/train_test_valid_data_10k_500k/*_train_*')\n",
    "dirs"
   ]
  },
  {
   "cell_type": "code",
   "execution_count": null,
   "metadata": {},
   "outputs": [],
   "source": [
    "freq_dict = {}\n",
    "for path in dirs:\n",
    "    dataset = getJsonData(path)\n",
    "    for data in dataset:\n",
    "        code = data['code']\n",
    "        code_tokens = code.split()\n",
    "        for token in code_tokens:\n",
    "            if token not in freq_dict:\n",
    "                freq_dict[token] = 0\n",
    "            freq_dict[token] += 1"
   ]
  },
  {
   "cell_type": "code",
   "execution_count": null,
   "metadata": {},
   "outputs": [],
   "source": [
    "len(freq_dict)"
   ]
  },
  {
   "cell_type": "code",
   "execution_count": null,
   "metadata": {},
   "outputs": [],
   "source": [
    "# 25k compressed total tokens: 1024352\n",
    "# 10k compressed total tokens: 1160247"
   ]
  },
  {
   "cell_type": "code",
   "execution_count": null,
   "metadata": {},
   "outputs": [],
   "source": [
    "data_freq_list = sorted(freq_dict, key = lambda x:freq_dict[x], reverse=True)"
   ]
  },
  {
   "cell_type": "code",
   "execution_count": null,
   "metadata": {},
   "outputs": [],
   "source": [
    "top_data_freq_list = data_freq_list[:30000]"
   ]
  },
  {
   "cell_type": "code",
   "execution_count": null,
   "metadata": {
    "scrolled": true
   },
   "outputs": [],
   "source": [
    "top_data_freq_list[:1000]"
   ]
  },
  {
   "cell_type": "code",
   "execution_count": null,
   "metadata": {},
   "outputs": [],
   "source": [
    "common_tokens = list(set(top_data_freq_list) & set(most_freq_10k))"
   ]
  },
  {
   "cell_type": "code",
   "execution_count": null,
   "metadata": {
    "scrolled": true
   },
   "outputs": [],
   "source": [
    "len(common_tokens)"
   ]
  },
  {
   "cell_type": "code",
   "execution_count": null,
   "metadata": {},
   "outputs": [],
   "source": [
    "len(top_data_freq_list)"
   ]
  },
  {
   "cell_type": "markdown",
   "metadata": {},
   "source": [
    "Dumping common union vocabs"
   ]
  },
  {
   "cell_type": "code",
   "execution_count": null,
   "metadata": {},
   "outputs": [],
   "source": [
    "list_10k_10k = []"
   ]
  },
  {
   "cell_type": "code",
   "execution_count": null,
   "metadata": {},
   "outputs": [],
   "source": [
    "for token in top_data_freq_list:\n",
    "    list_10k_10k.append({'token':token, 'count':freq_dict[token]})"
   ]
  },
  {
   "cell_type": "code",
   "execution_count": null,
   "metadata": {},
   "outputs": [],
   "source": [
    "additional_compressed_tokens = list(set(most_freq_10k) - set(top_data_freq_list))\n",
    "len(additional_compressed_tokens)"
   ]
  },
  {
   "cell_type": "code",
   "execution_count": null,
   "metadata": {},
   "outputs": [],
   "source": [
    "for token in additional_compressed_tokens:\n",
    "    if token in freq_dict:\n",
    "        list_10k_10k.append({'token':token, 'count':freq_dict[token]})"
   ]
  },
  {
   "cell_type": "code",
   "execution_count": null,
   "metadata": {},
   "outputs": [],
   "source": [
    "len(list_10k_10k)"
   ]
  },
  {
   "cell_type": "code",
   "execution_count": null,
   "metadata": {},
   "outputs": [],
   "source": [
    "dump_dict(list_10k_10k, \"list_10k_10k.json\")"
   ]
  },
  {
   "cell_type": "code",
   "execution_count": null,
   "metadata": {},
   "outputs": [],
   "source": []
  },
  {
   "cell_type": "markdown",
   "metadata": {},
   "source": [
    "Testing out data outside vocab"
   ]
  },
  {
   "cell_type": "code",
   "execution_count": null,
   "metadata": {},
   "outputs": [],
   "source": [
    "not_in_vocab = list(set(most_freq_10k) - set(top_data_freq_list))\n",
    "len(not_in_vocab)"
   ]
  },
  {
   "cell_type": "code",
   "execution_count": null,
   "metadata": {
    "scrolled": true
   },
   "outputs": [],
   "source": [
    "not_in_vocab[:100]"
   ]
  },
  {
   "cell_type": "code",
   "execution_count": null,
   "metadata": {
    "scrolled": true
   },
   "outputs": [],
   "source": [
    "for f in not_in_vocab:\n",
    "    print(f,\"||\", func2abs[f],\"||\", abstract_code_dict[func2abs[f]]['count'])"
   ]
  },
  {
   "cell_type": "code",
   "execution_count": null,
   "metadata": {
    "scrolled": true
   },
   "outputs": [],
   "source": [
    "for f in common_tokens[:1000]:\n",
    "    print(f,\"||\", func2abs[f],\"||\", abstract_code_dict[func2abs[f]]['count'])"
   ]
  },
  {
   "cell_type": "code",
   "execution_count": null,
   "metadata": {
    "scrolled": true
   },
   "outputs": [],
   "source": [
    "abstract_code_dict[abstract_code_keys[10000]]"
   ]
  },
  {
   "cell_type": "code",
   "execution_count": null,
   "metadata": {
    "scrolled": true
   },
   "outputs": [],
   "source": [
    "abstract_code_dict['( ( AbstractISUPParameter ) $id0 ) . decode ( $id1 ) ;']"
   ]
  },
  {
   "cell_type": "code",
   "execution_count": null,
   "metadata": {},
   "outputs": [],
   "source": [
    "'$F2570015' in common_tokens"
   ]
  },
  {
   "cell_type": "code",
   "execution_count": null,
   "metadata": {},
   "outputs": [],
   "source": [
    "len(abstract_code_keys)\n",
    "#1144264"
   ]
  },
  {
   "cell_type": "code",
   "execution_count": null,
   "metadata": {
    "scrolled": false
   },
   "outputs": [],
   "source": [
    "i = -1\n",
    "abstract_code_keys2 = []\n",
    "for key in abstract_code_keys:\n",
    "    i+=1\n",
    "    parent = key + \" ;\" \n",
    "    if parent in abstract_code_keys:\n",
    "        if not i%1000: print(i)\n",
    "        if abstract_code_dict[key]['count'] != abstract_code_dict[parent]['count']:\n",
    "            abstract_code_keys2.append(key)\n",
    "\n",
    "abstract_code_keys = abstract_code_keys2\n",
    "len(abstract_code_keys)"
   ]
  },
  {
   "cell_type": "code",
   "execution_count": null,
   "metadata": {
    "scrolled": true
   },
   "outputs": [],
   "source": [
    "i = -1\n",
    "abstract_code_keys2 = []\n",
    "for key in abstract_code_keys:\n",
    "    i+=1\n",
    "    if not i%100: print(i)\n",
    "    #abstract_code_keys.remove(key)\n",
    "    abstract_code_keys2.append(key)"
   ]
  },
  {
   "cell_type": "markdown",
   "metadata": {},
   "source": [
    "## Removing child counts"
   ]
  },
  {
   "cell_type": "code",
   "execution_count": null,
   "metadata": {},
   "outputs": [],
   "source": [
    "min_freq = freq_dict[data_freq_list[30000]]\n",
    "min_freq"
   ]
  },
  {
   "cell_type": "code",
   "execution_count": null,
   "metadata": {},
   "outputs": [],
   "source": [
    "for discard_after in range(len(abstract_code_keys)):\n",
    "    key = abstract_code_keys[discard_after]\n",
    "    if abstract_code_dict[key]['count'] <= min_freq:\n",
    "        break\n",
    "discard_after"
   ]
  },
  {
   "cell_type": "code",
   "execution_count": null,
   "metadata": {},
   "outputs": [],
   "source": [
    "func2abs = {}\n",
    "\n",
    "for key in abstract_code_dict:\n",
    "    func2abs[abstract_code_dict[key]['compressed_name']] = key"
   ]
  },
  {
   "cell_type": "code",
   "execution_count": null,
   "metadata": {},
   "outputs": [],
   "source": [
    "accepted_abstract_keys = abstract_code_keys[:discard_after]\n",
    "abstract_code_dict_modified = copy.deepcopy(abstract_code_dict)"
   ]
  },
  {
   "cell_type": "code",
   "execution_count": null,
   "metadata": {
    "scrolled": false
   },
   "outputs": [],
   "source": [
    "for key in accepted_abstract_keys:\n",
    "    children = abstract_code_dict[key]['children']\n",
    "    if children:\n",
    "        count = abstract_code_dict[key]['count']\n",
    "        for child in children:\n",
    "            try:\n",
    "                child_key = func2abs[child]\n",
    "            except:\n",
    "                print(\"parent:\", abstract_code_dict_modified[key], \"child:\", child)\n",
    "            abstract_code_dict_modified[child_key]['count'] -= count"
   ]
  },
  {
   "cell_type": "code",
   "execution_count": null,
   "metadata": {},
   "outputs": [],
   "source": [
    "abstract_code_keys = sorted(abstract_code_dict_modified, key = lambda x:abstract_code_dict_modified[x]['count'], reverse=True)"
   ]
  },
  {
   "cell_type": "code",
   "execution_count": null,
   "metadata": {},
   "outputs": [],
   "source": [
    "for discard_after in range(len(abstract_code_keys)):\n",
    "    key = abstract_code_keys[discard_after]\n",
    "    if abstract_code_dict_modified[key]['count'] <= min_freq:\n",
    "        break\n",
    "discard_after"
   ]
  },
  {
   "cell_type": "code",
   "execution_count": null,
   "metadata": {},
   "outputs": [],
   "source": [
    "accepted_abstract_keys = abstract_code_keys[:discard_after]"
   ]
  },
  {
   "cell_type": "code",
   "execution_count": null,
   "metadata": {},
   "outputs": [],
   "source": [
    "len(top_data_freq_list)"
   ]
  },
  {
   "cell_type": "code",
   "execution_count": null,
   "metadata": {},
   "outputs": [],
   "source": [
    "abstract_code_dict2 = getJsonData('../CodeSearchNet/abstract_code_dict_500k.json')"
   ]
  },
  {
   "cell_type": "code",
   "execution_count": null,
   "metadata": {},
   "outputs": [],
   "source": [
    "accepted_abstract_funcs = [ abstract_code_dict2[x]['compressed_name'] for x in accepted_abstract_keys ]"
   ]
  },
  {
   "cell_type": "code",
   "execution_count": null,
   "metadata": {},
   "outputs": [],
   "source": [
    "not_in_vocab = list(set(accepted_abstract_funcs) & set(top_data_freq_list))\n",
    "len(not_in_vocab)"
   ]
  },
  {
   "cell_type": "markdown",
   "metadata": {},
   "source": [
    "## Testing new model"
   ]
  },
  {
   "cell_type": "code",
   "execution_count": 10,
   "metadata": {},
   "outputs": [],
   "source": [
    "## Loading one training data\n",
    "tree_data = getJsonData(\"../test_data/java_train_3.json\")"
   ]
  },
  {
   "cell_type": "code",
   "execution_count": 11,
   "metadata": {},
   "outputs": [
    {
     "name": "stdout",
     "output_type": "stream",
     "text": [
      "[ 0 ]\n",
      "[ 5000 ]\n",
      "[ 10000 ]\n",
      "[ 15000 ]\n",
      "[ 20000 ]\n",
      "[ 25000 ]\n"
     ]
    }
   ],
   "source": [
    "## build freq_dict\n",
    "freq_dict = {}\n",
    "uncompressed_codes = []\n",
    "\n",
    "for i in range(len(tree_data)):\n",
    "    if i%5000 == 0: print(\"[\", i, \"]\")\n",
    "    code, _ = tree2code(tree_data[i], 0)\n",
    "    uncompressed_codes.append({\"code\": code})\n",
    "    tokens = code.split()\n",
    "\n",
    "    for token in tokens:\n",
    "        if token not in freq_dict: freq_dict[token] = 0\n",
    "        freq_dict[token] += 1"
   ]
  },
  {
   "cell_type": "code",
   "execution_count": 13,
   "metadata": {},
   "outputs": [],
   "source": [
    "dump_dict(uncompressed_codes, \"../test_data/uncompressed_codes_train_3.json\")"
   ]
  },
  {
   "cell_type": "code",
   "execution_count": 14,
   "metadata": {},
   "outputs": [],
   "source": [
    "import ast\n",
    "def get_compressed_func():\n",
    "    global compression_number\n",
    "    compression_number += 1\n",
    "    return \"$F\"+str(compression_number)"
   ]
  },
  {
   "cell_type": "code",
   "execution_count": 27,
   "metadata": {},
   "outputs": [],
   "source": [
    "def build_dict(tree):\n",
    "    var_list = []\n",
    "    global abstract_code_dict\n",
    "    global num_to_compress\n",
    "    global function2abstract\n",
    "    \n",
    "    if 'text' in tree:\n",
    "        code = tree[\"text\"] + \" \"\n",
    "        #print(\"**:\\t\",code, 1)\n",
    "        return (code, 1, 0, [], None)\n",
    "    else:\n",
    "        parent = list(tree.keys())[0]\n",
    "        children = tree[parent]\n",
    "        if len(children) == 0:\n",
    "            return (\"\", 0, 0, [], None)\n",
    "        \n",
    "        code = \"\"\n",
    "        compressed_func = None\n",
    "        leaf_count = 0\n",
    "        id_count = 0\n",
    "        children_list = []\n",
    "        #leaf_list = []\n",
    "        \n",
    "        '''\n",
    "        and not (len(children) == 2 and 'text' in children[1] and children[1]['text'] == ';')\\\n",
    "        and not (len(children) == 3 and 'text' in children[0] and 'text' in children[2] and \\\n",
    "                 ((children[0]['text'] == '(' and children[2]['text'] == ')') or \n",
    "                  (children[0]['text'] == '{' and children[2]['text'] == '}') or\n",
    "                  (children[0]['text'] == '[' and children[2]['text'] == ']')))\n",
    "        '''\n",
    "        \n",
    "        if len(children) > 1:\n",
    "            for child in children:\n",
    "                (c, n, i, vl, f) = build_dict(child)\n",
    "                code += c\n",
    "                leaf_count += n\n",
    "                id_count += i\n",
    "                var_list += [v for v in vl if v not in var_list]\n",
    "                if f: children_list.append(f)\n",
    "                #else: leaf_list += code.split()\n",
    "                \n",
    "            if (var_list and leaf_count - len(var_list) >= 4) or (not var_list and leaf_count > 1) :\n",
    "                abstract_code = code.split()\n",
    "                for i in range(len(abstract_code)):\n",
    "                    if abstract_code[i] in var_list:\n",
    "                        abstract_code[i] = \"$id{}\".format(var_list.index(abstract_code[i]))\n",
    "                abstract_code = ' '.join(abstract_code)\n",
    "                \n",
    "                if abstract_code not in abstract_code_dict:\n",
    "                    compressed_func = get_compressed_func()\n",
    "                    abstract_code_dict[abstract_code] = {\n",
    "                        'count': 0, \n",
    "                        'compressed_name': compressed_func,\n",
    "                        'num_params': len(var_list),\n",
    "                        'children': children_list,\n",
    "                        #'leaves': leaf_list\n",
    "                    }\n",
    "                    function2abstract[compressed_func] = abstract_code\n",
    "                else:\n",
    "                    compressed_func = abstract_code_dict[abstract_code]['compressed_name']\n",
    "                \n",
    "                abstract_code_dict[abstract_code]['count'] += 1\n",
    "#                 children_list.insert(0, compressed_func)\n",
    "                \n",
    "            return (code, leaf_count, id_count, var_list, compressed_func)\n",
    "        \n",
    "        if parent == \"literal\":\n",
    "            child = children[0]\n",
    "            child_text = child[\"text\"]\n",
    "            try:\n",
    "                if child_text in ['null', 'true', 'false']:\n",
    "                    pass\n",
    "                elif type(ast.literal_eval(child_text)) == type(\"STRING\"):\n",
    "                    children[0][\"text\"] = \"STRING00\"\n",
    "                elif type(ast.literal_eval(child_text)) == type(1):\n",
    "                    children[0][\"text\"] = \"INT00\"\n",
    "                elif type(ast.literal_eval(child_text)) == type(1.1):\n",
    "                    children[0][\"text\"] = \"FLOAT00\"\n",
    "            except:\n",
    "                children[0][\"text\"] = \"NUM00\"\n",
    "            code = children[0][\"text\"] + \" \"\n",
    "#==================================================================\n",
    "        elif parent == \"primary\" and 'type' in children[0]:\n",
    "            id_count += 1\n",
    "            text = children[0][\"text\"]\n",
    "            if text not in var_list:\n",
    "                var_list.append(text)\n",
    "            code = text + \" \"\n",
    "        elif parent == \"variableDeclaratorId\" and 'type' in children[0]:\n",
    "            id_count += 1\n",
    "            text = children[0][\"text\"]\n",
    "            if text not in var_list:\n",
    "                var_list.append(text)\n",
    "            code = text + \" \"\n",
    "#=================================================================\n",
    "        else:\n",
    "            (code, leaf_count, i, vl, compressed_func) = build_dict(children[0])\n",
    "            id_count += i\n",
    "            var_list += [v for v in vl if v not in var_list]\n",
    "        \n",
    "        return (code, leaf_count, id_count, var_list, compressed_func)"
   ]
  },
  {
   "cell_type": "markdown",
   "metadata": {},
   "source": [
    "### Building Dictionary\n",
    "[Parent Child](#Parent-child)"
   ]
  },
  {
   "cell_type": "code",
   "execution_count": 28,
   "metadata": {},
   "outputs": [],
   "source": [
    "abstract_code_dict = {}\n",
    "compression_number = 0\n",
    "function2abstract = {}"
   ]
  },
  {
   "cell_type": "code",
   "execution_count": 29,
   "metadata": {},
   "outputs": [],
   "source": [
    "for data in tree_data:\n",
    "    build_dict(data)"
   ]
  },
  {
   "cell_type": "code",
   "execution_count": 31,
   "metadata": {
    "scrolled": true
   },
   "outputs": [
    {
     "data": {
      "text/plain": [
       "411217"
      ]
     },
     "execution_count": 31,
     "metadata": {},
     "output_type": "execute_result"
    }
   ],
   "source": [
    "abstract_code_keys = sorted(abstract_code_dict, key = lambda x:abstract_code_dict[x]['count'], reverse=True)\n",
    "len(abstract_code_keys)"
   ]
  },
  {
   "cell_type": "code",
   "execution_count": 32,
   "metadata": {
    "scrolled": true
   },
   "outputs": [
    {
     "name": "stdout",
     "output_type": "stream",
     "text": [
      "( ) --> {'count': 13831, 'compressed_name': '$F1', 'num_params': 0, 'children': []}\n",
      "@ Override --> {'count': 5896, 'compressed_name': '$F178', 'num_params': 0, 'children': []}\n",
      "( NUM00 ) --> {'count': 5555, 'compressed_name': '$F84', 'num_params': 0, 'children': []}\n",
      "IllegalArgumentException ( NUM00 ) --> {'count': 3727, 'compressed_name': '$F2241', 'num_params': 0, 'children': ['$F84']}\n",
      "new IllegalArgumentException ( NUM00 ) --> {'count': 3727, 'compressed_name': '$F2242', 'num_params': 0, 'children': ['$F2241']}\n",
      "throw new IllegalArgumentException ( NUM00 ) ; --> {'count': 3726, 'compressed_name': '$F2243', 'num_params': 0, 'children': ['$F2242']}\n",
      "break ; --> {'count': 3654, 'compressed_name': '$F1188', 'num_params': 0, 'children': []}\n",
      "{ throw new IllegalArgumentException ( NUM00 ) ; } --> {'count': 3567, 'compressed_name': '$F2244', 'num_params': 0, 'children': ['$F2243']}\n",
      "return $id0 . body ( ) ; --> {'count': 2244, 'compressed_name': '$F354778', 'num_params': 1, 'children': []}\n",
      "{ return $id0 . body ( ) ; } --> {'count': 2244, 'compressed_name': '$F354779', 'num_params': 1, 'children': ['$F354778']}\n",
      "if ( $id0 == null ) { throw new IllegalArgumentException ( NUM00 ) ; } --> {'count': 2110, 'compressed_name': '$F5224', 'num_params': 1, 'children': ['$F2244']}\n",
      "return null ; --> {'count': 1819, 'compressed_name': '$F2', 'num_params': 0, 'children': []}\n",
      "< String > --> {'count': 1684, 'compressed_name': '$F229', 'num_params': 0, 'children': []}\n",
      "return false ; --> {'count': 1524, 'compressed_name': '$F467', 'num_params': 0, 'children': []}\n",
      "< Void > --> {'count': 1452, 'compressed_name': '$F19297', 'num_params': 0, 'children': []}\n",
      "return ; --> {'count': 1411, 'compressed_name': '$F383', 'num_params': 0, 'children': []}\n",
      "< > --> {'count': 1401, 'compressed_name': '$F231', 'num_params': 0, 'children': []}\n",
      "< ResponseBody > --> {'count': 1316, 'compressed_name': '$F354838', 'num_params': 0, 'children': []}\n",
      "Response < ResponseBody > --> {'count': 1316, 'compressed_name': '$F354839', 'num_params': 0, 'children': ['$F354838']}\n",
      "case NUM00 : --> {'count': 1273, 'compressed_name': '$F3209', 'num_params': 0, 'children': []}\n",
      "byte [ ] --> {'count': 1265, 'compressed_name': '$F593', 'num_params': 0, 'children': []}\n",
      "< ? > --> {'count': 1136, 'compressed_name': '$F242', 'num_params': 0, 'children': []}\n",
      "return true ; --> {'count': 1084, 'compressed_name': '$F491', 'num_params': 0, 'children': []}\n",
      "< T > --> {'count': 1061, 'compressed_name': '$F3384', 'num_params': 0, 'children': []}\n",
      "$id0 . append ( NUM00 ) ; --> {'count': 1012, 'compressed_name': '$F1210', 'num_params': 1, 'children': []}\n",
      "continue ; --> {'count': 907, 'compressed_name': '$F684', 'num_params': 0, 'children': []}\n",
      "int $id0 = NUM00 ; $id0 < $id1 ; $id0 ++ --> {'count': 885, 'compressed_name': '$F4841', 'num_params': 2, 'children': []}\n",
      "String [ ] --> {'count': 824, 'compressed_name': '$F1456', 'num_params': 0, 'children': []}\n",
      "return NUM00 ; --> {'count': 800, 'compressed_name': '$F7630', 'num_params': 0, 'children': []}\n",
      "{ return null ; } --> {'count': 790, 'compressed_name': '$F3', 'num_params': 0, 'children': ['$F2']}\n",
      "$id0 . client . subscriptionId ( ) --> {'count': 774, 'compressed_name': '$F354820', 'num_params': 1, 'children': []}\n",
      "{ } --> {'count': 767, 'compressed_name': '$F2116', 'num_params': 0, 'children': []}\n",
      "( $id0 . equals ( NUM00 ) ) --> {'count': 724, 'compressed_name': '$F1229', 'num_params': 1, 'children': []}\n",
      "$id0 . client . apiVersion ( ) --> {'count': 722, 'compressed_name': '$F354824', 'num_params': 1, 'children': []}\n",
      "int [ ] --> {'count': 698, 'compressed_name': '$F7610', 'num_params': 0, 'children': []}\n",
      "int $id0 = NUM00 ; $id0 < $id1 . length ; $id0 ++ --> {'count': 695, 'compressed_name': '$F1185', 'num_params': 2, 'children': []}\n",
      "$id0 ( $id1 , $id2 , $id3 ) . toBlocking ( ) --> {'count': 690, 'compressed_name': '$F355293', 'num_params': 4, 'children': []}\n",
      "$id0 . client . userAgent ( ) --> {'count': 685, 'compressed_name': '$F354834', 'num_params': 1, 'children': []}\n",
      "$id0 . client . acceptLanguage ( ) --> {'count': 674, 'compressed_name': '$F354833', 'num_params': 1, 'children': []}\n",
      "return $id0 . just ( $id1 ) ; --> {'count': 672, 'compressed_name': '$F354845', 'num_params': 2, 'children': []}\n"
     ]
    }
   ],
   "source": [
    "for key in abstract_code_keys[:40]:\n",
    "    print(key, \"-->\", abstract_code_dict[key])"
   ]
  },
  {
   "cell_type": "code",
   "execution_count": 19,
   "metadata": {},
   "outputs": [],
   "source": [
    "most_freq = sorted(freq_dict, key = lambda x:freq_dict[x], reverse=True)"
   ]
  },
  {
   "cell_type": "code",
   "execution_count": 34,
   "metadata": {},
   "outputs": [],
   "source": [
    "func2abs = {}\n",
    "\n",
    "for key in abstract_code_dict:\n",
    "    func2abs[abstract_code_dict[key]['compressed_name']] = key"
   ]
  },
  {
   "cell_type": "code",
   "execution_count": null,
   "metadata": {},
   "outputs": [],
   "source": [
    "vocab_size = 10000"
   ]
  },
  {
   "cell_type": "code",
   "execution_count": null,
   "metadata": {
    "scrolled": true
   },
   "outputs": [],
   "source": [
    "min_freq = freq_dict[most_freq[vocab_size]]\n",
    "most_freq[vocab_size], min_freq"
   ]
  },
  {
   "cell_type": "code",
   "execution_count": null,
   "metadata": {},
   "outputs": [],
   "source": [
    "for key in list(abstract_code_dict):\n",
    "    if abstract_code_dict[key]['count'] < min_freq:\n",
    "        del abstract_code_dict[key]"
   ]
  },
  {
   "cell_type": "code",
   "execution_count": null,
   "metadata": {},
   "outputs": [],
   "source": [
    "for key in abstract_code_dict:\n",
    "    children = abstract_code_dict[key]['children']\n",
    "    count = abstract_code_dict[key]['count']\n",
    "    for child in children:\n",
    "        child_key = func2abs[child]\n",
    "        if child_key in abstract_code_dict:\n",
    "            abstract_code_dict[child_key]['count'] -= count"
   ]
  },
  {
   "cell_type": "code",
   "execution_count": 21,
   "metadata": {
    "scrolled": true
   },
   "outputs": [
    {
     "data": {
      "text/plain": [
       "399882"
      ]
     },
     "execution_count": 21,
     "metadata": {},
     "output_type": "execute_result"
    }
   ],
   "source": [
    "abstract_code_keys = sorted(abstract_code_dict, key = lambda x:abstract_code_dict[x]['count'], reverse=True)\n",
    "len(abstract_code_keys)"
   ]
  },
  {
   "cell_type": "code",
   "execution_count": null,
   "metadata": {},
   "outputs": [],
   "source": [
    "for x in abstract_code_keys:\n",
    "    "
   ]
  },
  {
   "cell_type": "code",
   "execution_count": null,
   "metadata": {},
   "outputs": [],
   "source": [
    "for key in abstract_code_dict:\n",
    "    func = abstract_code_dict[key]['compressed_name']\n",
    "    freq_dict[func] = abstract_code_dict[key]['count']"
   ]
  },
  {
   "cell_type": "code",
   "execution_count": null,
   "metadata": {
    "scrolled": true
   },
   "outputs": [],
   "source": [
    "i = 0\n",
    "for key in abstract_code_keys:\n",
    "    if not i%100: print(i)\n",
    "    i+=1\n",
    "    most_freq = sorted(freq_dict, key = lambda x:freq_dict[x], reverse=True)\n",
    "    count = abstract_code_dict[key]['count']\n",
    "    func = abstract_code_dict[key]['compressed_name']\n",
    "    if func in most_freq[:vocab_size]:\n",
    "        tokens = key.split()\n",
    "        for token in tokens:\n",
    "            if not token.startswith(\"$id\") if token in freq_dict:\n",
    "                freq_dict[token] -= count"
   ]
  },
  {
   "cell_type": "code",
   "execution_count": null,
   "metadata": {},
   "outputs": [],
   "source": [
    "freq_dict[most_freq[vocab_size]]"
   ]
  },
  {
   "cell_type": "code",
   "execution_count": null,
   "metadata": {},
   "outputs": [],
   "source": [
    "to_be_compressed = []\n",
    "for token in most_freq[:vocab_size]:\n",
    "    if token.startswith(\"$F\"):\n",
    "        to_be_compressed.append(func2abs[token])"
   ]
  },
  {
   "cell_type": "code",
   "execution_count": null,
   "metadata": {},
   "outputs": [],
   "source": [
    "len(to_be_compressed), to_be_compressed[0]"
   ]
  },
  {
   "cell_type": "code",
   "execution_count": null,
   "metadata": {},
   "outputs": [],
   "source": [
    "abstract_code_keys = to_be_compressed"
   ]
  },
  {
   "cell_type": "code",
   "execution_count": null,
   "metadata": {},
   "outputs": [],
   "source": [
    "def compress(tree):\n",
    "    var_list = []\n",
    "    global abstract_code_dict\n",
    "    global num_to_compress\n",
    "    \n",
    "    if 'text' in tree:\n",
    "        code = tree[\"text\"] + \" \"\n",
    "        #print(\"**:\\t\",code, 1)\n",
    "        return (code, 1, 0, var_list)\n",
    "    else:\n",
    "        parent = list(tree.keys())[0]\n",
    "        children = tree[parent]\n",
    "        if len(children) == 0:\n",
    "            return (\"\", 0, 0, [])\n",
    "        \n",
    "        code = \"\"\n",
    "        leaf_count = 0\n",
    "        id_count = 0\n",
    "        \n",
    "        if len(children) > 1:\n",
    "            for child in children:\n",
    "                (c, n, i, vl) = compress(child)\n",
    "                code += c\n",
    "                leaf_count += n\n",
    "                id_count += i\n",
    "                var_list += [v for v in vl if v not in var_list]\n",
    "\n",
    "            if (var_list and leaf_count - len(var_list) >= 4) or (not var_list and leaf_count > 1) :\n",
    "                abstract_code = code.split()\n",
    "                for i in range(len(abstract_code)):\n",
    "                    if abstract_code[i] in var_list:\n",
    "                        abstract_code[i] = \"$id{}\".format(var_list.index(abstract_code[i]))\n",
    "                abstract_code = ' '.join(abstract_code)\n",
    "                \n",
    "                # If the abstracted code is within the range, replace\n",
    "                # the children with a single leaf node containing whole code\n",
    "                # If the list is empty, only one token.\n",
    "                if abstract_code in abstract_code_keys:\n",
    "                    compressed_func = abstract_code_dict[abstract_code]['compressed_name']\n",
    "                    compressed_func += ' ( ' +' , '.join(var_list)+' )' if var_list else ''\n",
    "                    tree[parent] = [{\"type\": \"compressed\", \"text\": compressed_func}]\n",
    "\n",
    "            #print(parent, \":\\t\",code, leaf_count, id_count, var_list)\n",
    "            return (code, leaf_count, id_count, var_list)\n",
    "\n",
    "        if parent == \"literal\":\n",
    "            child = children[0]\n",
    "            child_text = child[\"text\"]\n",
    "            try:\n",
    "                if child_text in ['null', 'true', 'false']:\n",
    "                    pass\n",
    "                elif type(ast.literal_eval(child_text)) == type(\"STRING\"):\n",
    "                    children[0][\"text\"] = \"STRING00\"\n",
    "                elif type(ast.literal_eval(child_text)) == type(1):\n",
    "                    children[0][\"text\"] = \"INT00\"\n",
    "                elif type(ast.literal_eval(child_text)) == type(1.1):\n",
    "                    children[0][\"text\"] = \"FLOAT00\"\n",
    "            except:\n",
    "                children[0][\"text\"] = \"NUM00\"\n",
    "        elif parent == \"primary\" and 'type' in children[0]:\n",
    "            id_count += 1\n",
    "            text = children[0][\"text\"]\n",
    "            if text not in var_list:\n",
    "                var_list.append(text)\n",
    "        elif parent == \"variableDeclaratorId\" and 'type' in children[0]:\n",
    "            id_count += 1\n",
    "            text = children[0][\"text\"]\n",
    "            if text not in var_list:\n",
    "                var_list.append(text)\n",
    "\n",
    "        (code, leaf_count, i, vl) = compress(children[0])\n",
    "        id_count += i\n",
    "        var_list += [v for v in vl if v not in var_list]\n",
    "        \n",
    "        #print(parent, \":\\t\",code, leaf_count, id_count, var_list)\n",
    "        return (code, leaf_count, id_count, var_list)\n",
    "    "
   ]
  },
  {
   "cell_type": "code",
   "execution_count": null,
   "metadata": {
    "scrolled": true
   },
   "outputs": [],
   "source": [
    "compressed_freq_dict = {}\n",
    "compressed_codes = []\n",
    "for i in range(len(tree_data)):\n",
    "    if i%1000 == 0: print(\"[\", i, \"]\") \n",
    "    try:\n",
    "        tree_copy = copy.deepcopy(tree_data[i])\n",
    "        (code, leaf_count, id_count, var_list) = compress(tree_copy)\n",
    "        code, _ = tree2code(tree_copy, 0)\n",
    "    except Exception as e:\n",
    "        # Write the data number and file name to another file for later investigation\n",
    "        print(e)\n",
    "        code, _ = tree2code(tree_data[i], 0)\n",
    "    compressed_code = {\"code\": code}\n",
    "    tokens = code.split()\n",
    "    for token in tokens:\n",
    "        if token not in compressed_freq_dict:\n",
    "            compressed_freq_dict[token] = 0\n",
    "        compressed_freq_dict[token] += 1\n",
    "    compressed_codes.append(compressed_code)"
   ]
  },
  {
   "cell_type": "code",
   "execution_count": null,
   "metadata": {},
   "outputs": [],
   "source": [
    "compressed_most_freq = sorted(compressed_freq_dict, key = lambda x:compressed_freq_dict[x], reverse=True)"
   ]
  },
  {
   "cell_type": "code",
   "execution_count": null,
   "metadata": {},
   "outputs": [],
   "source": [
    "compressed_funcs = [abstract_code_dict[x]['compressed_name'] for x in abstract_code_keys]"
   ]
  },
  {
   "cell_type": "code",
   "execution_count": null,
   "metadata": {},
   "outputs": [],
   "source": [
    "common_tokens_after_compression = list(set(compressed_most_freq[:vocab_size]) & set(compressed_funcs))\n",
    "len(common_tokens_after_compression)"
   ]
  },
  {
   "cell_type": "code",
   "execution_count": null,
   "metadata": {},
   "outputs": [],
   "source": [
    "'$F280' in compressed_funcs"
   ]
  },
  {
   "cell_type": "code",
   "execution_count": null,
   "metadata": {
    "scrolled": true
   },
   "outputs": [],
   "source": [
    "compressed_most_freq[:100]"
   ]
  },
  {
   "cell_type": "code",
   "execution_count": null,
   "metadata": {},
   "outputs": [],
   "source": [
    "oov = list(set(compressed_funcs) - set(compressed_most_freq[:vocab_size]))\n",
    "len(oov)"
   ]
  },
  {
   "cell_type": "code",
   "execution_count": null,
   "metadata": {},
   "outputs": [],
   "source": [
    "for o in oov:\n",
    "    a = abstract_code_dict[func2abs[o]]\n",
    "    print(o, a[])"
   ]
  },
  {
   "cell_type": "code",
   "execution_count": null,
   "metadata": {
    "scrolled": true
   },
   "outputs": [],
   "source": [
    "len(abstract_code_keys)"
   ]
  },
  {
   "cell_type": "code",
   "execution_count": null,
   "metadata": {},
   "outputs": [],
   "source": []
  },
  {
   "cell_type": "markdown",
   "metadata": {},
   "source": [
    "### Parent child\n",
    "[Dictionary Building](#Building-Dictionary)"
   ]
  },
  {
   "cell_type": "code",
   "execution_count": 35,
   "metadata": {
    "scrolled": true
   },
   "outputs": [
    {
     "name": "stdout",
     "output_type": "stream",
     "text": [
      "$id0 = $id1 != null ? $id1 . $id0 ( ) : null || $id0 != null ? $id0 . acceptLanguage ( ) : null\n",
      "0 :: 339 -- 11\n",
      "$id0 = $id1 . body ( ) . $id0 ( ) || $id0 . body ( ) . nextPageLink ( )\n",
      "1 :: 181 -- 166\n",
      "if ( $id0 == null ) { $id1 . $id0 = null ; } else { $id1 . $id0 = new DateTimeRfc1123 ( $id0 ) ; } || { $id0 . ocpDate = null ; }\n",
      "2 :: 152 -- 59\n",
      "long $id0 = $id1 . currentTimeMillis ( ) ; || long $id0 = $id1 . currentTimeMillis ( )\n",
      "3 :: 69 -- 67\n",
      "case $id0 . COMMAND_ID : $id1 = new $id0 ( $id2 ) ; break ; || $id0 = new LockControlCommand ( $id1 ) ;\n",
      "4 :: 40 -- 1\n",
      "case $id0 . COMMAND_ID : $id1 = new $id0 ( ) ; break ; || $id0 = new PutKeyValueCommand ( ) ;\n",
      "5 :: 17 -- 1\n",
      "AtomicInteger $id0 = new AtomicInteger ( ) ; || AtomicInteger $id0 = new AtomicInteger ( )\n",
      "6 :: 13 -- 12\n",
      "case $id0 . COMMAND_ID : $id1 = new $id0 < > ( ) ; break ; || $id0 = new ReadWriteKeyCommand < > ( ) ;\n",
      "7 :: 11 -- 1\n",
      "$id0 = ( int ) $id1 . floor ( $id2 . $id0 ) || ( int ) $id0 . floor ( $id1 . x )\n",
      "8 :: 6 -- 2\n",
      "$id0 = new BigDecimal ( $id1 . $id0 ) || new BigDecimal ( $id0 . units )\n",
      "9 :: 6 -- 3\n",
      "$id0 . $id1 . getFieldName ( ) , $id1 || $id0 . children . getFieldName ( )\n",
      "10 :: 5 -- 1\n",
      "if ( $id0 . isActiveServer ( $id1 ) ) { return new $id0 ( $id2 , $id1 ) ; } || { return new BambooBuildServerData ( $id0 , $id1 ) ; }\n",
      "11 :: 5 -- 1\n",
      "if ( $id0 ( ) == null ) { if ( $id1 . $id0 ( ) != null ) { return false ; } } else if ( ! $id0 ( ) . equals ( $id1 . $id0 ( ) ) ) { return false ; } || { if ( $id0 . getNodeName ( ) != null ) { return false ; } }\n",
      "12 :: 5 -- 1\n",
      "< UUID , SubscriptionFutureNotificationDates > || UUID , SubscriptionFutureNotificationDates\n",
      "13 :: 4 -- 1\n",
      "$id0 . class , $id0 . GPIO_01 , $id1 || RaspiPin . class\n",
      "14 :: 4 -- 1\n",
      "Throwable $id0 = $id1 . getCause ( ) ; || Throwable $id0 = $id1 . getCause ( )\n",
      "15 :: 4 -- 3\n",
      "{ List < Feature > $id0 = $id1 . $id0 ( ) ; List < $id5 > $id2 = new ArrayList < > ( ) ; if ( $id0 != null ) { for ( Feature $id3 : $id0 ) { $id5 $id4 = $id5 . fromFeature ( $id3 ) ; if ( $id4 != null ) { $id2 . add ( $id4 ) ; } } } return $id6 ( $id2 ) ; } || List < CircleOptions > $id0 = new ArrayList < > ( ) ;\n",
      "16 :: 4 -- 1\n",
      "for ( final String $id0 : $id1 . ATTR_NAMES ) { $id2 . add ( new $id1 ( $id3 , $id0 ) ) ; } || { $id0 . add ( new StandardConditionalFixedValueTagProcessor ( $id1 , $id2 ) ) ; }\n",
      "17 :: 4 -- 1\n",
      "if ( $id0 . $id1 == null ) { $id0 . $id1 = new StringBuilder ( $id1 . length ( ) ) ; } || ( $id0 . sequence == null )\n",
      "18 :: 4 -- 2\n",
      "$id0 . $id2 ( ) . addAll ( $id1 . asList ( $id2 ) ) || $id0 . gradientColors ( ) . addAll\n",
      "19 :: 4 -- 1\n",
      "if ( $id0 . length == NUM00 ) { $id1 . $id0 = $id2 . EMPTY ; } else { $id1 . $id0 = new $id2 ( $id0 ) ; } || { $id0 . parameterTypes = $id1 . EMPTY ; }\n",
      "20 :: 4 -- 2\n",
      "if ( $id0 == null ) { $id1 . $id0 = null ; } else { $id1 . $id0 = $id2 . encode ( $id0 ) ; } || { $id0 . x509Thumbprint = null ; }\n",
      "21 :: 4 -- 1\n",
      "{ $id0 ( $id1 . $id4 , $id2 . Type . text_single ) ; $id3 ( $id1 . $id4 . getFieldName ( ) , $id4 ) ; } || $id0 ( $id1 . collection , $id2 . Type . text_single ) ;\n",
      "22 :: 3 -- 1\n",
      "InputStream $id0 = new URL ( $id1 ) . openStream ( ) || $id0 = new URL ( $id1 ) . openStream ( )\n",
      "23 :: 3 -- 2\n",
      "$id0 = $id1 . $id1 ( ) . $id0 ( ) || $id0 . $id0 ( ) . sessionIds ( )\n",
      "24 :: 3 -- 1\n",
      "$id0 = $id1 . $id0 ( ) . toString ( ) || $id0 . keyType ( ) . toString ( )\n",
      "25 :: 3 -- 1\n",
      "$id0 = $id1 . clustering ( ) . stateTransfer ( ) . $id0 ( ) || $id0 . clustering ( ) . stateTransfer ( ) . timeout ( )\n",
      "26 :: 3 -- 2\n",
      "case $id0 . COMMAND_ID : $id1 = new $id0 < > ( $id2 ) ; break ; || $id0 = new StreamIteratorRequestCommand < > ( $id1 ) ;\n",
      "27 :: 3 -- 1\n",
      "{ $id3 [ ] $id0 = new $id3 [ $id1 . length ] ; for ( int $id2 = NUM00 ; $id2 < $id1 . length ; $id2 ++ ) $id0 [ $id2 ] = $id3 . valueOf ( $id1 [ $id2 ] ) ; return $id0 ; } || Short [ ] $id0 = new Short [ $id1 . length ] ;\n",
      "28 :: 3 -- 1\n",
      "NUM00 , $id0 . $id1 . length ( ) , $id1 || $id0 . content . length ( )\n",
      "29 :: 3 -- 2\n",
      "CollectorImpl < T , $id0 , $id0 > ( $id0 : : || CollectorImpl < T , IntSummaryStatistics , IntSummaryStatistics >\n",
      "30 :: 3 -- 1\n",
      "if ( $id0 . $id2 ( ) != null ) { $id1 . append ( NUM00 ) . escape ( $id2 ( ) ) . append ( NUM00 ) ; } || ( $id0 . getActiveName ( ) != null )\n",
      "31 :: 2 -- 1\n",
      "$id0 = $id1 . newArrayList ( $id2 . $id0 . values ( ) ) || $id0 . newArrayList ( $id1 . sessions . values ( ) )\n",
      "32 :: 2 -- 1\n",
      "case $id0 : if ( $id1 . role . role ( ) != $id2 . Role . $id0 ) { $id3 ( $id2 . Role . $id0 ) ; } break ; || if ( $id0 . role . role ( ) != $id1 . Role . PROMOTABLE ) { $id2 ( $id1 . Role . PROMOTABLE ) ; }\n",
      "33 :: 2 -- 1\n",
      "if ( $id0 == null || $id0 . length ( ) == NUM00 ) { $id1 . $id0 = null ; } else { $id1 . $id0 = $id2 . compile ( $id0 ) ; } || { $id0 . internalProxies = null ; }\n",
      "34 :: 2 -- 1\n",
      "$id0 = $id1 . $id0 ( $id2 ) == null ? NUM00 : $id1 . $id0 ( $id2 ) || $id0 . metricscacheMgrMode ( $id1 ) == null ? NUM00 : $id0 . metricscacheMgrMode ( $id1 )\n",
      "35 :: 2 -- 1\n",
      "$id0 += ( $id1 . $id0 + $id2 . $id0 ) * $id3 || ( $id0 . x + $id1 . x ) * $id2\n",
      "36 :: 2 -- 1\n",
      "if ( $id0 ( ) == null && $id1 . $id0 ( ) != null ) { $id2 ( $id1 . $id0 ( ) ) ; } || { $id0 ( $id1 . getName ( ) ) ; }\n",
      "37 :: 2 -- 1\n",
      "{ List < Matcher > $id0 = $id1 . < $id4 > as ( ) . $id0 ( ) ; List < Matcher > $id2 = new ArrayList < > ( ) ; for ( Matcher $id3 : $id0 ) { if ( $id3 instanceof $id4 ) { $id2 . addAll ( $id3 . < $id4 > as ( ) . $id0 ( ) ) ; } else { $id2 . add ( $id3 ) ; } } return $id4 . create ( $id2 ) ; } || for ( Matcher $id0 : $id1 ) { if ( $id0 instanceof SeqMatcher ) { $id2 . addAll ( $id0 . < SeqMatcher > as ( ) . $id1 ( ) ) ; } else { $id2 . add ( $id0 ) ; } }\n",
      "38 :: 2 -- 1\n",
      "case $id0 : { $id1 = $id2 . $id0 ; if ( ! $id3 . isAlive ( ) ) { $id3 = new GpioStepperMotorControl ( ) ; $id3 . start ( ) ; } break ; } || { $id0 = $id1 . FORWARD ; if ( ! $id2 . isAlive ( ) ) { $id2 = new GpioStepperMotorControl ( ) ; $id2 . start ( ) ; } break ; }\n",
      "39 :: 2 -- 1\n",
      "if ( null != $id0 . $id1 ) { if ( null == $id1 ) $id1 = $id0 . $id1 ; else $id1 . addAll ( $id0 . $id1 ) ; } || ( null != $id0 . additions )\n",
      "40 :: 2 -- 1\n",
      "case $id0 : $id1 . scrollToSide ( $id2 . Side . $id0 , $id3 , $id4 ) ; break ; || $id0 . scrollToSide ( $id1 . Side . RIGHT , $id2 , $id3 ) ;\n",
      "41 :: 2 -- 1\n",
      "case $id0 : $id1 . scrollViewToSide ( $id2 , $id3 . Side . $id0 , $id4 , $id5 ) ; break ; || $id0 . scrollViewToSide ( $id1 , $id2 . Side . RIGHT , $id3 , $id4 ) ;\n",
      "42 :: 2 -- 1\n",
      "if ( ( $id0 & $id1 ) != NUM00 ) { $id2 . $id0 &= ~ $id1 ; $id2 . set |= $id3 ; } || { $id0 . allowed &= ~ $id1 ; $id0 . set |= $id2 ; }\n",
      "43 :: 2 -- 1\n",
      "{ int $id0 = $id1 . submitInsert ( $id2 ) ; if ( $id0 < $id2 . size ( ) ) { $id1 . submitInsertTaskToQueue ( $id1 . createInsertTaskForObjects ( $id2 . subList ( $id0 , $id2 . size ( ) ) ) , $id3 ) ; } $id1 . $id2 = new MithraFastList ( $id4 ) ; } || $id0 . insertForUpdateList = new MithraFastList ( $id1 ) ;\n",
      "44 :: 2 -- 1\n",
      "$id0 = $id1 . round ( $id2 . $id0 * NUM00 ) || $id0 . round ( $id1 . lat * NUM00 )\n",
      "45 :: 2 -- 1\n",
      "$id0 = $id1 ( ) . $id0 ( ) || $id0 ( ) . mixins ( )\n",
      "46 :: 2 -- 1\n",
      "$id0 ( ) . usageMessage ( ) . $id1 ( $id1 ) || $id0 ( ) . usageMessage ( ) . helpFactory\n",
      "47 :: 2 -- 1\n",
      "$id0 ? ( ( String ) $id1 ) . $id3 ( ( String ) $id2 ) : $id3 ( $id0 , $id1 , NUM00 , $id1 . length ( ) , $id2 , NUM00 , $id2 . length ( ) ) || ( ( String ) $id0 ) . startsWith ( ( String ) $id1 )\n",
      "48 :: 2 -- 1\n",
      "if ( $id0 == null ) { if ( $id1 . $id0 != null ) return false ; } else if ( ! $id0 . equals ( $id1 . $id0 ) ) return false ; || { if ( $id0 . insCode != null ) return false ; }\n",
      "49 :: 2 -- 1\n",
      "if ( $id0 . $id1 != null && $id0 . $id1 . length ( ) > NUM00 ) { $id1 = $id0 . $id1 ; } || ( $id0 . line != null && $id0 . line . length ( ) > NUM00 )\n",
      "50 :: 2 -- 1\n",
      "{ if ( $id0 == null ) throw new ParserException ( NUM00 ) ; if ( $id1 . $id0 != null ) throw new ParserException ( NUM00 ) ; $id1 . $id0 = $id0 ; } || if ( $id0 . identifier != null ) throw new ParserException ( NUM00 ) ;\n",
      "51 :: 2 -- 1\n",
      "if ( $id0 . $id2 == $id1 . $id2 ) { return NUM00 ; } else if ( $id2 == NUM00 ) { return - NUM00 ; } else { return NUM00 ; } || ( $id0 . status == $id1 . status )\n",
      "52 :: 2 -- 1\n",
      "$id0 . NAME , new $id0 ( ) || new HandlebarsJsonPathHelper ( )\n",
      "53 :: 2 -- 1\n",
      "$id1 . Builder $id0 = $id1 . newBuilder ( ) || Person . Builder\n",
      "54 :: 2 -- 1\n"
     ]
    },
    {
     "name": "stdout",
     "output_type": "stream",
     "text": [
      "if ( $id0 <= $id1 . length ( ) ) { $id2 . $id0 = $id0 ; } else { $id2 . $id0 = $id1 . length ( ) ; } || { $id0 . contextStart = $id1 . length ( ) ; }\n",
      "55 :: 2 -- 1\n",
      "{ $id0 . $id1 = $id1 . cloneTree ( ) ; $id0 . $id1 . fParent = $id0 ; } || $id0 . fLeftChild . fParent = $id0 ;\n",
      "56 :: 2 -- 1\n",
      "if ( $id0 != null ) $id1 . $id0 . clear ( ) ; || $id0 . m_OutputProps . clear ( ) ;\n",
      "57 :: 2 -- 1\n",
      "if ( $id0 == null ) { $id1 . $id0 = null ; } else { $id1 . $id0 = $id0 . toDateTime ( $id2 . UTC ) . getMillis ( ) / NUM00 ; } || { $id0 . notBefore = null ; }\n",
      "58 :: 2 -- 1\n"
     ]
    },
    {
     "ename": "KeyboardInterrupt",
     "evalue": "",
     "output_type": "error",
     "traceback": [
      "\u001b[1;31m---------------------------------------------------------------------------\u001b[0m",
      "\u001b[1;31mKeyboardInterrupt\u001b[0m                         Traceback (most recent call last)",
      "\u001b[1;32m<ipython-input-35-143f39eb4857>\u001b[0m in \u001b[0;36m<module>\u001b[1;34m\u001b[0m\n\u001b[0;32m      3\u001b[0m \u001b[1;32mfor\u001b[0m \u001b[0mkey\u001b[0m \u001b[1;32min\u001b[0m \u001b[0mabstract_code_keys\u001b[0m\u001b[1;33m[\u001b[0m\u001b[1;33m:\u001b[0m\u001b[1;36m100000\u001b[0m\u001b[1;33m]\u001b[0m\u001b[1;33m:\u001b[0m\u001b[1;33m\u001b[0m\u001b[1;33m\u001b[0m\u001b[0m\n\u001b[0;32m      4\u001b[0m     \u001b[0mchildren\u001b[0m \u001b[1;33m=\u001b[0m \u001b[0mabstract_code_dict\u001b[0m\u001b[1;33m[\u001b[0m\u001b[0mkey\u001b[0m\u001b[1;33m]\u001b[0m\u001b[1;33m[\u001b[0m\u001b[1;34m'children'\u001b[0m\u001b[1;33m]\u001b[0m\u001b[1;33m\u001b[0m\u001b[1;33m\u001b[0m\u001b[0m\n\u001b[1;32m----> 5\u001b[1;33m     \u001b[1;32mfor\u001b[0m \u001b[0mchild\u001b[0m \u001b[1;32min\u001b[0m \u001b[0mchildren\u001b[0m\u001b[1;33m:\u001b[0m\u001b[1;33m\u001b[0m\u001b[1;33m\u001b[0m\u001b[0m\n\u001b[0m\u001b[0;32m      6\u001b[0m         \u001b[1;32mif\u001b[0m \u001b[0mchild\u001b[0m \u001b[1;32min\u001b[0m \u001b[0mfunc2abs\u001b[0m\u001b[1;33m:\u001b[0m\u001b[1;33m\u001b[0m\u001b[1;33m\u001b[0m\u001b[0m\n\u001b[0;32m      7\u001b[0m             \u001b[0mchild_key\u001b[0m \u001b[1;33m=\u001b[0m \u001b[0mfunc2abs\u001b[0m\u001b[1;33m[\u001b[0m\u001b[0mchild\u001b[0m\u001b[1;33m]\u001b[0m\u001b[1;33m\u001b[0m\u001b[1;33m\u001b[0m\u001b[0m\n",
      "\u001b[1;31mKeyboardInterrupt\u001b[0m: "
     ]
    }
   ],
   "source": [
    "count = 0\n",
    "# IF A CHILD IS BEFORE A PARENT\n",
    "for key in abstract_code_keys[:100000]:\n",
    "    children = abstract_code_dict[key]['children']\n",
    "    for child in children:\n",
    "        if child in func2abs:\n",
    "            child_key = func2abs[child]\n",
    "            if abstract_code_keys.index(key) < abstract_code_keys.index(child_key):\n",
    "                print(key, \"||\", child_key)\n",
    "                print(count, \"::\", abstract_code_dict[key]['count'],\"--\", abstract_code_dict[child_key]['count'])\n",
    "                count+=1"
   ]
  },
  {
   "cell_type": "code",
   "execution_count": 45,
   "metadata": {},
   "outputs": [
    {
     "data": {
      "text/plain": [
       "59"
      ]
     },
     "execution_count": 45,
     "metadata": {},
     "output_type": "execute_result"
    }
   ],
   "source": [
    "count"
   ]
  },
  {
   "cell_type": "code",
   "execution_count": 42,
   "metadata": {},
   "outputs": [
    {
     "data": {
      "text/plain": [
       "20572.666666666668"
      ]
     },
     "execution_count": 42,
     "metadata": {},
     "output_type": "execute_result"
    }
   ],
   "source": [
    "61718/3"
   ]
  },
  {
   "cell_type": "code",
   "execution_count": 43,
   "metadata": {
    "scrolled": true
   },
   "outputs": [
    {
     "name": "stdout",
     "output_type": "stream",
     "text": [
      "static Person PromptForAddress ( BufferedReader stdin , PrintStream stdout ) throws IOException { \n",
      "\tPerson . Builder person = Person . newBuilder ( ) ; \n",
      "\tstdout . print ( \"Enter person ID: \" ) ; \n",
      "\tperson . setId ( Integer . valueOf ( stdin . readLine ( ) ) ) ; \n",
      "\tstdout . print ( \"Enter name: \" ) ; \n",
      "\tperson . setName ( stdin . readLine ( ) ) ; \n",
      "\tstdout . print ( \"Enter email address (blank for none): \" ) ; \n",
      "\tString email = stdin . readLine ( ) ; \n",
      "\tif ( email . length ( ) > 0 ) { \n",
      "\t\tperson . setEmail ( email ) ; \n",
      "\t\t} \n",
      "\twhile ( true ) { \n",
      "\t\tstdout . print ( \"Enter a phone number (or leave blank to finish): \" ) ; \n",
      "\t\tString number = stdin . readLine ( ) ; \n",
      "\t\tif ( number . length ( ) == 0 ) { \n",
      "\t\t\tbreak ; \n",
      "\t\t\t} \n",
      "\t\tPerson . PhoneNumber . Builder phoneNumber = Person . PhoneNumber . newBuilder ( ) . setNumber ( number ) ; \n",
      "\t\tstdout . print ( \"Is this a mobile, home, or work phone? \" ) ; \n",
      "\t\tString type = stdin . readLine ( ) ; \n",
      "\t\tif ( type . equals ( \"mobile\" ) ) { \n",
      "\t\t\tphoneNumber . setType ( Person . PhoneType . MOBILE ) ; \n",
      "\t\t\t} \n",
      "\t\telse if ( type . equals ( \"home\" ) ) { \n",
      "\t\t\tphoneNumber . setType ( Person . PhoneType . HOME ) ; \n",
      "\t\t\t} \n",
      "\t\telse if ( type . equals ( \"work\" ) ) { \n",
      "\t\t\tphoneNumber . setType ( Person . PhoneType . WORK ) ; \n",
      "\t\t\t} \n",
      "\t\telse { \n",
      "\t\t\tstdout . println ( \"Unknown phone type.  Using default.\" ) ; \n",
      "\t\t\t} \n",
      "\t\tperson . addPhones ( phoneNumber ) ; \n",
      "\t\t} \n",
      "\treturn person . build ( ) ; \n",
      "\t} \n",
      "\n"
     ]
    }
   ],
   "source": [
    "print(uncompressed_codes[20572]['code'])"
   ]
  },
  {
   "cell_type": "code",
   "execution_count": 44,
   "metadata": {},
   "outputs": [
    {
     "data": {
      "text/plain": [
       "{'classBodyDeclaration': [{'modifier': [{'classOrInterfaceModifier': [{'type': 38,\n",
       "       'text': 'static'}]}]},\n",
       "  {'memberDeclaration': [{'methodDeclaration': [{'typeSpec': [{'classOrInterfaceType': [{'type': 100,\n",
       "           'text': 'Person'}]}]},\n",
       "      {'type': 100, 'text': 'PromptForAddress'},\n",
       "      {'formalParameters': [{'type': 57, 'text': '('},\n",
       "        {'formalParameterList': [{'formalParameter': [{'typeSpec': [{'classOrInterfaceType': [{'type': 100,\n",
       "                 'text': 'BufferedReader'}]}]},\n",
       "            {'variableDeclaratorId': [{'type': 100, 'text': 'stdin'}]}]},\n",
       "          {'type': 64, 'text': ','},\n",
       "          {'formalParameter': [{'typeSpec': [{'classOrInterfaceType': [{'type': 100,\n",
       "                 'text': 'PrintStream'}]}]},\n",
       "            {'variableDeclaratorId': [{'type': 100, 'text': 'stdout'}]}]}]},\n",
       "        {'type': 58, 'text': ')'}]},\n",
       "      {'type': 45, 'text': 'throws'},\n",
       "      {'qualifiedNameList': [{'qualifiedName': [{'type': 100,\n",
       "           'text': 'IOException'}]}]},\n",
       "      {'methodBody': [{'block': [{'type': 59, 'text': '{'},\n",
       "          {'blockStatement': [{'localVariableDeclarationStatement': [{'localVariableDeclaration': [{'typeSpec': [{'classOrInterfaceType': [{'type': 100,\n",
       "                     'text': 'Person'},\n",
       "                    {'type': 65, 'text': '.'},\n",
       "                    {'type': 100, 'text': 'Builder'}]}]},\n",
       "                {'variableDeclarators': [{'variableDeclarator': [{'variableDeclaratorId': [{'type': 100,\n",
       "                       'text': 'person'}]},\n",
       "                    {'type': 66, 'text': '='},\n",
       "                    {'variableInitializer': [{'expression': [{'expression': [{'expression': [{'primary': [{'type': 100,\n",
       "                               'text': 'Person'}]}]},\n",
       "                          {'type': 65, 'text': '.'},\n",
       "                          {'type': 100, 'text': 'newBuilder'}]},\n",
       "                        {'type': 57, 'text': '('},\n",
       "                        {'type': 58, 'text': ')'}]}]}]}]}]},\n",
       "              {'type': 63, 'text': ';'}]}]},\n",
       "          {'blockStatement': [{'statement': [{'statementExpression': [{'expression': [{'expression': [{'expression': [{'primary': [{'type': 100,\n",
       "                         'text': 'stdout'}]}]},\n",
       "                    {'type': 65, 'text': '.'},\n",
       "                    {'type': 100, 'text': 'print'}]},\n",
       "                  {'type': 57, 'text': '('},\n",
       "                  {'expressionList': [{'expression': [{'primary': [{'literal': [{'type': 55,\n",
       "                           'text': 'NUM00'}]}]}]}]},\n",
       "                  {'type': 58, 'text': ')'}]}]},\n",
       "              {'type': 63, 'text': ';'}]}]},\n",
       "          {'blockStatement': [{'statement': [{'statementExpression': [{'expression': [{'expression': [{'expression': [{'primary': [{'type': 100,\n",
       "                         'text': 'person'}]}]},\n",
       "                    {'type': 65, 'text': '.'},\n",
       "                    {'type': 100, 'text': 'setId'}]},\n",
       "                  {'type': 57, 'text': '('},\n",
       "                  {'expressionList': [{'expression': [{'expression': [{'expression': [{'primary': [{'type': 100,\n",
       "                             'text': 'Integer'}]}]},\n",
       "                        {'type': 65, 'text': '.'},\n",
       "                        {'type': 100, 'text': 'valueOf'}]},\n",
       "                      {'type': 57, 'text': '('},\n",
       "                      {'expressionList': [{'expression': [{'expression': [{'expression': [{'primary': [{'type': 100,\n",
       "                                 'text': 'stdin'}]}]},\n",
       "                            {'type': 65, 'text': '.'},\n",
       "                            {'type': 100, 'text': 'readLine'}]},\n",
       "                          {'type': 57, 'text': '('},\n",
       "                          {'type': 58, 'text': ')'}]}]},\n",
       "                      {'type': 58, 'text': ')'}]}]},\n",
       "                  {'type': 58, 'text': ')'}]}]},\n",
       "              {'type': 63, 'text': ';'}]}]},\n",
       "          {'blockStatement': [{'statement': [{'statementExpression': [{'expression': [{'expression': [{'expression': [{'primary': [{'type': 100,\n",
       "                         'text': 'stdout'}]}]},\n",
       "                    {'type': 65, 'text': '.'},\n",
       "                    {'type': 100, 'text': 'print'}]},\n",
       "                  {'type': 57, 'text': '('},\n",
       "                  {'expressionList': [{'expression': [{'primary': [{'literal': [{'type': 55,\n",
       "                           'text': 'NUM00'}]}]}]}]},\n",
       "                  {'type': 58, 'text': ')'}]}]},\n",
       "              {'type': 63, 'text': ';'}]}]},\n",
       "          {'blockStatement': [{'statement': [{'statementExpression': [{'expression': [{'expression': [{'expression': [{'primary': [{'type': 100,\n",
       "                         'text': 'person'}]}]},\n",
       "                    {'type': 65, 'text': '.'},\n",
       "                    {'type': 100, 'text': 'setName'}]},\n",
       "                  {'type': 57, 'text': '('},\n",
       "                  {'expressionList': [{'expression': [{'expression': [{'expression': [{'primary': [{'type': 100,\n",
       "                             'text': 'stdin'}]}]},\n",
       "                        {'type': 65, 'text': '.'},\n",
       "                        {'type': 100, 'text': 'readLine'}]},\n",
       "                      {'type': 57, 'text': '('},\n",
       "                      {'type': 58, 'text': ')'}]}]},\n",
       "                  {'type': 58, 'text': ')'}]}]},\n",
       "              {'type': 63, 'text': ';'}]}]},\n",
       "          {'blockStatement': [{'statement': [{'statementExpression': [{'expression': [{'expression': [{'expression': [{'primary': [{'type': 100,\n",
       "                         'text': 'stdout'}]}]},\n",
       "                    {'type': 65, 'text': '.'},\n",
       "                    {'type': 100, 'text': 'print'}]},\n",
       "                  {'type': 57, 'text': '('},\n",
       "                  {'expressionList': [{'expression': [{'primary': [{'literal': [{'type': 55,\n",
       "                           'text': 'NUM00'}]}]}]}]},\n",
       "                  {'type': 58, 'text': ')'}]}]},\n",
       "              {'type': 63, 'text': ';'}]}]},\n",
       "          {'blockStatement': [{'localVariableDeclarationStatement': [{'localVariableDeclaration': [{'typeSpec': [{'classOrInterfaceType': [{'type': 100,\n",
       "                     'text': 'String'}]}]},\n",
       "                {'variableDeclarators': [{'variableDeclarator': [{'variableDeclaratorId': [{'type': 100,\n",
       "                       'text': 'email'}]},\n",
       "                    {'type': 66, 'text': '='},\n",
       "                    {'variableInitializer': [{'expression': [{'expression': [{'expression': [{'primary': [{'type': 100,\n",
       "                               'text': 'stdin'}]}]},\n",
       "                          {'type': 65, 'text': '.'},\n",
       "                          {'type': 100, 'text': 'readLine'}]},\n",
       "                        {'type': 57, 'text': '('},\n",
       "                        {'type': 58, 'text': ')'}]}]}]}]}]},\n",
       "              {'type': 63, 'text': ';'}]}]},\n",
       "          {'blockStatement': [{'statement': [{'type': 22, 'text': 'if'},\n",
       "              {'parExpression': [{'type': 57, 'text': '('},\n",
       "                {'expression': [{'expression': [{'expression': [{'expression': [{'primary': [{'type': 100,\n",
       "                           'text': 'email'}]}]},\n",
       "                      {'type': 65, 'text': '.'},\n",
       "                      {'type': 100, 'text': 'length'}]},\n",
       "                    {'type': 57, 'text': '('},\n",
       "                    {'type': 58, 'text': ')'}]},\n",
       "                  {'type': 67, 'text': '>'},\n",
       "                  {'expression': [{'primary': [{'literal': [{'type': 51,\n",
       "                         'text': 'NUM00'}]}]}]}]},\n",
       "                {'type': 58, 'text': ')'}]},\n",
       "              {'statement': [{'block': [{'type': 59, 'text': '{'},\n",
       "                  {'blockStatement': [{'statement': [{'statementExpression': [{'expression': [{'expression': [{'expression': [{'primary': [{'type': 100,\n",
       "                                 'text': 'person'}]}]},\n",
       "                            {'type': 65, 'text': '.'},\n",
       "                            {'type': 100, 'text': 'setEmail'}]},\n",
       "                          {'type': 57, 'text': '('},\n",
       "                          {'expressionList': [{'expression': [{'primary': [{'type': 100,\n",
       "                                 'text': 'email'}]}]}]},\n",
       "                          {'type': 58, 'text': ')'}]}]},\n",
       "                      {'type': 63, 'text': ';'}]}]},\n",
       "                  {'type': 60, 'text': '}'}]}]}]}]},\n",
       "          {'blockStatement': [{'statement': [{'type': 50, 'text': 'while'},\n",
       "              {'parExpression': [{'type': 57, 'text': '('},\n",
       "                {'expression': [{'primary': [{'literal': [{'type': 53,\n",
       "                       'text': 'true'}]}]}]},\n",
       "                {'type': 58, 'text': ')'}]},\n",
       "              {'statement': [{'block': [{'type': 59, 'text': '{'},\n",
       "                  {'blockStatement': [{'statement': [{'statementExpression': [{'expression': [{'expression': [{'expression': [{'primary': [{'type': 100,\n",
       "                                 'text': 'stdout'}]}]},\n",
       "                            {'type': 65, 'text': '.'},\n",
       "                            {'type': 100, 'text': 'print'}]},\n",
       "                          {'type': 57, 'text': '('},\n",
       "                          {'expressionList': [{'expression': [{'primary': [{'literal': [{'type': 55,\n",
       "                                   'text': 'NUM00'}]}]}]}]},\n",
       "                          {'type': 58, 'text': ')'}]}]},\n",
       "                      {'type': 63, 'text': ';'}]}]},\n",
       "                  {'blockStatement': [{'localVariableDeclarationStatement': [{'localVariableDeclaration': [{'typeSpec': [{'classOrInterfaceType': [{'type': 100,\n",
       "                             'text': 'String'}]}]},\n",
       "                        {'variableDeclarators': [{'variableDeclarator': [{'variableDeclaratorId': [{'type': 100,\n",
       "                               'text': 'number'}]},\n",
       "                            {'type': 66, 'text': '='},\n",
       "                            {'variableInitializer': [{'expression': [{'expression': [{'expression': [{'primary': [{'type': 100,\n",
       "                                       'text': 'stdin'}]}]},\n",
       "                                  {'type': 65, 'text': '.'},\n",
       "                                  {'type': 100, 'text': 'readLine'}]},\n",
       "                                {'type': 57, 'text': '('},\n",
       "                                {'type': 58, 'text': ')'}]}]}]}]}]},\n",
       "                      {'type': 63, 'text': ';'}]}]},\n",
       "                  {'blockStatement': [{'statement': [{'type': 22,\n",
       "                       'text': 'if'},\n",
       "                      {'parExpression': [{'type': 57, 'text': '('},\n",
       "                        {'expression': [{'expression': [{'expression': [{'expression': [{'primary': [{'type': 100,\n",
       "                                   'text': 'number'}]}]},\n",
       "                              {'type': 65, 'text': '.'},\n",
       "                              {'type': 100, 'text': 'length'}]},\n",
       "                            {'type': 57, 'text': '('},\n",
       "                            {'type': 58, 'text': ')'}]},\n",
       "                          {'type': 73, 'text': '=='},\n",
       "                          {'expression': [{'primary': [{'literal': [{'type': 51,\n",
       "                                 'text': 'NUM00'}]}]}]}]},\n",
       "                        {'type': 58, 'text': ')'}]},\n",
       "                      {'statement': [{'block': [{'type': 59, 'text': '{'},\n",
       "                          {'blockStatement': [{'statement': [{'type': 4,\n",
       "                               'text': 'break'},\n",
       "                              {'type': 63, 'text': ';'}]}]},\n",
       "                          {'type': 60, 'text': '}'}]}]}]}]},\n",
       "                  {'blockStatement': [{'localVariableDeclarationStatement': [{'localVariableDeclaration': [{'typeSpec': [{'classOrInterfaceType': [{'type': 100,\n",
       "                             'text': 'Person'},\n",
       "                            {'type': 65, 'text': '.'},\n",
       "                            {'type': 100, 'text': 'PhoneNumber'},\n",
       "                            {'type': 65, 'text': '.'},\n",
       "                            {'type': 100, 'text': 'Builder'}]}]},\n",
       "                        {'variableDeclarators': [{'variableDeclarator': [{'variableDeclaratorId': [{'type': 100,\n",
       "                               'text': 'phoneNumber'}]},\n",
       "                            {'type': 66, 'text': '='},\n",
       "                            {'variableInitializer': [{'expression': [{'expression': [{'expression': [{'expression': [{'expression': [{'expression': [{'primary': [{'type': 100,\n",
       "                                             'text': 'Person'}]}]},\n",
       "                                        {'type': 65, 'text': '.'},\n",
       "                                        {'type': 100, 'text': 'PhoneNumber'}]},\n",
       "                                      {'type': 65, 'text': '.'},\n",
       "                                      {'type': 100, 'text': 'newBuilder'}]},\n",
       "                                    {'type': 57, 'text': '('},\n",
       "                                    {'type': 58, 'text': ')'}]},\n",
       "                                  {'type': 65, 'text': '.'},\n",
       "                                  {'type': 100, 'text': 'setNumber'}]},\n",
       "                                {'type': 57, 'text': '('},\n",
       "                                {'expressionList': [{'expression': [{'primary': [{'type': 100,\n",
       "                                       'text': 'number'}]}]}]},\n",
       "                                {'type': 58, 'text': ')'}]}]}]}]}]},\n",
       "                      {'type': 63, 'text': ';'}]}]},\n",
       "                  {'blockStatement': [{'statement': [{'statementExpression': [{'expression': [{'expression': [{'expression': [{'primary': [{'type': 100,\n",
       "                                 'text': 'stdout'}]}]},\n",
       "                            {'type': 65, 'text': '.'},\n",
       "                            {'type': 100, 'text': 'print'}]},\n",
       "                          {'type': 57, 'text': '('},\n",
       "                          {'expressionList': [{'expression': [{'primary': [{'literal': [{'type': 55,\n",
       "                                   'text': 'NUM00'}]}]}]}]},\n",
       "                          {'type': 58, 'text': ')'}]}]},\n",
       "                      {'type': 63, 'text': ';'}]}]},\n",
       "                  {'blockStatement': [{'localVariableDeclarationStatement': [{'localVariableDeclaration': [{'typeSpec': [{'classOrInterfaceType': [{'type': 100,\n",
       "                             'text': 'String'}]}]},\n",
       "                        {'variableDeclarators': [{'variableDeclarator': [{'variableDeclaratorId': [{'type': 100,\n",
       "                               'text': 'type'}]},\n",
       "                            {'type': 66, 'text': '='},\n",
       "                            {'variableInitializer': [{'expression': [{'expression': [{'expression': [{'primary': [{'type': 100,\n",
       "                                       'text': 'stdin'}]}]},\n",
       "                                  {'type': 65, 'text': '.'},\n",
       "                                  {'type': 100, 'text': 'readLine'}]},\n",
       "                                {'type': 57, 'text': '('},\n",
       "                                {'type': 58, 'text': ')'}]}]}]}]}]},\n",
       "                      {'type': 63, 'text': ';'}]}]},\n",
       "                  {'blockStatement': [{'statement': [{'type': 22,\n",
       "                       'text': 'if'},\n",
       "                      {'parExpression': [{'type': 57, 'text': '('},\n",
       "                        {'expression': [{'expression': [{'expression': [{'primary': [{'type': 100,\n",
       "                                 'text': 'type'}]}]},\n",
       "                            {'type': 65, 'text': '.'},\n",
       "                            {'type': 100, 'text': 'equals'}]},\n",
       "                          {'type': 57, 'text': '('},\n",
       "                          {'expressionList': [{'expression': [{'primary': [{'literal': [{'type': 55,\n",
       "                                   'text': 'NUM00'}]}]}]}]},\n",
       "                          {'type': 58, 'text': ')'}]},\n",
       "                        {'type': 58, 'text': ')'}]},\n",
       "                      {'statement': [{'block': [{'type': 59, 'text': '{'},\n",
       "                          {'blockStatement': [{'statement': [{'statementExpression': [{'expression': [{'expression': [{'expression': [{'primary': [{'type': 100,\n",
       "                                         'text': 'phoneNumber'}]}]},\n",
       "                                    {'type': 65, 'text': '.'},\n",
       "                                    {'type': 100, 'text': 'setType'}]},\n",
       "                                  {'type': 57, 'text': '('},\n",
       "                                  {'expressionList': [{'expression': [{'expression': [{'expression': [{'primary': [{'type': 100,\n",
       "                                             'text': 'Person'}]}]},\n",
       "                                        {'type': 65, 'text': '.'},\n",
       "                                        {'type': 100, 'text': 'PhoneType'}]},\n",
       "                                      {'type': 65, 'text': '.'},\n",
       "                                      {'type': 100, 'text': 'MOBILE'}]}]},\n",
       "                                  {'type': 58, 'text': ')'}]}]},\n",
       "                              {'type': 63, 'text': ';'}]}]},\n",
       "                          {'type': 60, 'text': '}'}]}]},\n",
       "                      {'type': 15, 'text': 'else'},\n",
       "                      {'statement': [{'type': 22, 'text': 'if'},\n",
       "                        {'parExpression': [{'type': 57, 'text': '('},\n",
       "                          {'expression': [{'expression': [{'expression': [{'primary': [{'type': 100,\n",
       "                                   'text': 'type'}]}]},\n",
       "                              {'type': 65, 'text': '.'},\n",
       "                              {'type': 100, 'text': 'equals'}]},\n",
       "                            {'type': 57, 'text': '('},\n",
       "                            {'expressionList': [{'expression': [{'primary': [{'literal': [{'type': 55,\n",
       "                                     'text': 'NUM00'}]}]}]}]},\n",
       "                            {'type': 58, 'text': ')'}]},\n",
       "                          {'type': 58, 'text': ')'}]},\n",
       "                        {'statement': [{'block': [{'type': 59, 'text': '{'},\n",
       "                            {'blockStatement': [{'statement': [{'statementExpression': [{'expression': [{'expression': [{'expression': [{'primary': [{'type': 100,\n",
       "                                           'text': 'phoneNumber'}]}]},\n",
       "                                      {'type': 65, 'text': '.'},\n",
       "                                      {'type': 100, 'text': 'setType'}]},\n",
       "                                    {'type': 57, 'text': '('},\n",
       "                                    {'expressionList': [{'expression': [{'expression': [{'expression': [{'primary': [{'type': 100,\n",
       "                                               'text': 'Person'}]}]},\n",
       "                                          {'type': 65, 'text': '.'},\n",
       "                                          {'type': 100, 'text': 'PhoneType'}]},\n",
       "                                        {'type': 65, 'text': '.'},\n",
       "                                        {'type': 100, 'text': 'HOME'}]}]},\n",
       "                                    {'type': 58, 'text': ')'}]}]},\n",
       "                                {'type': 63, 'text': ';'}]}]},\n",
       "                            {'type': 60, 'text': '}'}]}]},\n",
       "                        {'type': 15, 'text': 'else'},\n",
       "                        {'statement': [{'type': 22, 'text': 'if'},\n",
       "                          {'parExpression': [{'type': 57, 'text': '('},\n",
       "                            {'expression': [{'expression': [{'expression': [{'primary': [{'type': 100,\n",
       "                                     'text': 'type'}]}]},\n",
       "                                {'type': 65, 'text': '.'},\n",
       "                                {'type': 100, 'text': 'equals'}]},\n",
       "                              {'type': 57, 'text': '('},\n",
       "                              {'expressionList': [{'expression': [{'primary': [{'literal': [{'type': 55,\n",
       "                                       'text': 'NUM00'}]}]}]}]},\n",
       "                              {'type': 58, 'text': ')'}]},\n",
       "                            {'type': 58, 'text': ')'}]},\n",
       "                          {'statement': [{'block': [{'type': 59, 'text': '{'},\n",
       "                              {'blockStatement': [{'statement': [{'statementExpression': [{'expression': [{'expression': [{'expression': [{'primary': [{'type': 100,\n",
       "                                             'text': 'phoneNumber'}]}]},\n",
       "                                        {'type': 65, 'text': '.'},\n",
       "                                        {'type': 100, 'text': 'setType'}]},\n",
       "                                      {'type': 57, 'text': '('},\n",
       "                                      {'expressionList': [{'expression': [{'expression': [{'expression': [{'primary': [{'type': 100,\n",
       "                                                 'text': 'Person'}]}]},\n",
       "                                            {'type': 65, 'text': '.'},\n",
       "                                            {'type': 100,\n",
       "                                             'text': 'PhoneType'}]},\n",
       "                                          {'type': 65, 'text': '.'},\n",
       "                                          {'type': 100, 'text': 'WORK'}]}]},\n",
       "                                      {'type': 58, 'text': ')'}]}]},\n",
       "                                  {'type': 63, 'text': ';'}]}]},\n",
       "                              {'type': 60, 'text': '}'}]}]},\n",
       "                          {'type': 15, 'text': 'else'},\n",
       "                          {'statement': [{'block': [{'type': 59, 'text': '{'},\n",
       "                              {'blockStatement': [{'statement': [{'statementExpression': [{'expression': [{'expression': [{'expression': [{'primary': [{'type': 100,\n",
       "                                             'text': 'stdout'}]}]},\n",
       "                                        {'type': 65, 'text': '.'},\n",
       "                                        {'type': 100, 'text': 'println'}]},\n",
       "                                      {'type': 57, 'text': '('},\n",
       "                                      {'expressionList': [{'expression': [{'primary': [{'literal': [{'type': 55,\n",
       "                                               'text': 'NUM00'}]}]}]}]},\n",
       "                                      {'type': 58, 'text': ')'}]}]},\n",
       "                                  {'type': 63, 'text': ';'}]}]},\n",
       "                              {'type': 60, 'text': '}'}]}]}]}]}]}]},\n",
       "                  {'blockStatement': [{'statement': [{'statementExpression': [{'expression': [{'expression': [{'expression': [{'primary': [{'type': 100,\n",
       "                                 'text': 'person'}]}]},\n",
       "                            {'type': 65, 'text': '.'},\n",
       "                            {'type': 100, 'text': 'addPhones'}]},\n",
       "                          {'type': 57, 'text': '('},\n",
       "                          {'expressionList': [{'expression': [{'primary': [{'type': 100,\n",
       "                                 'text': 'phoneNumber'}]}]}]},\n",
       "                          {'type': 58, 'text': ')'}]}]},\n",
       "                      {'type': 63, 'text': ';'}]}]},\n",
       "                  {'type': 60, 'text': '}'}]}]}]}]},\n",
       "          {'blockStatement': [{'statement': [{'type': 36, 'text': 'return'},\n",
       "              {'expression': [{'expression': [{'expression': [{'primary': [{'type': 100,\n",
       "                       'text': 'person'}]}]},\n",
       "                  {'type': 65, 'text': '.'},\n",
       "                  {'type': 100, 'text': 'build'}]},\n",
       "                {'type': 57, 'text': '('},\n",
       "                {'type': 58, 'text': ')'}]},\n",
       "              {'type': 63, 'text': ';'}]}]},\n",
       "          {'type': 60, 'text': '}'}]}]}]}]}]}"
      ]
     },
     "execution_count": 44,
     "metadata": {},
     "output_type": "execute_result"
    }
   ],
   "source": [
    "tree_data[20572]"
   ]
  },
  {
   "cell_type": "code",
   "execution_count": null,
   "metadata": {},
   "outputs": [],
   "source": [
    "for key in abstract_code_keys:\n",
    "    if \"$id0 ( )\" in key:\n",
    "        print(key, abstract_code_dict[key]['count'])"
   ]
  },
  {
   "cell_type": "code",
   "execution_count": null,
   "metadata": {},
   "outputs": [],
   "source": []
  }
 ],
 "metadata": {
  "kernelspec": {
   "display_name": "Python 3",
   "language": "python",
   "name": "python3"
  },
  "language_info": {
   "codemirror_mode": {
    "name": "ipython",
    "version": 3
   },
   "file_extension": ".py",
   "mimetype": "text/x-python",
   "name": "python",
   "nbconvert_exporter": "python",
   "pygments_lexer": "ipython3",
   "version": "3.6.8"
  }
 },
 "nbformat": 4,
 "nbformat_minor": 4
}
