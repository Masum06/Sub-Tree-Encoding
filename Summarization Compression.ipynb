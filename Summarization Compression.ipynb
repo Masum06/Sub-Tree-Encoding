{
 "cells": [
  {
   "cell_type": "markdown",
   "metadata": {},
   "source": [
    "conda_tensorflow_p36"
   ]
  },
  {
   "cell_type": "code",
   "execution_count": 1,
   "metadata": {},
   "outputs": [],
   "source": [
    "import subprocess, json"
   ]
  },
  {
   "cell_type": "code",
   "execution_count": 2,
   "metadata": {},
   "outputs": [],
   "source": [
    "def add_class(method):\n",
    "    return \"public class Test {\\n\"+method+\"\\n}\""
   ]
  },
  {
   "cell_type": "code",
   "execution_count": 3,
   "metadata": {},
   "outputs": [],
   "source": [
    "def remove_class(parse_tree):\n",
    "    return {'classbody': parse_tree['compilationUnit'][0]['typeDeclaration'][1]['classDeclaration'][2]['classBody'][1:-1]}"
   ]
  },
  {
   "cell_type": "code",
   "execution_count": 4,
   "metadata": {},
   "outputs": [],
   "source": [
    "def parse(code):\n",
    "    code = add_class(code)\n",
    "    tree = subprocess.check_output(['java', '-jar', 'mavenproject1-1.0-SNAPSHOT-jar-with-dependencies.jar', code])\n",
    "    tree = json.loads(tree)\n",
    "    tree = remove_class(tree)\n",
    "    return tree"
   ]
  },
  {
   "cell_type": "code",
   "execution_count": 5,
   "metadata": {},
   "outputs": [],
   "source": [
    "def tree2code(tree, indentation):\n",
    "    if 'type' in tree:\n",
    "        code = tree['text'] + ' '\n",
    "        if tree['text'] in [';', '{', '}']:\n",
    "            code += '\\n'\n",
    "            if tree['text'] == '{':\n",
    "                indentation += 1\n",
    "            elif tree['text'] == '}':\n",
    "                indentation -= 1\n",
    "            code += '\\t'*indentation\n",
    "        return code, indentation\n",
    "    else:\n",
    "        root = list(tree.keys())[0]\n",
    "        children = tree[root]\n",
    "        code = \"\"\n",
    "        for child in children:\n",
    "            t, indentation = tree2code(child, indentation)\n",
    "            code += t\n",
    "        return code, indentation"
   ]
  },
  {
   "cell_type": "code",
   "execution_count": null,
   "metadata": {
    "scrolled": true
   },
   "outputs": [],
   "source": []
  },
  {
   "cell_type": "code",
   "execution_count": 40,
   "metadata": {
    "scrolled": true
   },
   "outputs": [
    {
     "data": {
      "text/plain": [
       "{'classbody': [{'classBodyDeclaration': [{'modifier': [{'classOrInterfaceModifier': [{'annotation': [{'type': 101,\n",
       "           'text': '@'},\n",
       "          {'annotationName': [{'qualifiedName': [{'type': 100,\n",
       "               'text': 'Override'}]}]}]}]}]},\n",
       "    {'modifier': [{'classOrInterfaceModifier': [{'type': 35,\n",
       "         'text': 'public'}]}]},\n",
       "    {'memberDeclaration': []}]},\n",
       "  {'classBodyDeclaration': [{'memberDeclaration': [{'type': 27,\n",
       "       'text': 'int'}]}]},\n",
       "  {'classBodyDeclaration': [{'memberDeclaration': [{'methodDeclaration': [{'typeSpec': [{'classOrInterfaceType': [{'type': 100,\n",
       "             'text': 'run'}]}]},\n",
       "        {'type': 100, 'text': 'Command'},\n",
       "        {'formalParameters': [{'type': 57, 'text': '('},\n",
       "          {'formalParameterList': [{'formalParameter': [{'typeSpec': [{'primitiveType': [{'type': 3,\n",
       "                   'text': 'boolean'}]}]},\n",
       "              {'variableDeclaratorId': [{'type': 100,\n",
       "                 'text': 'merge'}]}]}]}]}]}]}]},\n",
       "  {'classBodyDeclaration': [{'memberDeclaration': []}]},\n",
       "  {'classBodyDeclaration': [{'memberDeclaration': [{'type': 100,\n",
       "       'text': 'Error'}]}]},\n",
       "  {'classBodyDeclaration': [{'memberDeclaration': [{'fieldDeclaration': [{'typeSpec': [{'classOrInterfaceType': [{'type': 100,\n",
       "             'text': 'Into'}]}]},\n",
       "        {'variableDeclarators': [{'variableDeclarator': [{'variableDeclaratorId': [{'type': 100,\n",
       "               'text': 'Output'}]}]},\n",
       "          {'type': 64, 'text': ','},\n",
       "          {'variableDeclarator': [{'variableDeclaratorId': [{'type': 100,\n",
       "               'text': 'String'}]}]}]},\n",
       "        {'type': 102, 'text': '...'}]}]}]},\n",
       "  {'classBodyDeclaration': [{'memberDeclaration': []}]},\n",
       "  {'classBodyDeclaration': [{'memberDeclaration': [{'type': 100,\n",
       "       'text': 'commands'},\n",
       "      {'type': 58, 'text': ')'},\n",
       "      {'type': 45, 'text': 'throws'}]}]},\n",
       "  {'classBodyDeclaration': [{'memberDeclaration': [{'fieldDeclaration': [{'typeSpec': [{'classOrInterfaceType': [{'type': 100,\n",
       "             'text': 'IO'}]}]},\n",
       "        {'variableDeclarators': [{'variableDeclarator': [{'variableDeclaratorId': [{'type': 100,\n",
       "               'text': 'Exception'}]}]},\n",
       "          {'type': 64, 'text': ','},\n",
       "          {'variableDeclarator': [{'variableDeclaratorId': [{'type': 100,\n",
       "               'text': 'Interrupted'}]}]}]},\n",
       "        {'type': 63, 'text': \"<missing ';'>\"}]}]}]},\n",
       "  {'classBodyDeclaration': [{'memberDeclaration': []}]},\n",
       "  {'classBodyDeclaration': [{'memberDeclaration': [{'type': 100,\n",
       "       'text': 'Exception'}]}]},\n",
       "  {'classBodyDeclaration': [{'block': [{'type': 59, 'text': '{'},\n",
       "      {'blockStatement': [{'statement': [{'type': 36, 'text': 'return'},\n",
       "          {'expression': [{'primary': [{'type': 100, 'text': 'run'}]}]},\n",
       "          {'type': 63, 'text': \"<missing ';'>\"}]}]},\n",
       "      {'blockStatement': [{'statement': [{'statementExpression': [{'expression': [{'expression': [{'primary': [{'type': 100,\n",
       "                   'text': 'Command'}]}]},\n",
       "              {'type': 57, 'text': '('},\n",
       "              {'expressionList': [{'expression': [{'primary': [{'type': 100,\n",
       "                     'text': 'merge'}]}]}]}]}]},\n",
       "          {'type': 63, 'text': \"<missing ';'>\"}]}]},\n",
       "      {'blockStatement': [{'localVariableDeclarationStatement': [{'localVariableDeclaration': [{'typeSpec': [{'classOrInterfaceType': [{'type': 100,\n",
       "                 'text': 'Error'}]}]},\n",
       "            {'variableDeclarators': [{'variableDeclarator': [{'variableDeclaratorId': [{'type': 100,\n",
       "                   'text': 'Into'}]}]}]}]},\n",
       "          {'type': 63, 'text': \"<missing ';'>\"}]}]},\n",
       "      {'blockStatement': []},\n",
       "      {'blockStatement': [{'type': 100, 'text': 'Output'},\n",
       "        {'type': 64, 'text': ','}]},\n",
       "      {'blockStatement': [{'statement': [{'statementExpression': [{'expression': [{'type': 31,\n",
       "               'text': 'new'},\n",
       "              {'creator': [{'createdName': [{'type': 100,\n",
       "                   'text': 'Array'}]}]}]}]},\n",
       "          {'type': 63, 'text': \"<missing ';'>\"}]}]},\n",
       "      {'blockStatement': [{'statement': [{'statementExpression': [{'expression': [{'expression': [{'expression': [{'expression': [{'primary': [{'type': 100,\n",
       "                       'text': 'List'}]}]},\n",
       "                  {'type': 68, 'text': '<'},\n",
       "                  {'expression': [{'primary': [{'type': 100,\n",
       "                       'text': 'String'}]}]}]},\n",
       "                {'type': 67, 'text': '>'},\n",
       "                {'expression': []}]},\n",
       "              {'type': 57, 'text': '('},\n",
       "              {'expressionList': [{'expression': [{'expression': [{'primary': [{'type': 100,\n",
       "                       'text': 'Arrays'}]}]},\n",
       "                  {'type': 65, 'text': '.'},\n",
       "                  {'type': 100, 'text': 'as'}]}]}]}]},\n",
       "          {'type': 63, 'text': \"<missing ';'>\"}]}]},\n",
       "      {'blockStatement': [{'statement': [{'statementExpression': [{'expression': [{'expression': [{'primary': [{'type': 100,\n",
       "                   'text': 'List'}]}]},\n",
       "              {'type': 57, 'text': '('},\n",
       "              {'expressionList': [{'expression': [{'primary': [{'type': 100,\n",
       "                     'text': 'commands'}]}]}]},\n",
       "              {'type': 58, 'text': ')'}]}]},\n",
       "          {'type': 58, 'text': ')'},\n",
       "          {'type': 58, 'text': ')'}]}]},\n",
       "      {'blockStatement': [{'statement': [{'type': 63, 'text': ';'}]}]},\n",
       "      {'type': 60, 'text': '}'}]}]}]}"
      ]
     },
     "execution_count": 40,
     "metadata": {},
     "output_type": "execute_result"
    }
   ],
   "source": [
    "code = \"\"\"@ Override public int run Command ( boolean merge Error Into Output , String ... commands ) throws IO Exception , Interrupted Exception { return run Command ( merge Error Into Output , new Array List < String > ( Arrays . as List ( commands ) ) ) ; }\"\"\"\n",
    "tree = parse(code)\n",
    "tree"
   ]
  },
  {
   "cell_type": "code",
   "execution_count": 44,
   "metadata": {
    "scrolled": true
   },
   "outputs": [
    {
     "name": "stdout",
     "output_type": "stream",
     "text": [
      "@ Override public int run Command ( boolean merge Error Into Output , String ... commands ) throws IO Exception , Interrupted <missing ';'> Exception { \n",
      "return run <missing ';'> Command ( merge <missing ';'> Error Into <missing ';'> Output , new Array <missing ';'> List < String > ( Arrays . as <missing ';'> List ( commands ) ) ) ; \n",
      "} \n",
      "\n"
     ]
    }
   ],
   "source": [
    "print(tree2code(tree,-1)[0])"
   ]
  },
  {
   "cell_type": "code",
   "execution_count": null,
   "metadata": {},
   "outputs": [],
   "source": [
    "# add class\n",
    "# parse\n",
    "# build dictionary\n",
    "# Build Numto compress\n",
    "# compress\n",
    "# tokenize\n",
    "# remove class tokens"
   ]
  },
  {
   "cell_type": "markdown",
   "metadata": {},
   "source": [
    "# Building Dictionary"
   ]
  },
  {
   "cell_type": "code",
   "execution_count": 6,
   "metadata": {
    "scrolled": true
   },
   "outputs": [],
   "source": [
    "abstract_code_dict = {}\n",
    "compression_number = 0\n",
    "freq_dict = {}"
   ]
  },
  {
   "cell_type": "code",
   "execution_count": null,
   "metadata": {},
   "outputs": [],
   "source": [
    "import datetime\n",
    "start = datetime.datetime.now()\n",
    "\n",
    "path = '../code_summarization/train/code.original'\n",
    "print(\"=====[\", path,\"]=====\")\n",
    "i = 0\n",
    "try:\n",
    "    with open(path) as data:\n",
    "        for raw_code in data:\n",
    "            if i%10000 == 0: print(\"[\", i, \"]\")\n",
    "            \n",
    "            tree = parse(raw_code)\n",
    "            (code, leaf_count, id_count, var_list) = build_n_compress(tree, True)\n",
    "            i+=1\n",
    "except:\n",
    "    print(\"Line:\",i,\"is corrupted. Cannot build dictionary.\")\n",
    "\n",
    "for key in list(abstract_code_dict):\n",
    "    if abstract_code_dict[key]['count'] < 2:\n",
    "        del abstract_code_dict[key]\n",
    "\n",
    "end = datetime.datetime.now()\n",
    "print(end-start)\n",
    "abstract_code_keys = sorted(abstract_code_dict, key = lambda x:abstract_code_dict[x]['count'], reverse=True)\n",
    "end = datetime.datetime.now()\n",
    "print(\"Dictionary building complete in - \",end-start)"
   ]
  },
  {
   "cell_type": "code",
   "execution_count": 15,
   "metadata": {
    "scrolled": false
   },
   "outputs": [
    {
     "data": {
      "text/plain": [
       "['../code_summarization/dev/code.original',\n",
       " '../code_summarization/test/code.original',\n",
       " '../code_summarization/train/code.original']"
      ]
     },
     "execution_count": 15,
     "metadata": {},
     "output_type": "execute_result"
    }
   ],
   "source": [
    "# Use glob to find all files\n",
    "# Or just list the 6 directories manually\n",
    "paths = [\n",
    "    '../code_summarization/dev/code.original',\n",
    "    '../code_summarization/test/code.original',\n",
    "    '../code_summarization/train/code.original'\n",
    "]\n",
    "paths"
   ]
  },
  {
   "cell_type": "code",
   "execution_count": null,
   "metadata": {},
   "outputs": [],
   "source": [
    "## build freq_dict\n"
   ]
  },
  {
   "cell_type": "code",
   "execution_count": null,
   "metadata": {},
   "outputs": [],
   "source": [
    "## add func_names from abstract_code_dict, set count: 0\n",
    "\n",
    "for i in range in len(abstract_code_dict):\n",
    "    func = '$F'+str(i)\n",
    "    freq_dict[func] = 0"
   ]
  },
  {
   "cell_type": "code",
   "execution_count": null,
   "metadata": {},
   "outputs": [],
   "source": [
    "## initialize vocab_size\n",
    "vocab_size = 50000"
   ]
  },
  {
   "cell_type": "code",
   "execution_count": null,
   "metadata": {},
   "outputs": [],
   "source": [
    "import re\n",
    "\n",
    "num_to_compress = 0\n",
    "for i in range(len(abstract_code_keys)):\n",
    "    func_name = abstract_code_dict[abstract_code_keys[i]]['compressed_name']\n",
    "    code = abstract_code_keys[i]\n",
    "    count = abstract_code_dict[abstract_code_keys[i]]['count']\n",
    "    most_frequent_list = sorted(freq_dict, key = lambda x:freq_dict[x], reverse=True)\n",
    "    \n",
    "    if count >= freq_dict[most_frequent_list[vocab_size]]:\n",
    "        token_list = [x for x in code.split() if x[:3] != '$id']\n",
    "        for token in token_list:\n",
    "            freq_dict[token] -= count\n",
    "        freq_dict[func_name] += count\n",
    "    else:\n",
    "        num_to_compress = i\n",
    "        print(\"Number to Compress:\",i)\n",
    "        break\n",
    "most_frequent_list = sorted(freq_dict, key = lambda x:freq_dict[x], reverse=True)"
   ]
  },
  {
   "cell_type": "code",
   "execution_count": null,
   "metadata": {},
   "outputs": [],
   "source": []
  },
  {
   "cell_type": "code",
   "execution_count": null,
   "metadata": {},
   "outputs": [],
   "source": []
  },
  {
   "cell_type": "code",
   "execution_count": 2,
   "metadata": {},
   "outputs": [],
   "source": []
  },
  {
   "cell_type": "code",
   "execution_count": null,
   "metadata": {},
   "outputs": [],
   "source": []
  },
  {
   "cell_type": "code",
   "execution_count": null,
   "metadata": {},
   "outputs": [],
   "source": []
  }
 ],
 "metadata": {
  "kernelspec": {
   "display_name": "conda_tensorflow_p36",
   "language": "python",
   "name": "conda_tensorflow_p36"
  },
  "language_info": {
   "codemirror_mode": {
    "name": "ipython",
    "version": 3
   },
   "file_extension": ".py",
   "mimetype": "text/x-python",
   "name": "python",
   "nbconvert_exporter": "python",
   "pygments_lexer": "ipython3",
   "version": "3.6.10"
  }
 },
 "nbformat": 4,
 "nbformat_minor": 4
}
