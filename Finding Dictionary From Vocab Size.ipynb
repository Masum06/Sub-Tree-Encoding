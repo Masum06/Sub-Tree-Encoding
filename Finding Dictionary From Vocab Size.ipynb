{
 "cells": [
  {
   "cell_type": "code",
   "execution_count": null,
   "metadata": {},
   "outputs": [],
   "source": [
    "### Compress child and token together: 10k\n",
    "# Coverage: 0.9927927927927928\n",
    "# Functions survived after addidngg in freq_dict: 2220\n",
    "# Ended up after compression: 2204\n",
    "# Compression Ratio: 0.8523115931079496\n",
    "\n",
    "### Compress child and token together: 20k\n",
    "# Coverage: 0.992019507869652\n",
    "# Functions survived after addidngg in freq_dict: 4511\n",
    "# Ended up after compression: 4475\n",
    "# Compression Ratio: 0.8282915522161035\n",
    "\n",
    "### Compress child and token together: 30k\n",
    "# Coverage: 0.9915953774576017\n",
    "# Functions survived after addidngg in freq_dict: 6620\n",
    "# Ended up after compression: 6607\n",
    "# Compression Ratio: 0.8120006470466895"
   ]
  },
  {
   "cell_type": "code",
   "execution_count": null,
   "metadata": {},
   "outputs": [],
   "source": [
    "import pickle"
   ]
  },
  {
   "cell_type": "code",
   "execution_count": null,
   "metadata": {},
   "outputs": [],
   "source": [
    "filename = \"../CodeSearchNet/big_csn_data/CodeSearchNet_Java_Search_Preliminary.pkl\"\n",
    "infile = open(filename,'rb')\n",
    "new_dict = pickle.load(infile)\n",
    "infile.close()"
   ]
  },
  {
   "cell_type": "markdown",
   "metadata": {},
   "source": [
    "## Function Definitions"
   ]
  },
  {
   "cell_type": "code",
   "execution_count": 8,
   "metadata": {},
   "outputs": [],
   "source": [
    "import json\n",
    "import copy\n",
    "def getJsonData(JsonFile):\n",
    "    with open(JsonFile, encoding=\"utf8\") as f:\n",
    "        data = json.load(f)\n",
    "    return data\n",
    "    \n",
    "def dump_dict(data, name):\n",
    "    with open(name, 'w', encoding=\"utf8\") as f:\n",
    "        json.dump(data, f)"
   ]
  },
  {
   "cell_type": "code",
   "execution_count": 3,
   "metadata": {},
   "outputs": [],
   "source": [
    "import ast\n",
    "def tree2code(tree, indentation):\n",
    "    code = \"\"\n",
    "    parent = list(tree.keys())[0]\n",
    "    children = tree[parent]\n",
    "    if 'type' in tree:\n",
    "        code = tree['text'] + ' '\n",
    "        if tree['text'] in [';', '{', '}']:\n",
    "            code += '\\n'\n",
    "            if tree['text'] == '{':\n",
    "                indentation += 1\n",
    "            elif tree['text'] == '}':\n",
    "                indentation -= 1\n",
    "            code += '\\t'*indentation\n",
    "        #return code, indentation\n",
    "    elif len(children)==1 and parent == \"literal\":\n",
    "        child = children[0]\n",
    "        child_text = child[\"text\"]\n",
    "        #type(ast.literal_eval(child_text))\n",
    "        try:\n",
    "            if child_text in ['null', 'true', 'false']:\n",
    "                code = child_text + \" \"\n",
    "            elif type(ast.literal_eval(child_text)) == type(\"STRING\"):\n",
    "                code = \"STRING00 \"\n",
    "            elif type(ast.literal_eval(child_text)) == type(1):\n",
    "                code = \"INT00 \"\n",
    "            elif type(ast.literal_eval(child_text)) == type(1.1):\n",
    "                code = \"FLOAT00 \"\n",
    "        except:\n",
    "            code = \"NUM00 \"\n",
    "    else:\n",
    "        root = list(tree.keys())[0]\n",
    "        children = tree[root]\n",
    "        for child in children:\n",
    "            t, indentation = tree2code(child, indentation)\n",
    "            code += t\n",
    "    return code, indentation"
   ]
  },
  {
   "cell_type": "code",
   "execution_count": 4,
   "metadata": {},
   "outputs": [],
   "source": [
    "import ast\n",
    "def get_compressed_func():\n",
    "    global compression_number\n",
    "    compression_number += 1\n",
    "    return \"$F\"+str(compression_number)"
   ]
  },
  {
   "cell_type": "code",
   "execution_count": 5,
   "metadata": {},
   "outputs": [],
   "source": [
    "def build_dict(tree):\n",
    "    var_list = []\n",
    "    global abstract_code_dict_copy\n",
    "    global abstract_code_keys\n",
    "    \n",
    "    \n",
    "    if 'text' in tree:\n",
    "        code = tree[\"text\"] + \" \"\n",
    "        #print(\"**:\\t\",code, 1)\n",
    "        return (code, 1, 0, [], None)\n",
    "    else:\n",
    "        parent = list(tree.keys())[0]\n",
    "        children = tree[parent]\n",
    "        if len(children) == 0:\n",
    "            return (\"\", 0, 0, [], None)\n",
    "        \n",
    "        code = \"\"\n",
    "        compressed_func = None\n",
    "        leaf_count = 0\n",
    "        id_count = 0\n",
    "        children_list = []\n",
    "        #leaf_list = []\n",
    "        \n",
    "        '''\n",
    "        and not (len(children) == 2 and 'text' in children[1] and children[1]['text'] == ';')\\\n",
    "        and not (len(children) == 3 and 'text' in children[0] and 'text' in children[2] and \\\n",
    "                 ((children[0]['text'] == '(' and children[2]['text'] == ')') or \n",
    "                  (children[0]['text'] == '{' and children[2]['text'] == '}') or\n",
    "                  (children[0]['text'] == '[' and children[2]['text'] == ']')))\n",
    "        '''\n",
    "        \n",
    "        if len(children) > 1:\n",
    "            for child in children:\n",
    "                (c, n, i, vl, f) = build_dict(child)\n",
    "                code += c\n",
    "                leaf_count += n\n",
    "                id_count += i\n",
    "                var_list += [v for v in vl if v not in var_list]\n",
    "                if f: children_list.append(f)\n",
    "                #else: leaf_list += code.split()\n",
    "                \n",
    "            if (var_list and leaf_count - len(var_list) >= 4) or (not var_list and leaf_count > 1) :\n",
    "                abstract_code = code.split()\n",
    "                for i in range(len(abstract_code)):\n",
    "                    if abstract_code[i] in var_list:\n",
    "                        abstract_code[i] = \"$id{}\".format(var_list.index(abstract_code[i]))\n",
    "                abstract_code = ' '.join(abstract_code)\n",
    "                \n",
    "                if abstract_code not in abstract_code_dict:\n",
    "                    compressed_func = get_compressed_func()\n",
    "                    abstract_code_dict[abstract_code] = {\n",
    "                        'count': 0, \n",
    "                        'compressed_name': compressed_func,\n",
    "                        'num_params': len(var_list),\n",
    "                        'children': children_list,\n",
    "                        #'leaves': leaf_list\n",
    "                    }\n",
    "                else:\n",
    "                    compressed_func = abstract_code_dict[abstract_code]['compressed_name']\n",
    "                \n",
    "                abstract_code_dict[abstract_code]['count'] += 1\n",
    "#                 children_list.insert(0, compressed_func)\n",
    "                \n",
    "            return (code, leaf_count, id_count, var_list, compressed_func)\n",
    "        \n",
    "        if parent == \"literal\":\n",
    "            child = children[0]\n",
    "            child_text = child[\"text\"]\n",
    "            try:\n",
    "                if child_text in ['null', 'true', 'false']:\n",
    "                    pass\n",
    "                elif type(ast.literal_eval(child_text)) == type(\"STRING\"):\n",
    "                    children[0][\"text\"] = \"STRING00\"\n",
    "                elif type(ast.literal_eval(child_text)) == type(1):\n",
    "                    children[0][\"text\"] = \"INT00\"\n",
    "                elif type(ast.literal_eval(child_text)) == type(1.1):\n",
    "                    children[0][\"text\"] = \"FLOAT00\"\n",
    "            except:\n",
    "                children[0][\"text\"] = \"NUM00\"\n",
    "            code = children[0][\"text\"] + \" \"\n",
    "        elif parent == \"primary\" and 'type' in children[0]:\n",
    "            id_count += 1\n",
    "            text = children[0][\"text\"]\n",
    "            if text not in var_list:\n",
    "                var_list.append(text)\n",
    "            code = text + \" \"\n",
    "        elif parent == \"variableDeclaratorId\" and 'type' in children[0]:\n",
    "            id_count += 1\n",
    "            text = children[0][\"text\"]\n",
    "            if text not in var_list:\n",
    "                var_list.append(text)\n",
    "            code = text + \" \"\n",
    "        else:\n",
    "            (code, leaf_count, i, vl, compressed_func) = build_dict(children[0])\n",
    "            id_count += i\n",
    "            var_list += [v for v in vl if v not in var_list]\n",
    "        \n",
    "        return (code, leaf_count, id_count, var_list, compressed_func)"
   ]
  },
  {
   "cell_type": "code",
   "execution_count": 6,
   "metadata": {},
   "outputs": [],
   "source": [
    "def compress(tree):\n",
    "    var_list = []\n",
    "    global abstract_code_dict_copy\n",
    "    global abstract_code_keys\n",
    "    \n",
    "    if 'text' in tree:\n",
    "        code = tree[\"text\"] + \" \"\n",
    "        #print(\"**:\\t\",code, 1)\n",
    "        return (code, 1, 0, [])\n",
    "    else:\n",
    "        parent = list(tree.keys())[0]\n",
    "        children = tree[parent]\n",
    "        if len(children) == 0:\n",
    "            return (\"\", 0, 0, [])\n",
    "        \n",
    "        code = \"\"\n",
    "        compressed_func = None\n",
    "        leaf_count = 0\n",
    "        id_count = 0\n",
    "        children_list = []\n",
    "        \n",
    "        if len(children) > 1:\n",
    "            for child in children:\n",
    "                (c, n, i, vl) = compress(child)\n",
    "                code += c\n",
    "                leaf_count += n\n",
    "                id_count += i\n",
    "                var_list += [v for v in vl if v not in var_list]\n",
    "                \n",
    "            if (var_list and leaf_count - len(var_list) >= 4) or (not var_list and leaf_count > 1) :\n",
    "                abstract_code = code.split()\n",
    "                for i in range(len(abstract_code)):\n",
    "                    if abstract_code[i] in var_list:\n",
    "                        abstract_code[i] = \"$id{}\".format(var_list.index(abstract_code[i]))\n",
    "                abstract_code = ' '.join(abstract_code)\n",
    "                \n",
    "                #---------------------------------------------------\n",
    "                if abstract_code in abstract_code_keys:\n",
    "                    compressed_func = abstract_code_dict_copy[abstract_code]['compressed_name']\n",
    "                    compressed_func += ' ( ' +' , '.join(var_list)+' )' if var_list else ''\n",
    "                    tree[parent] = [{\"type\": \"compressed\", \"text\": compressed_func}]\n",
    "                #---------------------------------------------------\n",
    "\n",
    "            return (code, leaf_count, id_count, var_list)\n",
    "        \n",
    "        if parent == \"literal\":\n",
    "            child = children[0]\n",
    "            child_text = child[\"text\"]\n",
    "            try:\n",
    "                if child_text in ['null', 'true', 'false']:\n",
    "                    pass\n",
    "                elif type(ast.literal_eval(child_text)) == type(\"STRING\"):\n",
    "                    children[0][\"text\"] = \"STRING00\"\n",
    "                elif type(ast.literal_eval(child_text)) == type(1):\n",
    "                    children[0][\"text\"] = \"INT00\"\n",
    "                elif type(ast.literal_eval(child_text)) == type(1.1):\n",
    "                    children[0][\"text\"] = \"FLOAT00\"\n",
    "            except:\n",
    "                children[0][\"text\"] = \"NUM00\"\n",
    "            code = children[0][\"text\"] + \" \"\n",
    "            \n",
    "        elif parent == \"primary\" and 'type' in children[0]:\n",
    "            id_count += 1\n",
    "            text = children[0][\"text\"]\n",
    "            if text not in var_list:\n",
    "                var_list.append(text)\n",
    "            code = text + \" \"\n",
    "        elif parent == \"variableDeclaratorId\" and 'type' in children[0]:\n",
    "            id_count += 1\n",
    "            text = children[0][\"text\"]\n",
    "            if text not in var_list:\n",
    "                var_list.append(text)\n",
    "            code = text + \" \"\n",
    "        else:\n",
    "            (code, leaf_count, i, vl) = compress(children[0])\n",
    "            id_count += i\n",
    "            var_list += [v for v in vl if v not in var_list]\n",
    "        \n",
    "        return (code, leaf_count, id_count, var_list)"
   ]
  },
  {
   "cell_type": "code",
   "execution_count": 9,
   "metadata": {},
   "outputs": [],
   "source": [
    "## Loading one training data\n",
    "tree_data = getJsonData(\"../test_data/java_train_3.json\")"
   ]
  },
  {
   "cell_type": "markdown",
   "metadata": {},
   "source": [
    "### Building Dictionary"
   ]
  },
  {
   "cell_type": "code",
   "execution_count": null,
   "metadata": {},
   "outputs": [],
   "source": []
  },
  {
   "cell_type": "code",
   "execution_count": 6,
   "metadata": {},
   "outputs": [],
   "source": [
    "abstract_code_dict = {}\n",
    "compression_number = 0"
   ]
  },
  {
   "cell_type": "code",
   "execution_count": 7,
   "metadata": {},
   "outputs": [
    {
     "name": "stdout",
     "output_type": "stream",
     "text": [
      "0\n",
      "5000\n",
      "10000\n",
      "15000\n",
      "20000\n",
      "25000\n",
      "30000\n"
     ]
    }
   ],
   "source": [
    "i = 0\n",
    "for data in tree_data:\n",
    "    if not i%5000: print(i)\n",
    "    build_dict(data)\n",
    "    i += 1\n",
    "print(i)"
   ]
  },
  {
   "cell_type": "code",
   "execution_count": 8,
   "metadata": {
    "scrolled": true
   },
   "outputs": [],
   "source": [
    "dump_dict(abstract_code_dict, '../test_data/abstract_code_dict.json')"
   ]
  },
  {
   "cell_type": "code",
   "execution_count": 14,
   "metadata": {
    "scrolled": true
   },
   "outputs": [
    {
     "name": "stdout",
     "output_type": "stream",
     "text": [
      "[ 0 ]\n",
      "[ 5000 ]\n",
      "[ 10000 ]\n",
      "[ 15000 ]\n",
      "[ 20000 ]\n",
      "[ 25000 ]\n",
      "[ 29999 ]\n"
     ]
    }
   ],
   "source": [
    "## build freq_dict\n",
    "freq_dict_original = {}\n",
    "uncompressed_codes = []\n",
    "\n",
    "for i in range(len(tree_data)):\n",
    "    if i%5000 == 0: print(\"[\", i, \"]\")\n",
    "    code, _ = tree2code(tree_data[i], 0)\n",
    "    uncompressed_codes.append({\"code\": code})\n",
    "    tokens = code.split()\n",
    "\n",
    "    for token in tokens:\n",
    "        if token not in freq_dict_original: freq_dict_original[token] = 0\n",
    "        freq_dict_original[token] += 1\n",
    "print(\"[\", i, \"]\")"
   ]
  },
  {
   "cell_type": "code",
   "execution_count": 15,
   "metadata": {},
   "outputs": [],
   "source": [
    "dump_dict(freq_dict_original, '../test_data/freq_dict.json')"
   ]
  },
  {
   "cell_type": "code",
   "execution_count": 17,
   "metadata": {},
   "outputs": [],
   "source": [
    "dump_dict(uncompressed_codes, \"../test_data/uncompressed_codes_no_literal_train_3.json\")"
   ]
  },
  {
   "cell_type": "code",
   "execution_count": 11,
   "metadata": {},
   "outputs": [],
   "source": [
    "abstract_code_dict = getJsonData('../test_data/abstract_code_dict.json')"
   ]
  },
  {
   "cell_type": "code",
   "execution_count": 13,
   "metadata": {},
   "outputs": [],
   "source": [
    "freq_dict_original = getJsonData('../test_data/freq_dict.json')"
   ]
  },
  {
   "cell_type": "code",
   "execution_count": 12,
   "metadata": {
    "scrolled": true
   },
   "outputs": [],
   "source": [
    "func2abs = {}\n",
    "\n",
    "for key in abstract_code_dict:\n",
    "    func2abs[abstract_code_dict[key]['compressed_name']] = key"
   ]
  },
  {
   "cell_type": "code",
   "execution_count": null,
   "metadata": {},
   "outputs": [],
   "source": []
  },
  {
   "cell_type": "markdown",
   "metadata": {},
   "source": [
    "### For Reruns, run from here"
   ]
  },
  {
   "cell_type": "code",
   "execution_count": 37,
   "metadata": {},
   "outputs": [],
   "source": [
    "vocab_size = 20000"
   ]
  },
  {
   "cell_type": "code",
   "execution_count": 38,
   "metadata": {},
   "outputs": [
    {
     "data": {
      "text/plain": [
       "411762"
      ]
     },
     "execution_count": 38,
     "metadata": {},
     "output_type": "execute_result"
    }
   ],
   "source": [
    "import copy\n",
    "abstract_code_dict_copy = copy.deepcopy(abstract_code_dict)\n",
    "abstract_code_keys = sorted(abstract_code_dict_copy, key = lambda x:abstract_code_dict_copy[x]['count'], reverse=True)\n",
    "len(abstract_code_keys)"
   ]
  },
  {
   "cell_type": "code",
   "execution_count": 39,
   "metadata": {
    "scrolled": true
   },
   "outputs": [
    {
     "data": {
      "text/plain": [
       "82769"
      ]
     },
     "execution_count": 39,
     "metadata": {},
     "output_type": "execute_result"
    }
   ],
   "source": [
    "freq_dict = copy.deepcopy(freq_dict_original)\n",
    "most_freq = sorted(freq_dict, key = lambda x:freq_dict[x], reverse=True)\n",
    "len(most_freq)"
   ]
  },
  {
   "cell_type": "code",
   "execution_count": 41,
   "metadata": {
    "scrolled": false
   },
   "outputs": [
    {
     "data": {
      "text/plain": [
       "('beginCancelWithServiceResponseAsync', 6)"
      ]
     },
     "execution_count": 41,
     "metadata": {},
     "output_type": "execute_result"
    }
   ],
   "source": [
    "min_freq = freq_dict[most_freq[vocab_size]]\n",
    "most_freq[vocab_size], min_freq\n",
    "# 10k : ('nColors', 11)\n",
    "# 30k: ('ceMask_', 4)\n",
    "# 20k: ('beginCancelWithServiceResponseAsync', 6)"
   ]
  },
  {
   "cell_type": "code",
   "execution_count": 43,
   "metadata": {},
   "outputs": [
    {
     "data": {
      "text/plain": [
       "11167"
      ]
     },
     "execution_count": 43,
     "metadata": {},
     "output_type": "execute_result"
    }
   ],
   "source": [
    "# Tokens that are less than the min-count, will not appear on the final vocab\n",
    "\n",
    "for key in list(abstract_code_dict_copy):\n",
    "    if abstract_code_dict_copy[key]['count'] < min_freq:\n",
    "        del abstract_code_dict_copy[key]\n",
    "abstract_code_keys = sorted(abstract_code_dict_copy, key = lambda x:abstract_code_dict_copy[x]['count'], reverse=True)\n",
    "len(abstract_code_keys)"
   ]
  },
  {
   "cell_type": "code",
   "execution_count": 44,
   "metadata": {
    "scrolled": true
   },
   "outputs": [
    {
     "name": "stdout",
     "output_type": "stream",
     "text": [
      "0 : 0\n",
      "$F356864 is less frequent than parent $F356865\n",
      "$F355549 is less frequent than parent $F355550\n",
      "$F355283 is less frequent than parent $F355287\n",
      "$F11431 is less frequent than parent $F11432\n",
      "500 : 370\n",
      "$F113753 is less frequent than parent $F113754\n",
      "1000 : 732\n",
      "1500 : 1072\n",
      "2000 : 1386\n",
      "2500 : 1712\n",
      "$F113618 is less frequent than parent $F113619\n",
      "3000 : 2034\n",
      "3500 : 2365\n",
      "$F28782 is less frequent than parent $F28783\n",
      "4000 : 2654\n",
      "4500 : 2964\n",
      "$F113672 is less frequent than parent $F113673\n",
      "5000 : 3271\n",
      "5500 : 3556\n",
      "6000 : 3810\n",
      "6500 : 4113\n",
      "7000 : 4396\n",
      "7500 : 4511\n",
      "8000 : 4511\n",
      "8500 : 4511\n",
      "9000 : 4511\n",
      "9500 : 4511\n",
      "10000 : 4511\n",
      "10500 : 4511\n",
      "11000 : 4511\n",
      "11167 : 4511\n"
     ]
    }
   ],
   "source": [
    "## We take one compressed token at a time and remove the tokens it compresses\n",
    "\n",
    "i = 0\n",
    "accepted_functions = []\n",
    "for key in abstract_code_keys:\n",
    "    if not i%500: print(i, \":\", len(accepted_functions))\n",
    "    i+=1\n",
    "    func = abstract_code_dict_copy[key]['compressed_name']\n",
    "    freq_dict[func] = abstract_code_dict_copy[key]['count']\n",
    "    most_freq = sorted(freq_dict, key = lambda x:freq_dict[x], reverse=True)\n",
    "    accepted_functions = list(set(func2abs) & set(most_freq[:vocab_size]))\n",
    "    \n",
    "    if func in most_freq[:vocab_size]:\n",
    "        count = abstract_code_dict_copy[key]['count']\n",
    "        children = abstract_code_dict_copy[key]['children']\n",
    "        accepted_functions.append(func)\n",
    "        tokens = key.split()\n",
    "        \n",
    "        # Should be recursive\n",
    "        if children:\n",
    "            for child in children:\n",
    "                if child in freq_dict:\n",
    "                    freq_dict[child] -= count\n",
    "                else:\n",
    "                    print(child, \"is less frequent than parent\", func)\n",
    "                    \n",
    "        else:\n",
    "            for token in tokens:\n",
    "                if not token.startswith(\"$id\") and token in freq_dict:\n",
    "                    freq_dict[token] -= count\n",
    "\n",
    "most_freq = sorted(freq_dict, key = lambda x:freq_dict[x], reverse=True)\n",
    "accepted_functions = list(set(func2abs) & set(most_freq[:vocab_size]))\n",
    "print(i, \":\", len(accepted_functions))"
   ]
  },
  {
   "cell_type": "code",
   "execution_count": 45,
   "metadata": {},
   "outputs": [
    {
     "data": {
      "text/plain": [
       "4511"
      ]
     },
     "execution_count": 45,
     "metadata": {},
     "output_type": "execute_result"
    }
   ],
   "source": [
    "len(accepted_functions)"
   ]
  },
  {
   "cell_type": "code",
   "execution_count": null,
   "metadata": {
    "scrolled": false
   },
   "outputs": [],
   "source": []
  },
  {
   "cell_type": "code",
   "execution_count": 46,
   "metadata": {},
   "outputs": [
    {
     "data": {
      "text/plain": [
       "7"
      ]
     },
     "execution_count": 46,
     "metadata": {},
     "output_type": "execute_result"
    }
   ],
   "source": [
    "freq_dict[most_freq[vocab_size]]"
   ]
  },
  {
   "cell_type": "code",
   "execution_count": 47,
   "metadata": {},
   "outputs": [],
   "source": [
    "to_be_compressed = []\n",
    "for token in accepted_functions:\n",
    "    to_be_compressed.append(func2abs[token])"
   ]
  },
  {
   "cell_type": "code",
   "execution_count": 48,
   "metadata": {},
   "outputs": [
    {
     "data": {
      "text/plain": [
       "(4511, '< DeploymentExtendedInner >')"
      ]
     },
     "execution_count": 48,
     "metadata": {},
     "output_type": "execute_result"
    }
   ],
   "source": [
    "len(to_be_compressed), to_be_compressed[0]"
   ]
  },
  {
   "cell_type": "code",
   "execution_count": 49,
   "metadata": {},
   "outputs": [],
   "source": [
    "del abstract_code_keys\n",
    "abstract_code_keys = to_be_compressed"
   ]
  },
  {
   "cell_type": "code",
   "execution_count": 50,
   "metadata": {
    "scrolled": true
   },
   "outputs": [
    {
     "data": {
      "text/plain": [
       "4511"
      ]
     },
     "execution_count": 50,
     "metadata": {},
     "output_type": "execute_result"
    }
   ],
   "source": [
    "len(abstract_code_keys)"
   ]
  },
  {
   "cell_type": "code",
   "execution_count": 51,
   "metadata": {},
   "outputs": [],
   "source": [
    "dump_dict(to_be_compressed, \"to_be_compressed_20k.json\")"
   ]
  },
  {
   "cell_type": "markdown",
   "metadata": {},
   "source": [
    "## Compressing and finding out the overlap between our calculation and actual most frequent"
   ]
  },
  {
   "cell_type": "code",
   "execution_count": 29,
   "metadata": {},
   "outputs": [],
   "source": [
    "abstract_code_keys = getJsonData(\"to_be_compressed_30k.json\")"
   ]
  },
  {
   "cell_type": "code",
   "execution_count": 52,
   "metadata": {
    "scrolled": false
   },
   "outputs": [
    {
     "name": "stdout",
     "output_type": "stream",
     "text": [
      "[ 0 ] : 0.8095238095238095\n",
      "[ 5000 ] : 0.8727687278521001\n",
      "[ 10000 ] : 0.8717349690684839\n",
      "[ 15000 ] : 0.867491867716024\n",
      "[ 20000 ] : 0.8722404592020389\n",
      "[ 25000 ] : 0.858101586745733\n",
      "[ 29999 ] : 0.8282915522161035\n"
     ]
    }
   ],
   "source": [
    "compressed_freq_dict = {}\n",
    "compressed_codes = []\n",
    "total_tokens_before = 0\n",
    "total_tokens_after = 0\n",
    "for i in range(len(tree_data)):\n",
    "    try:\n",
    "        tree_copy = copy.deepcopy(tree_data[i])\n",
    "        code, _ = tree2code(tree_copy, 0)\n",
    "        total_tokens_before += len(code.split())\n",
    "        (code, leaf_count, id_count, var_list) = compress(tree_copy)\n",
    "        code, _ = tree2code(tree_copy, 0)\n",
    "    except Exception as e:\n",
    "        print(e)\n",
    "        code, _ = tree2code(tree_data[i], 0)\n",
    "    compressed_code = {\"code\": code}\n",
    "    tokens = code.split()\n",
    "    total_tokens_after += len(tokens)\n",
    "    for token in tokens:\n",
    "        if token not in compressed_freq_dict:\n",
    "            compressed_freq_dict[token] = 0\n",
    "        compressed_freq_dict[token] += 1\n",
    "    compressed_codes.append(compressed_code)\n",
    "    if i%5000 == 0: print(\"[\", i, \"] :\", total_tokens_after/total_tokens_before) \n",
    "print(\"[\", i, \"] :\", total_tokens_after/total_tokens_before)"
   ]
  },
  {
   "cell_type": "code",
   "execution_count": 53,
   "metadata": {},
   "outputs": [],
   "source": [
    "dump_dict(compressed_codes, '../test_data/compressed_codes_train_3_20k.json')"
   ]
  },
  {
   "cell_type": "code",
   "execution_count": 54,
   "metadata": {},
   "outputs": [
    {
     "data": {
      "text/plain": [
       "87086"
      ]
     },
     "execution_count": 54,
     "metadata": {},
     "output_type": "execute_result"
    }
   ],
   "source": [
    "compressed_most_freq = sorted(compressed_freq_dict, key = lambda x:compressed_freq_dict[x], reverse=True)\n",
    "len(compressed_most_freq)"
   ]
  },
  {
   "cell_type": "code",
   "execution_count": 55,
   "metadata": {
    "scrolled": true
   },
   "outputs": [
    {
     "data": {
      "text/plain": [
       "4475"
      ]
     },
     "execution_count": 55,
     "metadata": {},
     "output_type": "execute_result"
    }
   ],
   "source": [
    "common_tokens_after_compression = list(set(compressed_most_freq[:vocab_size]) & set(accepted_functions))\n",
    "len(common_tokens_after_compression)"
   ]
  },
  {
   "cell_type": "code",
   "execution_count": 56,
   "metadata": {
    "scrolled": true
   },
   "outputs": [
    {
     "data": {
      "text/plain": [
       "0.992019507869652"
      ]
     },
     "execution_count": 56,
     "metadata": {},
     "output_type": "execute_result"
    }
   ],
   "source": [
    "len(common_tokens_after_compression)/len(accepted_functions)"
   ]
  },
  {
   "cell_type": "code",
   "execution_count": 57,
   "metadata": {
    "scrolled": false
   },
   "outputs": [
    {
     "data": {
      "text/plain": [
       "4511"
      ]
     },
     "execution_count": 57,
     "metadata": {},
     "output_type": "execute_result"
    }
   ],
   "source": [
    "len(accepted_functions)"
   ]
  },
  {
   "cell_type": "code",
   "execution_count": 44,
   "metadata": {
    "scrolled": true
   },
   "outputs": [
    {
     "data": {
      "text/plain": [
       "[')',\n",
       " '(',\n",
       " ',',\n",
       " ';',\n",
       " '.',\n",
       " '{',\n",
       " '}',\n",
       " 'NUM00',\n",
       " '=',\n",
       " 'if',\n",
       " 'public',\n",
       " 'new',\n",
       " 'String',\n",
       " 'return',\n",
       " '<',\n",
       " '>',\n",
       " 'null',\n",
       " 'int',\n",
       " '==',\n",
       " '+',\n",
       " 'i',\n",
       " '[',\n",
       " ']',\n",
       " 'this',\n",
       " 'else',\n",
       " '!=',\n",
       " ':',\n",
       " '$F1',\n",
       " 'final',\n",
       " '-']"
      ]
     },
     "execution_count": 44,
     "metadata": {},
     "output_type": "execute_result"
    }
   ],
   "source": [
    "compressed_most_freq[:30]"
   ]
  },
  {
   "cell_type": "code",
   "execution_count": 32,
   "metadata": {
    "scrolled": true
   },
   "outputs": [
    {
     "data": {
      "text/plain": [
       "16"
      ]
     },
     "execution_count": 32,
     "metadata": {},
     "output_type": "execute_result"
    }
   ],
   "source": [
    "oov = list(set(accepted_functions) - set(compressed_most_freq[:vocab_size]))\n",
    "len(oov)"
   ]
  },
  {
   "cell_type": "code",
   "execution_count": 33,
   "metadata": {
    "scrolled": true
   },
   "outputs": [
    {
     "name": "stdout",
     "output_type": "stream",
     "text": [
      "{ $id0 . ifModifiedSince = null ; } {'count': 22, 'compressed_name': '$F355291', 'num_params': 1, 'children': []}\n",
      "ServiceResponse < Void > {'count': 584, 'compressed_name': '$F355581', 'num_params': 0, 'children': ['$F19311']}\n",
      "long $id0 = $id1 . currentTimeMillis ( ) {'count': 67, 'compressed_name': '$F11431', 'num_params': 2, 'children': []}\n",
      "{ $id0 . lastModified = null ; } {'count': 47, 'compressed_name': '$F356833', 'num_params': 1, 'children': []}\n",
      "$id0 != null ? $id0 . skip ( ) : null {'count': 17, 'compressed_name': '$F361252', 'num_params': 1, 'children': []}\n",
      "ServiceResponse < OperationStatus > {'count': 190, 'compressed_name': '$F361296', 'num_params': 0, 'children': ['$F361287']}\n",
      "boolean $id0 = $id1 . $id0 ( ) {'count': 20, 'compressed_name': '$F92224', 'num_params': 2, 'children': []}\n",
      "{ $id0 . ifUnmodifiedSince = null ; } {'count': 22, 'compressed_name': '$F355294', 'num_params': 1, 'children': []}\n",
      "{ $id0 . ocpDate = null ; } {'count': 59, 'compressed_name': '$F355283', 'num_params': 1, 'children': []}\n",
      "$id0 . body ( ) . nextPageLink ( ) {'count': 166, 'compressed_name': '$F355549', 'num_params': 1, 'children': ['$F355548']}\n",
      "ServiceResponse < OperationStatusResponseInner > {'count': 64, 'compressed_name': '$F361644', 'num_params': 0, 'children': ['$F361635']}\n",
      "$id0 != null ? $id0 . name ( ) : null {'count': 27, 'compressed_name': '$F393135', 'num_params': 1, 'children': []}\n",
      "CacheMgmtInterceptor . class {'count': 18, 'compressed_name': '$F115793', 'num_params': 0, 'children': []}\n",
      "ServiceResponse < UUID > {'count': 105, 'compressed_name': '$F396397', 'num_params': 0, 'children': ['$F16971']}\n",
      "$id0 . body ( ) . items ( ) {'count': 14, 'compressed_name': '$F361728', 'num_params': 1, 'children': ['$F361727']}\n",
      "$id0 != null ? $id0 . take ( ) : null {'count': 19, 'compressed_name': '$F361255', 'num_params': 1, 'children': []}\n"
     ]
    }
   ],
   "source": [
    "for o in oov:\n",
    "    a = abstract_code_dict[func2abs[o]]\n",
    "    print(func2abs[o], a)"
   ]
  },
  {
   "cell_type": "code",
   "execution_count": null,
   "metadata": {},
   "outputs": [],
   "source": [
    "'$F406149' in compressed_freq_dict"
   ]
  },
  {
   "cell_type": "code",
   "execution_count": null,
   "metadata": {
    "scrolled": true
   },
   "outputs": [],
   "source": [
    "common_tokens_after_compression[0]"
   ]
  },
  {
   "cell_type": "markdown",
   "metadata": {},
   "source": [
    "# Sub-Tokenization"
   ]
  },
  {
   "cell_type": "code",
   "execution_count": null,
   "metadata": {},
   "outputs": [],
   "source": [
    "def state(c):\n",
    "    n = ord(c)\n",
    "    if n>=97 and n<=122: # lower case\n",
    "        return 1\n",
    "    elif n>=65 and n<=90: # upper case\n",
    "        return 2\n",
    "    elif n>=48 and n<=57: # numbers\n",
    "        return 3\n",
    "    elif c.isspace(): # whitespaces\n",
    "        return 4\n",
    "    elif c in ['_', '$']: \n",
    "        return 5\n",
    "    elif n < 128:\n",
    "        return 6\n",
    "    else:\n",
    "        return 7\n",
    "\n",
    "def space_up(s):\n",
    "    if s is None or s == \"\":\n",
    "        return \"\"\n",
    "    new_s = s[0]\n",
    "    for i in range(1,len(s)):\n",
    "        prev_state = state(s[i-1])\n",
    "        curr_state = state(s[i])\n",
    "        if prev_state in [1,2] and curr_state in [3]:\n",
    "            new_s += \" \"\n",
    "        elif prev_state in [1] and curr_state in [2]:\n",
    "            new_s += \" \"\n",
    "        elif prev_state in [3] and curr_state in [1,2]:\n",
    "            new_s += \" \"\n",
    "        elif prev_state in [1,2,3] and curr_state in [5]:\n",
    "            new_s += \" \"\n",
    "        elif prev_state in [5] and curr_state in [1,2,3]:\n",
    "            new_s += \" \"\n",
    "        new_s+=s[i]\n",
    "    return new_s\n"
   ]
  }
 ],
 "metadata": {
  "kernelspec": {
   "display_name": "Python 3",
   "language": "python",
   "name": "python3"
  },
  "language_info": {
   "codemirror_mode": {
    "name": "ipython",
    "version": 3
   },
   "file_extension": ".py",
   "mimetype": "text/x-python",
   "name": "python",
   "nbconvert_exporter": "python",
   "pygments_lexer": "ipython3",
   "version": "3.6.8"
  }
 },
 "nbformat": 4,
 "nbformat_minor": 4
}
