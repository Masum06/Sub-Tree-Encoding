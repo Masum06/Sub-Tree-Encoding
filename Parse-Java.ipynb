{
 "cells": [
  {
   "cell_type": "markdown",
   "metadata": {},
   "source": [
    "conda_tensorflow_p36"
   ]
  },
  {
   "cell_type": "code",
   "execution_count": 1,
   "metadata": {},
   "outputs": [],
   "source": [
    "import subprocess, json"
   ]
  },
  {
   "cell_type": "code",
   "execution_count": 2,
   "metadata": {},
   "outputs": [],
   "source": [
    "def add_class(method):\n",
    "    return \"public class Test {\\n\"+method+\"\\n}\""
   ]
  },
  {
   "cell_type": "code",
   "execution_count": 3,
   "metadata": {},
   "outputs": [],
   "source": [
    "def remove_class(parse_tree):\n",
    "    return parse_tree['compilationUnit'][0]['typeDeclaration'][1]['classDeclaration'][2]['classBody'][1]"
   ]
  },
  {
   "cell_type": "code",
   "execution_count": 4,
   "metadata": {},
   "outputs": [],
   "source": [
    "def parse(code):\n",
    "    code = add_class(code)\n",
    "    tree = subprocess.check_output(['java', '-jar', 'mavenproject1-1.0-SNAPSHOT-jar-with-dependencies.jar', code])\n",
    "    tree = json.loads(tree)\n",
    "    #tree = remove_class(tree)\n",
    "    return tree"
   ]
  },
  {
   "cell_type": "code",
   "execution_count": 5,
   "metadata": {},
   "outputs": [],
   "source": [
    "def tree2code(tree, indentation):\n",
    "    if 'type' in tree:\n",
    "        code = tree['text'] + ' '\n",
    "        if tree['text'] in [';', '{', '}']:\n",
    "            code += '\\n'\n",
    "            if tree['text'] == '{':\n",
    "                indentation += 1\n",
    "            elif tree['text'] == '}':\n",
    "                indentation -= 1\n",
    "            code += '\\t'*indentation\n",
    "        return code, indentation\n",
    "    else:\n",
    "        root = list(tree.keys())[0]\n",
    "        children = tree[root]\n",
    "        code = \"\"\n",
    "        for child in children:\n",
    "            t, indentation = tree2code(child, indentation)\n",
    "            code += t\n",
    "        return code, indentation"
   ]
  },
  {
   "cell_type": "code",
   "execution_count": null,
   "metadata": {
    "scrolled": true
   },
   "outputs": [],
   "source": []
  },
  {
   "cell_type": "code",
   "execution_count": 8,
   "metadata": {
    "scrolled": true
   },
   "outputs": [
    {
     "data": {
      "text/plain": [
       "{'compilationUnit': [{'typeDeclaration': [{'classOrInterfaceModifier': [{'type': 35,\n",
       "       'text': 'public'}]},\n",
       "    {'classDeclaration': [{'type': 9, 'text': 'class'},\n",
       "      {'type': 100, 'text': 'Test'},\n",
       "      {'classBody': [{'type': 59, 'text': '{'},\n",
       "        {'classBodyDeclaration': [{'modifier': [{'classOrInterfaceModifier': [{'annotation': [{'type': 101,\n",
       "                 'text': '@'},\n",
       "                {'annotationName': [{'qualifiedName': [{'type': 100,\n",
       "                     'text': 'Override'}]}]}]}]}]},\n",
       "          {'modifier': [{'classOrInterfaceModifier': [{'type': 35,\n",
       "               'text': 'public'}]}]},\n",
       "          {'memberDeclaration': []}]},\n",
       "        {'classBodyDeclaration': [{'memberDeclaration': [{'type': 27,\n",
       "             'text': 'int'}]}]},\n",
       "        {'classBodyDeclaration': [{'memberDeclaration': [{'methodDeclaration': [{'typeSpec': [{'classOrInterfaceType': [{'type': 100,\n",
       "                   'text': 'run'}]}]},\n",
       "              {'type': 100, 'text': 'Command'},\n",
       "              {'formalParameters': [{'type': 57, 'text': '('},\n",
       "                {'formalParameterList': [{'formalParameter': [{'typeSpec': [{'primitiveType': [{'type': 3,\n",
       "                         'text': 'boolean'}]}]},\n",
       "                    {'variableDeclaratorId': [{'type': 100,\n",
       "                       'text': 'merge'}]}]}]}]}]}]}]},\n",
       "        {'classBodyDeclaration': [{'memberDeclaration': []}]},\n",
       "        {'classBodyDeclaration': [{'memberDeclaration': [{'type': 100,\n",
       "             'text': 'Error'}]}]},\n",
       "        {'classBodyDeclaration': [{'memberDeclaration': [{'fieldDeclaration': [{'typeSpec': [{'classOrInterfaceType': [{'type': 100,\n",
       "                   'text': 'Into'}]}]},\n",
       "              {'variableDeclarators': [{'variableDeclarator': [{'variableDeclaratorId': [{'type': 100,\n",
       "                     'text': 'Output'}]}]},\n",
       "                {'type': 64, 'text': ','},\n",
       "                {'variableDeclarator': [{'variableDeclaratorId': [{'type': 100,\n",
       "                     'text': 'String'}]}]}]},\n",
       "              {'type': 102, 'text': '...'}]}]}]},\n",
       "        {'classBodyDeclaration': [{'memberDeclaration': []}]},\n",
       "        {'classBodyDeclaration': [{'memberDeclaration': [{'type': 100,\n",
       "             'text': 'commands'},\n",
       "            {'type': 58, 'text': ')'},\n",
       "            {'type': 45, 'text': 'throws'}]}]},\n",
       "        {'classBodyDeclaration': [{'memberDeclaration': [{'fieldDeclaration': [{'typeSpec': [{'classOrInterfaceType': [{'type': 100,\n",
       "                   'text': 'IO'}]}]},\n",
       "              {'variableDeclarators': [{'variableDeclarator': [{'variableDeclaratorId': [{'type': 100,\n",
       "                     'text': 'Exception'}]}]},\n",
       "                {'type': 64, 'text': ','},\n",
       "                {'variableDeclarator': [{'variableDeclaratorId': [{'type': 100,\n",
       "                     'text': 'Interrupted'}]}]}]},\n",
       "              {'type': 63, 'text': \"<missing ';'>\"}]}]}]},\n",
       "        {'classBodyDeclaration': [{'memberDeclaration': []}]},\n",
       "        {'classBodyDeclaration': [{'memberDeclaration': [{'type': 100,\n",
       "             'text': 'Exception'}]}]},\n",
       "        {'classBodyDeclaration': [{'block': [{'type': 59, 'text': '{'},\n",
       "            {'blockStatement': [{'statement': [{'type': 36, 'text': 'return'},\n",
       "                {'expression': [{'primary': [{'type': 100, 'text': 'run'}]}]},\n",
       "                {'type': 63, 'text': \"<missing ';'>\"}]}]},\n",
       "            {'blockStatement': [{'statement': [{'statementExpression': [{'expression': [{'expression': [{'primary': [{'type': 100,\n",
       "                         'text': 'Command'}]}]},\n",
       "                    {'type': 57, 'text': '('},\n",
       "                    {'expressionList': [{'expression': [{'primary': [{'type': 100,\n",
       "                           'text': 'merge'}]}]}]}]}]},\n",
       "                {'type': 63, 'text': \"<missing ';'>\"}]}]},\n",
       "            {'blockStatement': [{'localVariableDeclarationStatement': [{'localVariableDeclaration': [{'typeSpec': [{'classOrInterfaceType': [{'type': 100,\n",
       "                       'text': 'Error'}]}]},\n",
       "                  {'variableDeclarators': [{'variableDeclarator': [{'variableDeclaratorId': [{'type': 100,\n",
       "                         'text': 'Into'}]}]}]}]},\n",
       "                {'type': 63, 'text': \"<missing ';'>\"}]}]},\n",
       "            {'blockStatement': []},\n",
       "            {'blockStatement': [{'type': 100, 'text': 'Output'},\n",
       "              {'type': 64, 'text': ','}]},\n",
       "            {'blockStatement': [{'statement': [{'statementExpression': [{'expression': [{'type': 31,\n",
       "                     'text': 'new'},\n",
       "                    {'creator': [{'createdName': [{'type': 100,\n",
       "                         'text': 'Array'}]}]}]}]},\n",
       "                {'type': 63, 'text': \"<missing ';'>\"}]}]},\n",
       "            {'blockStatement': [{'statement': [{'statementExpression': [{'expression': [{'expression': [{'expression': [{'expression': [{'primary': [{'type': 100,\n",
       "                             'text': 'List'}]}]},\n",
       "                        {'type': 68, 'text': '<'},\n",
       "                        {'expression': [{'primary': [{'type': 100,\n",
       "                             'text': 'String'}]}]}]},\n",
       "                      {'type': 67, 'text': '>'},\n",
       "                      {'expression': []}]},\n",
       "                    {'type': 57, 'text': '('},\n",
       "                    {'expressionList': [{'expression': [{'expression': [{'primary': [{'type': 100,\n",
       "                             'text': 'Arrays'}]}]},\n",
       "                        {'type': 65, 'text': '.'},\n",
       "                        {'type': 100, 'text': 'as'}]}]}]}]},\n",
       "                {'type': 63, 'text': \"<missing ';'>\"}]}]},\n",
       "            {'blockStatement': [{'statement': [{'statementExpression': [{'expression': [{'expression': [{'primary': [{'type': 100,\n",
       "                         'text': 'List'}]}]},\n",
       "                    {'type': 57, 'text': '('},\n",
       "                    {'expressionList': [{'expression': [{'primary': [{'type': 100,\n",
       "                           'text': 'commands'}]}]}]},\n",
       "                    {'type': 58, 'text': ')'}]}]},\n",
       "                {'type': 58, 'text': ')'},\n",
       "                {'type': 58, 'text': ')'}]}]},\n",
       "            {'blockStatement': [{'statement': [{'type': 63, 'text': ';'}]}]},\n",
       "            {'type': 60, 'text': '}'}]}]},\n",
       "        {'type': 60, 'text': '}'}]}]}]},\n",
       "  {'type': -1, 'text': '<EOF>'}]}"
      ]
     },
     "execution_count": 8,
     "metadata": {},
     "output_type": "execute_result"
    }
   ],
   "source": [
    "code = \"\"\"public class Test {\n",
    "@ Override public int run Command ( boolean merge Error Into Output , String ... commands ) throws IO Exception , Interrupted Exception { return run Command ( merge Error Into Output , new Array List < String > ( Arrays . as List ( commands ) ) ) ; }\n",
    "}\"\"\"\n",
    "tree = subprocess.check_output(['java', '-jar', 'mavenproject1-1.0-SNAPSHOT-jar-with-dependencies.jar', code])\n",
    "tree = json.loads(tree)\n",
    "tree"
   ]
  },
  {
   "cell_type": "code",
   "execution_count": 10,
   "metadata": {
    "scrolled": false
   },
   "outputs": [
    {
     "name": "stdout",
     "output_type": "stream",
     "text": [
      "public class Test { \n",
      "@ Override public int run Command ( boolean merge Error Into Output , String ... commands ) throws IO Exception , Interrupted <missing ';'> Exception { \n",
      "\treturn run <missing ';'> Command ( merge <missing ';'> Error Into <missing ';'> Output , new Array <missing ';'> List < String > ( Arrays . as <missing ';'> List ( commands ) ) ) ; \n",
      "\t} \n",
      "} \n",
      "<EOF> \n"
     ]
    }
   ],
   "source": [
    "print(tree2code(tree,-1)[0])"
   ]
  },
  {
   "cell_type": "code",
   "execution_count": 15,
   "metadata": {
    "scrolled": true
   },
   "outputs": [
    {
     "data": {
      "text/plain": [
       "{'compilationUnit': [{'typeDeclaration': [{'classOrInterfaceModifier': [{'type': 35,\n",
       "       'text': 'public'}]},\n",
       "    {'classDeclaration': [{'type': 9, 'text': 'class'},\n",
       "      {'type': 100, 'text': 'Test'},\n",
       "      {'classBody': [{'type': 59, 'text': '{'},\n",
       "        {'classBodyDeclaration': [{'modifier': [{'classOrInterfaceModifier': [{'annotation': [{'type': 101,\n",
       "                 'text': '@'},\n",
       "                {'annotationName': [{'qualifiedName': [{'type': 100,\n",
       "                     'text': 'Override'}]}]}]}]}]},\n",
       "          {'modifier': [{'classOrInterfaceModifier': [{'type': 35,\n",
       "               'text': 'public'}]}]},\n",
       "          {'memberDeclaration': []}]},\n",
       "        {'classBodyDeclaration': [{'memberDeclaration': [{'type': 27,\n",
       "             'text': 'int'}]}]},\n",
       "        {'classBodyDeclaration': [{'memberDeclaration': [{'methodDeclaration': [{'typeSpec': [{'classOrInterfaceType': [{'type': 100,\n",
       "                   'text': 'run'}]}]},\n",
       "              {'type': 100, 'text': 'Command'},\n",
       "              {'formalParameters': [{'type': 57, 'text': '('},\n",
       "                {'formalParameterList': [{'formalParameter': [{'typeSpec': [{'primitiveType': [{'type': 3,\n",
       "                         'text': 'boolean'}]}]},\n",
       "                    {'variableDeclaratorId': [{'type': 100,\n",
       "                       'text': 'merge'}]}]}]}]}]}]}]},\n",
       "        {'classBodyDeclaration': [{'memberDeclaration': []}]},\n",
       "        {'classBodyDeclaration': [{'memberDeclaration': [{'type': 100,\n",
       "             'text': 'Error'}]}]},\n",
       "        {'classBodyDeclaration': [{'memberDeclaration': [{'fieldDeclaration': [{'typeSpec': [{'classOrInterfaceType': [{'type': 100,\n",
       "                   'text': 'Into'}]}]},\n",
       "              {'variableDeclarators': [{'variableDeclarator': [{'variableDeclaratorId': [{'type': 100,\n",
       "                     'text': 'Output'}]}]},\n",
       "                {'type': 64, 'text': ','},\n",
       "                {'variableDeclarator': [{'variableDeclaratorId': [{'type': 100,\n",
       "                     'text': 'String'}]}]}]},\n",
       "              {'type': 102, 'text': '...'}]}]}]},\n",
       "        {'classBodyDeclaration': [{'memberDeclaration': []}]},\n",
       "        {'classBodyDeclaration': [{'memberDeclaration': [{'type': 100,\n",
       "             'text': 'commands'},\n",
       "            {'type': 58, 'text': ')'},\n",
       "            {'type': 45, 'text': 'throws'}]}]},\n",
       "        {'classBodyDeclaration': [{'memberDeclaration': [{'fieldDeclaration': [{'typeSpec': [{'classOrInterfaceType': [{'type': 100,\n",
       "                   'text': 'IO'}]}]},\n",
       "              {'variableDeclarators': [{'variableDeclarator': [{'variableDeclaratorId': [{'type': 100,\n",
       "                     'text': 'Exception'}]}]},\n",
       "                {'type': 64, 'text': ','},\n",
       "                {'variableDeclarator': [{'variableDeclaratorId': [{'type': 100,\n",
       "                     'text': 'Interrupted'}]}]}]},\n",
       "              {'type': 63, 'text': \"<missing ';'>\"}]}]}]},\n",
       "        {'classBodyDeclaration': [{'memberDeclaration': []}]},\n",
       "        {'classBodyDeclaration': [{'memberDeclaration': [{'type': 100,\n",
       "             'text': 'Exception'}]}]},\n",
       "        {'classBodyDeclaration': [{'block': [{'type': 59, 'text': '{'},\n",
       "            {'blockStatement': [{'statement': [{'type': 36, 'text': 'return'},\n",
       "                {'expression': [{'primary': [{'type': 100, 'text': 'run'}]}]},\n",
       "                {'type': 63, 'text': \"<missing ';'>\"}]}]},\n",
       "            {'blockStatement': [{'statement': [{'statementExpression': [{'expression': [{'expression': [{'primary': [{'type': 100,\n",
       "                         'text': 'Command'}]}]},\n",
       "                    {'type': 57, 'text': '('},\n",
       "                    {'expressionList': [{'expression': [{'primary': [{'type': 100,\n",
       "                           'text': 'merge'}]}]}]}]}]},\n",
       "                {'type': 63, 'text': \"<missing ';'>\"}]}]},\n",
       "            {'blockStatement': [{'localVariableDeclarationStatement': [{'localVariableDeclaration': [{'typeSpec': [{'classOrInterfaceType': [{'type': 100,\n",
       "                       'text': 'Error'}]}]},\n",
       "                  {'variableDeclarators': [{'variableDeclarator': [{'variableDeclaratorId': [{'type': 100,\n",
       "                         'text': 'Into'}]}]}]}]},\n",
       "                {'type': 63, 'text': \"<missing ';'>\"}]}]},\n",
       "            {'blockStatement': []},\n",
       "            {'blockStatement': [{'type': 100, 'text': 'Output'},\n",
       "              {'type': 64, 'text': ','}]},\n",
       "            {'blockStatement': [{'statement': [{'statementExpression': [{'expression': [{'type': 31,\n",
       "                     'text': 'new'},\n",
       "                    {'creator': [{'createdName': [{'type': 100,\n",
       "                         'text': 'Array'}]}]}]}]},\n",
       "                {'type': 63, 'text': \"<missing ';'>\"}]}]},\n",
       "            {'blockStatement': [{'statement': [{'statementExpression': [{'expression': [{'expression': [{'expression': [{'expression': [{'primary': [{'type': 100,\n",
       "                             'text': 'List'}]}]},\n",
       "                        {'type': 68, 'text': '<'},\n",
       "                        {'expression': [{'primary': [{'type': 100,\n",
       "                             'text': 'String'}]}]}]},\n",
       "                      {'type': 67, 'text': '>'},\n",
       "                      {'expression': []}]},\n",
       "                    {'type': 57, 'text': '('},\n",
       "                    {'expressionList': [{'expression': [{'expression': [{'primary': [{'type': 100,\n",
       "                             'text': 'Arrays'}]}]},\n",
       "                        {'type': 65, 'text': '.'},\n",
       "                        {'type': 100, 'text': 'as'}]}]}]}]},\n",
       "                {'type': 63, 'text': \"<missing ';'>\"}]}]},\n",
       "            {'blockStatement': [{'statement': [{'statementExpression': [{'expression': [{'expression': [{'primary': [{'type': 100,\n",
       "                         'text': 'List'}]}]},\n",
       "                    {'type': 57, 'text': '('},\n",
       "                    {'expressionList': [{'expression': [{'primary': [{'type': 100,\n",
       "                           'text': 'commands'}]}]}]},\n",
       "                    {'type': 58, 'text': ')'}]}]},\n",
       "                {'type': 58, 'text': ')'},\n",
       "                {'type': 58, 'text': ')'}]}]},\n",
       "            {'blockStatement': [{'statement': [{'type': 63, 'text': ';'}]}]},\n",
       "            {'type': 60, 'text': '}'}]}]},\n",
       "        {'type': 60, 'text': '}'}]}]}]},\n",
       "  {'type': -1, 'text': '<EOF>'}]}"
      ]
     },
     "execution_count": 15,
     "metadata": {},
     "output_type": "execute_result"
    }
   ],
   "source": [
    "tree"
   ]
  },
  {
   "cell_type": "code",
   "execution_count": null,
   "metadata": {},
   "outputs": [],
   "source": [
    "# add class\n",
    "# parse\n",
    "# build dictionary\n",
    "# compress\n",
    "# tokenize\n",
    "# remove class tokens"
   ]
  },
  {
   "cell_type": "code",
   "execution_count": 26,
   "metadata": {
    "scrolled": true
   },
   "outputs": [
    {
     "data": {
      "text/plain": [
       "{'classbody': [{'classBodyDeclaration': [{'modifier': [{'classOrInterfaceModifier': [{'annotation': [{'type': 101,\n",
       "           'text': '@'},\n",
       "          {'annotationName': [{'qualifiedName': [{'type': 100,\n",
       "               'text': 'Override'}]}]}]}]}]},\n",
       "    {'modifier': [{'classOrInterfaceModifier': [{'type': 35,\n",
       "         'text': 'public'}]}]},\n",
       "    {'memberDeclaration': []}]},\n",
       "  {'classBodyDeclaration': [{'memberDeclaration': [{'type': 27,\n",
       "       'text': 'int'}]}]},\n",
       "  {'classBodyDeclaration': [{'memberDeclaration': [{'methodDeclaration': [{'typeSpec': [{'classOrInterfaceType': [{'type': 100,\n",
       "             'text': 'run'}]}]},\n",
       "        {'type': 100, 'text': 'Command'},\n",
       "        {'formalParameters': [{'type': 57, 'text': '('},\n",
       "          {'formalParameterList': [{'formalParameter': [{'typeSpec': [{'primitiveType': [{'type': 3,\n",
       "                   'text': 'boolean'}]}]},\n",
       "              {'variableDeclaratorId': [{'type': 100,\n",
       "                 'text': 'merge'}]}]}]}]}]}]}]},\n",
       "  {'classBodyDeclaration': [{'memberDeclaration': []}]},\n",
       "  {'classBodyDeclaration': [{'memberDeclaration': [{'type': 100,\n",
       "       'text': 'Error'}]}]},\n",
       "  {'classBodyDeclaration': [{'memberDeclaration': [{'fieldDeclaration': [{'typeSpec': [{'classOrInterfaceType': [{'type': 100,\n",
       "             'text': 'Into'}]}]},\n",
       "        {'variableDeclarators': [{'variableDeclarator': [{'variableDeclaratorId': [{'type': 100,\n",
       "               'text': 'Output'}]}]},\n",
       "          {'type': 64, 'text': ','},\n",
       "          {'variableDeclarator': [{'variableDeclaratorId': [{'type': 100,\n",
       "               'text': 'String'}]}]}]},\n",
       "        {'type': 102, 'text': '...'}]}]}]},\n",
       "  {'classBodyDeclaration': [{'memberDeclaration': []}]},\n",
       "  {'classBodyDeclaration': [{'memberDeclaration': [{'type': 100,\n",
       "       'text': 'commands'},\n",
       "      {'type': 58, 'text': ')'},\n",
       "      {'type': 45, 'text': 'throws'}]}]},\n",
       "  {'classBodyDeclaration': [{'memberDeclaration': [{'fieldDeclaration': [{'typeSpec': [{'classOrInterfaceType': [{'type': 100,\n",
       "             'text': 'IO'}]}]},\n",
       "        {'variableDeclarators': [{'variableDeclarator': [{'variableDeclaratorId': [{'type': 100,\n",
       "               'text': 'Exception'}]}]},\n",
       "          {'type': 64, 'text': ','},\n",
       "          {'variableDeclarator': [{'variableDeclaratorId': [{'type': 100,\n",
       "               'text': 'Interrupted'}]}]}]},\n",
       "        {'type': 63, 'text': \"<missing ';'>\"}]}]}]},\n",
       "  {'classBodyDeclaration': [{'memberDeclaration': []}]},\n",
       "  {'classBodyDeclaration': [{'memberDeclaration': [{'type': 100,\n",
       "       'text': 'Exception'}]}]},\n",
       "  {'classBodyDeclaration': [{'block': [{'type': 59, 'text': '{'},\n",
       "      {'blockStatement': [{'statement': [{'type': 36, 'text': 'return'},\n",
       "          {'expression': [{'primary': [{'type': 100, 'text': 'run'}]}]},\n",
       "          {'type': 63, 'text': \"<missing ';'>\"}]}]},\n",
       "      {'blockStatement': [{'statement': [{'statementExpression': [{'expression': [{'expression': [{'primary': [{'type': 100,\n",
       "                   'text': 'Command'}]}]},\n",
       "              {'type': 57, 'text': '('},\n",
       "              {'expressionList': [{'expression': [{'primary': [{'type': 100,\n",
       "                     'text': 'merge'}]}]}]}]}]},\n",
       "          {'type': 63, 'text': \"<missing ';'>\"}]}]},\n",
       "      {'blockStatement': [{'localVariableDeclarationStatement': [{'localVariableDeclaration': [{'typeSpec': [{'classOrInterfaceType': [{'type': 100,\n",
       "                 'text': 'Error'}]}]},\n",
       "            {'variableDeclarators': [{'variableDeclarator': [{'variableDeclaratorId': [{'type': 100,\n",
       "                   'text': 'Into'}]}]}]}]},\n",
       "          {'type': 63, 'text': \"<missing ';'>\"}]}]},\n",
       "      {'blockStatement': []},\n",
       "      {'blockStatement': [{'type': 100, 'text': 'Output'},\n",
       "        {'type': 64, 'text': ','}]},\n",
       "      {'blockStatement': [{'statement': [{'statementExpression': [{'expression': [{'type': 31,\n",
       "               'text': 'new'},\n",
       "              {'creator': [{'createdName': [{'type': 100,\n",
       "                   'text': 'Array'}]}]}]}]},\n",
       "          {'type': 63, 'text': \"<missing ';'>\"}]}]},\n",
       "      {'blockStatement': [{'statement': [{'statementExpression': [{'expression': [{'expression': [{'expression': [{'expression': [{'primary': [{'type': 100,\n",
       "                       'text': 'List'}]}]},\n",
       "                  {'type': 68, 'text': '<'},\n",
       "                  {'expression': [{'primary': [{'type': 100,\n",
       "                       'text': 'String'}]}]}]},\n",
       "                {'type': 67, 'text': '>'},\n",
       "                {'expression': []}]},\n",
       "              {'type': 57, 'text': '('},\n",
       "              {'expressionList': [{'expression': [{'expression': [{'primary': [{'type': 100,\n",
       "                       'text': 'Arrays'}]}]},\n",
       "                  {'type': 65, 'text': '.'},\n",
       "                  {'type': 100, 'text': 'as'}]}]}]}]},\n",
       "          {'type': 63, 'text': \"<missing ';'>\"}]}]},\n",
       "      {'blockStatement': [{'statement': [{'statementExpression': [{'expression': [{'expression': [{'primary': [{'type': 100,\n",
       "                   'text': 'List'}]}]},\n",
       "              {'type': 57, 'text': '('},\n",
       "              {'expressionList': [{'expression': [{'primary': [{'type': 100,\n",
       "                     'text': 'commands'}]}]}]},\n",
       "              {'type': 58, 'text': ')'}]}]},\n",
       "          {'type': 58, 'text': ')'},\n",
       "          {'type': 58, 'text': ')'}]}]},\n",
       "      {'blockStatement': [{'statement': [{'type': 63, 'text': ';'}]}]},\n",
       "      {'type': 60, 'text': '}'}]}]}]}"
      ]
     },
     "execution_count": 26,
     "metadata": {},
     "output_type": "execute_result"
    }
   ],
   "source": [
    "subtree = {'classbody': tree['compilationUnit'][0]['typeDeclaration'][1]['classDeclaration'][2]['classBody'][1:-1]}\n",
    "subtree"
   ]
  },
  {
   "cell_type": "code",
   "execution_count": 27,
   "metadata": {},
   "outputs": [
    {
     "name": "stdout",
     "output_type": "stream",
     "text": [
      "@ Override public int run Command ( boolean merge Error Into Output , String ... commands ) throws IO Exception , Interrupted <missing ';'> Exception { \n",
      "return run <missing ';'> Command ( merge <missing ';'> Error Into <missing ';'> Output , new Array <missing ';'> List < String > ( Arrays . as <missing ';'> List ( commands ) ) ) ; \n",
      "} \n",
      "\n"
     ]
    }
   ],
   "source": [
    "print(tree2code(subtree,-1)[0])"
   ]
  },
  {
   "cell_type": "code",
   "execution_count": 29,
   "metadata": {},
   "outputs": [
    {
     "data": {
      "text/plain": [
       "{'classBodyDeclaration': [{'modifier': [{'classOrInterfaceModifier': [{'annotation': [{'type': 101,\n",
       "         'text': '@'},\n",
       "        {'annotationName': [{'qualifiedName': [{'type': 100,\n",
       "             'text': 'Override'}]}]}]}]}]},\n",
       "  {'modifier': [{'classOrInterfaceModifier': [{'type': 35,\n",
       "       'text': 'public'}]}]},\n",
       "  {'memberDeclaration': []}]}"
      ]
     },
     "execution_count": 29,
     "metadata": {},
     "output_type": "execute_result"
    }
   ],
   "source": [
    "tree['compilationUnit'][0]['typeDeclaration'][1]['classDeclaration'][2]['classBody'][1]"
   ]
  },
  {
   "cell_type": "code",
   "execution_count": null,
   "metadata": {},
   "outputs": [],
   "source": []
  }
 ],
 "metadata": {
  "kernelspec": {
   "display_name": "conda_tensorflow_p36",
   "language": "python",
   "name": "conda_tensorflow_p36"
  },
  "language_info": {
   "codemirror_mode": {
    "name": "ipython",
    "version": 3
   },
   "file_extension": ".py",
   "mimetype": "text/x-python",
   "name": "python",
   "nbconvert_exporter": "python",
   "pygments_lexer": "ipython3",
   "version": "3.6.10"
  }
 },
 "nbformat": 4,
 "nbformat_minor": 4
}
