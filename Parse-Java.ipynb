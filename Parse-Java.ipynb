{
 "cells": [
  {
   "cell_type": "markdown",
   "metadata": {},
   "source": [
    "conda_tensorflow_p36"
   ]
  },
  {
   "cell_type": "code",
   "execution_count": 2,
   "metadata": {
    "scrolled": true
   },
   "outputs": [
    {
     "name": "stdout",
     "output_type": "stream",
     "text": [
      "{'compilationUnit': [{'typeDeclaration': [{'classOrInterfaceModifier': [{'type': 35, 'text': 'public'}]}, {'classDeclaration': [{'type': 9, 'text': 'class'}, {'type': 100, 'text': 'Test'}, {'classBody': [{'type': 59, 'text': '{'}, {'classBodyDeclaration': [{'modifier': [{'classOrInterfaceModifier': [{'type': 33, 'text': 'private'}]}]}, {'memberDeclaration': [{'methodDeclaration': [{'typeSpec': [{'classOrInterfaceType': [{'type': 100, 'text': 'NumberFormat'}]}]}, {'type': 100, 'text': 'parseFormatter'}, {'formalParameters': [{'type': 57, 'text': '('}, {'formalParameterList': [{'formalParameter': [{'typeSpec': [{'classOrInterfaceType': [{'type': 100, 'text': 'Context'}]}]}, {'variableDeclaratorId': [{'type': 100, 'text': 'context'}]}]}, {'type': 64, 'text': ','}, {'formalParameter': [{'typeSpec': [{'classOrInterfaceType': [{'type': 100, 'text': 'Arguments'}]}]}, {'variableDeclaratorId': [{'type': 100, 'text': 'args'}]}]}]}, {'type': 58, 'text': ')'}]}, {'methodBody': [{'block': [{'type': 59, 'text': '{'}, {'blockStatement': [{'localVariableDeclarationStatement': [{'localVariableDeclaration': [{'variableModifier': [{'type': 18, 'text': 'final'}]}, {'typeSpec': [{'classOrInterfaceType': [{'type': 100, 'text': 'String'}]}]}, {'variableDeclarators': [{'variableDeclarator': [{'variableDeclaratorId': [{'type': 100, 'text': 'format'}]}, {'type': 66, 'text': '='}, {'variableInitializer': [{'expression': [{'expression': [{'expression': [{'primary': [{'type': 100, 'text': 'args'}]}]}, {'type': 65, 'text': '.'}, {'type': 100, 'text': 'get'}]}, {'type': 57, 'text': '('}, {'expressionList': [{'expression': [{'primary': [{'type': 100, 'text': 'FORMAT_PARAM_NAME'}]}]}]}, {'type': 58, 'text': ')'}]}]}]}]}]}, {'type': 63, 'text': ';'}]}]}, {'blockStatement': [{'localVariableDeclarationStatement': [{'localVariableDeclaration': [{'variableModifier': [{'type': 18, 'text': 'final'}]}, {'typeSpec': [{'classOrInterfaceType': [{'type': 100, 'text': 'Locale'}]}]}, {'variableDeclarators': [{'variableDeclarator': [{'variableDeclaratorId': [{'type': 100, 'text': 'locale'}]}, {'type': 66, 'text': '='}, {'variableInitializer': [{'expression': [{'expression': [{'expression': [{'primary': [{'type': 100, 'text': 'context'}]}]}, {'type': 65, 'text': '.'}, {'type': 100, 'text': 'get'}]}, {'type': 57, 'text': '('}, {'expressionList': [{'expression': [{'primary': [{'type': 100, 'text': 'LOCALE'}]}]}]}, {'type': 58, 'text': ')'}]}]}]}]}]}, {'type': 63, 'text': ';'}]}]}, {'blockStatement': [{'statement': [{'type': 22, 'text': 'if'}, {'parExpression': [{'type': 57, 'text': '('}, {'expression': [{'expression': [{'primary': [{'type': 100, 'text': 'format'}]}]}, {'type': 76, 'text': '!='}, {'expression': [{'primary': [{'literal': [{'type': 56, 'text': 'null'}]}]}]}]}, {'type': 58, 'text': ')'}]}, {'statement': [{'block': [{'type': 59, 'text': '{'}, {'blockStatement': [{'statement': [{'type': 36, 'text': 'return'}, {'expression': [{'type': 31, 'text': 'new'}, {'creator': [{'createdName': [{'type': 100, 'text': 'DecimalFormat'}]}, {'classCreatorRest': [{'arguments': [{'type': 57, 'text': '('}, {'expressionList': [{'expression': [{'primary': [{'type': 100, 'text': 'format'}]}]}, {'type': 64, 'text': ','}, {'expression': [{'expression': [{'expression': [{'primary': [{'type': 100, 'text': 'DecimalFormatSymbols'}]}]}, {'type': 65, 'text': '.'}, {'type': 100, 'text': 'getInstance'}]}, {'type': 57, 'text': '('}, {'expressionList': [{'expression': [{'primary': [{'type': 100, 'text': 'locale'}]}]}]}, {'type': 58, 'text': ')'}]}]}, {'type': 58, 'text': ')'}]}]}]}]}, {'type': 63, 'text': ';'}]}]}, {'type': 60, 'text': '}'}]}]}]}]}, {'blockStatement': [{'localVariableDeclarationStatement': [{'localVariableDeclaration': [{'typeSpec': [{'primitiveType': [{'type': 27, 'text': 'int'}]}]}, {'variableDeclarators': [{'variableDeclarator': [{'variableDeclaratorId': [{'type': 100, 'text': 'i'}]}, {'type': 66, 'text': '='}, {'variableInitializer': [{'expression': [{'primary': [{'literal': [{'type': 51, 'text': '10'}]}]}]}]}]}]}]}, {'type': 63, 'text': ';'}]}]}, {'type': 60, 'text': '}'}]}]}]}]}]}, {'type': 60, 'text': '}'}]}]}]}, {'type': -1, 'text': '<EOF>'}]}\n"
     ]
    }
   ],
   "source": [
    "import subprocess, json\n",
    "\n",
    "s = \"\"\"\n",
    "public class Test {\n",
    "    private NumberFormat parseFormatter(Context context, Arguments args){\n",
    "        final String format = args.get(FORMAT_PARAM_NAME);\n",
    "        final Locale locale = context.get(LOCALE);\n",
    "        if (format != null){\n",
    "            return new DecimalFormat(format, DecimalFormatSymbols.getInstance(locale));\n",
    "        }\n",
    "        int i = 10;\n",
    "    }\n",
    "}\n",
    "\"\"\"\n",
    "tree = subprocess.check_output(['java', '-jar', 'mavenproject1-1.0-SNAPSHOT-jar-with-dependencies.jar', s])\n",
    "\n",
    "tree = json.loads(tree)\n",
    "\n",
    "print(tree)"
   ]
  },
  {
   "cell_type": "code",
   "execution_count": null,
   "metadata": {},
   "outputs": [],
   "source": []
  }
 ],
 "metadata": {
  "kernelspec": {
   "display_name": "conda_tensorflow_p36",
   "language": "python",
   "name": "conda_tensorflow_p36"
  },
  "language_info": {
   "codemirror_mode": {
    "name": "ipython",
    "version": 3
   },
   "file_extension": ".py",
   "mimetype": "text/x-python",
   "name": "python",
   "nbconvert_exporter": "python",
   "pygments_lexer": "ipython3",
   "version": "3.6.10"
  }
 },
 "nbformat": 4,
 "nbformat_minor": 4
}
