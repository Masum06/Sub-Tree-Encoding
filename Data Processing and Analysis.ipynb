{
 "cells": [
  {
   "cell_type": "code",
   "execution_count": null,
   "metadata": {},
   "outputs": [],
   "source": [
    "import pickle"
   ]
  },
  {
   "cell_type": "code",
   "execution_count": null,
   "metadata": {},
   "outputs": [],
   "source": [
    "filename = \"../CodeSearchNet/big_csn_data/CodeSearchNet_Java_Search_Preliminary.pkl\"\n",
    "infile = open(filename,'rb')\n",
    "new_dict = pickle.load(infile)\n",
    "infile.close()"
   ]
  },
  {
   "cell_type": "code",
   "execution_count": null,
   "metadata": {
    "scrolled": false
   },
   "outputs": [],
   "source": [
    "len(new_dict)"
   ]
  },
  {
   "cell_type": "code",
   "execution_count": null,
   "metadata": {
    "scrolled": true
   },
   "outputs": [],
   "source": [
    "i = -1 #+(100000)*15\n",
    "print(new_dict[i]['function'])"
   ]
  },
  {
   "cell_type": "code",
   "execution_count": null,
   "metadata": {
    "scrolled": false
   },
   "outputs": [],
   "source": [
    "len(new_dict[i]['function_tokens'])"
   ]
  },
  {
   "cell_type": "markdown",
   "metadata": {},
   "source": [
    "## Analyzing Compression"
   ]
  },
  {
   "cell_type": "code",
   "execution_count": null,
   "metadata": {},
   "outputs": [],
   "source": [
    "import json\n",
    "import copy"
   ]
  },
  {
   "cell_type": "code",
   "execution_count": null,
   "metadata": {},
   "outputs": [],
   "source": [
    "def getJsonData(JsonFile):\n",
    "    with open(JsonFile, encoding=\"utf8\") as f:\n",
    "        data = json.load(f)\n",
    "    return data"
   ]
  },
  {
   "cell_type": "code",
   "execution_count": null,
   "metadata": {},
   "outputs": [],
   "source": [
    "def getJsonDataLineByLine(JsonFile):\n",
    "    data = []\n",
    "    i = 0\n",
    "    with open(JsonFile) as f:\n",
    "        for line in f:\n",
    "            i += 1\n",
    "            line = line.strip()\n",
    "            if line[0] == '[':\n",
    "                line = line[1:]\n",
    "            elif line[-1] == ']':\n",
    "                line = line[:-1]\n",
    "            if line[-1] == ',':\n",
    "                line = line[:-1]\n",
    "            try:\n",
    "                data.append(json.loads(line))\n",
    "                if i%10000 == 0: print(i, \"success\")\n",
    "            except:\n",
    "                data.append('''{\"classBodyDeclaration\": \"\"}''')\n",
    "                print(i, \"failure\")\n",
    "                print(line)\n",
    "    return data"
   ]
  },
  {
   "cell_type": "code",
   "execution_count": null,
   "metadata": {},
   "outputs": [],
   "source": [
    "def getJsonDataSafe(JsonFile):\n",
    "    try:\n",
    "        return getJsonData(JsonFile)\n",
    "    except Exception as e:\n",
    "        print(e)\n",
    "        print(\"Loading JSON failed. Attempting safe method.\")\n",
    "        return getJsonDataLineByLine(JsonFile)"
   ]
  },
  {
   "cell_type": "code",
   "execution_count": null,
   "metadata": {},
   "outputs": [],
   "source": [
    "def dump_dict(data, name):\n",
    "    with open(name, 'w', encoding=\"utf8\") as f:\n",
    "        json.dump(data, f)"
   ]
  },
  {
   "cell_type": "markdown",
   "metadata": {},
   "source": [
    "# Visualize Tree"
   ]
  },
  {
   "cell_type": "code",
   "execution_count": null,
   "metadata": {},
   "outputs": [],
   "source": [
    "def travarse(tree):\n",
    "    if 'type' in tree:\n",
    "        print(tree['text'], end=\" \")\n",
    "        if tree['text'] in [';', '{', '}']:\n",
    "            print()\n",
    "        return\n",
    "    else:\n",
    "        root = list(tree.keys())[0]\n",
    "        children = tree[root]\n",
    "        for child in children:\n",
    "            travarse(child)"
   ]
  },
  {
   "cell_type": "code",
   "execution_count": null,
   "metadata": {},
   "outputs": [],
   "source": [
    "def tree2code(tree, indentation):\n",
    "    if 'type' in tree:\n",
    "        code = tree['text'] + ' '\n",
    "        if tree['text'] in [';', '{', '}']:\n",
    "            code += '\\n'\n",
    "            if tree['text'] == '{':\n",
    "                indentation += 1\n",
    "            elif tree['text'] == '}':\n",
    "                indentation -= 1\n",
    "            code += '\\t'*indentation\n",
    "        return code, indentation\n",
    "    else:\n",
    "        root = list(tree.keys())[0]\n",
    "        children = tree[root]\n",
    "        code = \"\"\n",
    "        for child in children:\n",
    "            t, indentation = tree2code(child, indentation)\n",
    "            code += t\n",
    "        return code, indentation"
   ]
  },
  {
   "cell_type": "code",
   "execution_count": null,
   "metadata": {},
   "outputs": [],
   "source": [
    "def printCode(tree):\n",
    "    code, _ = tree2code(tree, 0)\n",
    "    print(code)\n",
    "    print(\"Count:\", len(code.split()))"
   ]
  },
  {
   "cell_type": "code",
   "execution_count": null,
   "metadata": {
    "scrolled": false
   },
   "outputs": [],
   "source": [
    "ls ../csn_big_only_trees/"
   ]
  },
  {
   "cell_type": "code",
   "execution_count": null,
   "metadata": {},
   "outputs": [],
   "source": [
    "uncompressed_data = getJsonData('../csn_big_only_trees/csn_big_1.json')"
   ]
  },
  {
   "cell_type": "code",
   "execution_count": null,
   "metadata": {},
   "outputs": [],
   "source": [
    "compressed_data = getJsonData('../CodeSearchNet/train_test_valid_data_10k/java_train_1u_10k_compressed.json')"
   ]
  },
  {
   "cell_type": "code",
   "execution_count": null,
   "metadata": {},
   "outputs": [],
   "source": [
    "bef_comp = 0\n",
    "aft_comp = 0\n",
    "for i in range(len(compressed_data)):\n",
    "    code, _ = tree2code(uncompressed_data[i], 0)\n",
    "    num_tokens = len(code.split())\n",
    "    compressed_tokens = len(compressed_data[i]['code'].split())\n",
    "    bef_comp += num_tokens\n",
    "    aft_comp += compressed_tokens\n",
    "    if not compressed_tokens:\n",
    "        aft_comp += num_tokens\n",
    "\n",
    "print(1-aft_comp/bef_comp)"
   ]
  },
  {
   "cell_type": "code",
   "execution_count": null,
   "metadata": {},
   "outputs": [],
   "source": [
    "i = 205"
   ]
  },
  {
   "cell_type": "code",
   "execution_count": null,
   "metadata": {},
   "outputs": [],
   "source": []
  },
  {
   "cell_type": "code",
   "execution_count": null,
   "metadata": {
    "scrolled": true
   },
   "outputs": [],
   "source": [
    "code, _ = tree2code(uncompressed_data[i], 0)\n",
    "num_tokens = len(code.split())\n",
    "print(code)\n",
    "print(num_tokens)\n",
    "print(\"================================\")\n",
    "print(compressed_data[i]['code'])\n",
    "compressed_tokens = len(compressed_data[i]['code'].split())\n",
    "print(compressed_tokens)\n",
    "print(\"Compression Ratio:\", compressed_tokens/num_tokens)\n",
    "i+=1"
   ]
  },
  {
   "cell_type": "code",
   "execution_count": null,
   "metadata": {},
   "outputs": [],
   "source": []
  },
  {
   "cell_type": "code",
   "execution_count": null,
   "metadata": {},
   "outputs": [],
   "source": [
    "0.2104572106016639"
   ]
  },
  {
   "cell_type": "markdown",
   "metadata": {},
   "source": [
    "## How many of the compressed tokens were present in the top 10k train data?"
   ]
  },
  {
   "cell_type": "code",
   "execution_count": null,
   "metadata": {},
   "outputs": [],
   "source": [
    "abstract_code_dict = getJsonData('../CodeSearchNet/abstract_code_dict_500k_w_child.json')"
   ]
  },
  {
   "cell_type": "code",
   "execution_count": null,
   "metadata": {},
   "outputs": [],
   "source": [
    "abstract_code_keys = sorted(abstract_code_dict, key = lambda x:abstract_code_dict[x]['count'], reverse=True)"
   ]
  },
  {
   "cell_type": "code",
   "execution_count": null,
   "metadata": {},
   "outputs": [],
   "source": [
    "abstract_code_dict[abstract_code_keys[110]]"
   ]
  },
  {
   "cell_type": "code",
   "execution_count": null,
   "metadata": {},
   "outputs": [],
   "source": [
    "most_freq_25k = [abstract_code_dict[abstract_code_keys[i]]['compressed_name'] for i in range(25000)]"
   ]
  },
  {
   "cell_type": "code",
   "execution_count": null,
   "metadata": {},
   "outputs": [],
   "source": [
    "most_freq_10k = [abstract_code_dict[abstract_code_keys[i]]['compressed_name'] for i in range(10000)]"
   ]
  },
  {
   "cell_type": "code",
   "execution_count": null,
   "metadata": {
    "scrolled": true
   },
   "outputs": [],
   "source": [
    "most_freq_25k[:1000]"
   ]
  },
  {
   "cell_type": "code",
   "execution_count": null,
   "metadata": {},
   "outputs": [],
   "source": [
    "#!mkdir ../CodeSearchNet/25k\n",
    "#!mv ../CodeSearchNet/train-test-valid_25kf.zip ../CodeSearchNet/25k/\n",
    "#!unzip ../CodeSearchNet/25k/train-test-valid_25kf.zip\n",
    "!ls ../CodeSearchNet/train_test_valid_data_10k/"
   ]
  },
  {
   "cell_type": "code",
   "execution_count": null,
   "metadata": {},
   "outputs": [],
   "source": [
    "import glob\n",
    "dirs = glob.glob('../CodeSearchNet/train_test_valid_data_10k_500k/*_train_*')\n",
    "dirs"
   ]
  },
  {
   "cell_type": "code",
   "execution_count": null,
   "metadata": {},
   "outputs": [],
   "source": [
    "freq_dict = {}\n",
    "for path in dirs:\n",
    "    dataset = getJsonData(path)\n",
    "    for data in dataset:\n",
    "        code = data['code']\n",
    "        code_tokens = code.split()\n",
    "        for token in code_tokens:\n",
    "            if token not in freq_dict:\n",
    "                freq_dict[token] = 0\n",
    "            freq_dict[token] += 1"
   ]
  },
  {
   "cell_type": "code",
   "execution_count": null,
   "metadata": {},
   "outputs": [],
   "source": [
    "len(freq_dict)"
   ]
  },
  {
   "cell_type": "code",
   "execution_count": null,
   "metadata": {},
   "outputs": [],
   "source": [
    "# 25k compressed total tokens: 1024352\n",
    "# 10k compressed total tokens: 1160247"
   ]
  },
  {
   "cell_type": "code",
   "execution_count": null,
   "metadata": {},
   "outputs": [],
   "source": [
    "data_freq_list = sorted(freq_dict, key = lambda x:freq_dict[x], reverse=True)"
   ]
  },
  {
   "cell_type": "code",
   "execution_count": null,
   "metadata": {},
   "outputs": [],
   "source": [
    "top_data_freq_list = data_freq_list[:30000]"
   ]
  },
  {
   "cell_type": "code",
   "execution_count": null,
   "metadata": {
    "scrolled": true
   },
   "outputs": [],
   "source": [
    "top_data_freq_list[:1000]"
   ]
  },
  {
   "cell_type": "code",
   "execution_count": null,
   "metadata": {},
   "outputs": [],
   "source": [
    "common_tokens = list(set(top_data_freq_list) & set(most_freq_10k))"
   ]
  },
  {
   "cell_type": "code",
   "execution_count": null,
   "metadata": {
    "scrolled": true
   },
   "outputs": [],
   "source": [
    "len(common_tokens)"
   ]
  },
  {
   "cell_type": "code",
   "execution_count": null,
   "metadata": {},
   "outputs": [],
   "source": [
    "len(top_data_freq_list)"
   ]
  },
  {
   "cell_type": "markdown",
   "metadata": {},
   "source": [
    "Dumping common union vocabs"
   ]
  },
  {
   "cell_type": "code",
   "execution_count": null,
   "metadata": {},
   "outputs": [],
   "source": [
    "list_10k_10k = []"
   ]
  },
  {
   "cell_type": "code",
   "execution_count": null,
   "metadata": {},
   "outputs": [],
   "source": [
    "for token in top_data_freq_list:\n",
    "    list_10k_10k.append({'token':token, 'count':freq_dict[token]})"
   ]
  },
  {
   "cell_type": "code",
   "execution_count": null,
   "metadata": {},
   "outputs": [],
   "source": [
    "additional_compressed_tokens = list(set(most_freq_10k) - set(top_data_freq_list))\n",
    "len(additional_compressed_tokens)"
   ]
  },
  {
   "cell_type": "code",
   "execution_count": null,
   "metadata": {},
   "outputs": [],
   "source": [
    "for token in additional_compressed_tokens:\n",
    "    if token in freq_dict:\n",
    "        list_10k_10k.append({'token':token, 'count':freq_dict[token]})"
   ]
  },
  {
   "cell_type": "code",
   "execution_count": null,
   "metadata": {},
   "outputs": [],
   "source": [
    "len(list_10k_10k)"
   ]
  },
  {
   "cell_type": "code",
   "execution_count": null,
   "metadata": {},
   "outputs": [],
   "source": [
    "dump_dict(list_10k_10k, \"list_10k_10k.json\")"
   ]
  },
  {
   "cell_type": "code",
   "execution_count": null,
   "metadata": {},
   "outputs": [],
   "source": []
  },
  {
   "cell_type": "markdown",
   "metadata": {},
   "source": [
    "Testing out data outside vocab"
   ]
  },
  {
   "cell_type": "code",
   "execution_count": null,
   "metadata": {},
   "outputs": [],
   "source": [
    "not_in_vocab = list(set(most_freq_10k) - set(top_data_freq_list))\n",
    "len(not_in_vocab)"
   ]
  },
  {
   "cell_type": "code",
   "execution_count": null,
   "metadata": {
    "scrolled": true
   },
   "outputs": [],
   "source": [
    "not_in_vocab[:100]"
   ]
  },
  {
   "cell_type": "code",
   "execution_count": null,
   "metadata": {
    "scrolled": true
   },
   "outputs": [],
   "source": [
    "for f in not_in_vocab:\n",
    "    print(f,\"||\", func2abs[f],\"||\", abstract_code_dict[func2abs[f]]['count'])"
   ]
  },
  {
   "cell_type": "code",
   "execution_count": null,
   "metadata": {
    "scrolled": true
   },
   "outputs": [],
   "source": [
    "for f in common_tokens[:1000]:\n",
    "    print(f,\"||\", func2abs[f],\"||\", abstract_code_dict[func2abs[f]]['count'])"
   ]
  },
  {
   "cell_type": "code",
   "execution_count": null,
   "metadata": {
    "scrolled": true
   },
   "outputs": [],
   "source": [
    "abstract_code_dict[abstract_code_keys[10000]]"
   ]
  },
  {
   "cell_type": "code",
   "execution_count": null,
   "metadata": {
    "scrolled": true
   },
   "outputs": [],
   "source": [
    "abstract_code_dict['( ( AbstractISUPParameter ) $id0 ) . decode ( $id1 ) ;']"
   ]
  },
  {
   "cell_type": "code",
   "execution_count": null,
   "metadata": {},
   "outputs": [],
   "source": [
    "'$F2570015' in common_tokens"
   ]
  },
  {
   "cell_type": "code",
   "execution_count": null,
   "metadata": {},
   "outputs": [],
   "source": [
    "len(abstract_code_keys)\n",
    "#1144264"
   ]
  },
  {
   "cell_type": "code",
   "execution_count": null,
   "metadata": {
    "scrolled": false
   },
   "outputs": [],
   "source": [
    "i = -1\n",
    "abstract_code_keys2 = []\n",
    "for key in abstract_code_keys:\n",
    "    i+=1\n",
    "    parent = key + \" ;\" \n",
    "    if parent in abstract_code_keys:\n",
    "        if not i%1000: print(i)\n",
    "        if abstract_code_dict[key]['count'] != abstract_code_dict[parent]['count']:\n",
    "            abstract_code_keys2.append(key)\n",
    "\n",
    "abstract_code_keys = abstract_code_keys2\n",
    "len(abstract_code_keys)"
   ]
  },
  {
   "cell_type": "code",
   "execution_count": null,
   "metadata": {
    "scrolled": true
   },
   "outputs": [],
   "source": [
    "i = -1\n",
    "abstract_code_keys2 = []\n",
    "for key in abstract_code_keys:\n",
    "    i+=1\n",
    "    if not i%100: print(i)\n",
    "    #abstract_code_keys.remove(key)\n",
    "    abstract_code_keys2.append(key)"
   ]
  },
  {
   "cell_type": "markdown",
   "metadata": {},
   "source": [
    "## Removing child counts"
   ]
  },
  {
   "cell_type": "code",
   "execution_count": null,
   "metadata": {},
   "outputs": [],
   "source": [
    "min_freq = freq_dict[data_freq_list[30000]]\n",
    "min_freq"
   ]
  },
  {
   "cell_type": "code",
   "execution_count": null,
   "metadata": {},
   "outputs": [],
   "source": [
    "for discard_after in range(len(abstract_code_keys)):\n",
    "    key = abstract_code_keys[discard_after]\n",
    "    if abstract_code_dict[key]['count'] <= min_freq:\n",
    "        break\n",
    "discard_after"
   ]
  },
  {
   "cell_type": "code",
   "execution_count": null,
   "metadata": {},
   "outputs": [],
   "source": [
    "func2abs = {}\n",
    "\n",
    "for key in abstract_code_dict:\n",
    "    func2abs[abstract_code_dict[key]['compressed_name']] = key"
   ]
  },
  {
   "cell_type": "code",
   "execution_count": null,
   "metadata": {},
   "outputs": [],
   "source": [
    "accepted_abstract_keys = abstract_code_keys[:discard_after]\n",
    "abstract_code_dict_modified = copy.deepcopy(abstract_code_dict)"
   ]
  },
  {
   "cell_type": "code",
   "execution_count": null,
   "metadata": {
    "scrolled": false
   },
   "outputs": [],
   "source": [
    "for key in accepted_abstract_keys:\n",
    "    children = abstract_code_dict[key]['children']\n",
    "    if children:\n",
    "        count = abstract_code_dict[key]['count']\n",
    "        for child in children:\n",
    "            try:\n",
    "                child_key = func2abs[child]\n",
    "            except:\n",
    "                print(\"parent:\", abstract_code_dict_modified[key], \"child:\", child)\n",
    "            abstract_code_dict_modified[child_key]['count'] -= count"
   ]
  },
  {
   "cell_type": "code",
   "execution_count": null,
   "metadata": {},
   "outputs": [],
   "source": [
    "abstract_code_keys = sorted(abstract_code_dict_modified, key = lambda x:abstract_code_dict_modified[x]['count'], reverse=True)"
   ]
  },
  {
   "cell_type": "code",
   "execution_count": null,
   "metadata": {},
   "outputs": [],
   "source": [
    "for discard_after in range(len(abstract_code_keys)):\n",
    "    key = abstract_code_keys[discard_after]\n",
    "    if abstract_code_dict_modified[key]['count'] <= min_freq:\n",
    "        break\n",
    "discard_after"
   ]
  },
  {
   "cell_type": "code",
   "execution_count": null,
   "metadata": {},
   "outputs": [],
   "source": [
    "accepted_abstract_keys = abstract_code_keys[:discard_after]"
   ]
  },
  {
   "cell_type": "code",
   "execution_count": null,
   "metadata": {},
   "outputs": [],
   "source": [
    "len(top_data_freq_list)"
   ]
  },
  {
   "cell_type": "code",
   "execution_count": null,
   "metadata": {},
   "outputs": [],
   "source": [
    "abstract_code_dict2 = getJsonData('../CodeSearchNet/abstract_code_dict_500k.json')"
   ]
  },
  {
   "cell_type": "code",
   "execution_count": null,
   "metadata": {},
   "outputs": [],
   "source": [
    "accepted_abstract_funcs = [ abstract_code_dict2[x]['compressed_name'] for x in accepted_abstract_keys ]"
   ]
  },
  {
   "cell_type": "code",
   "execution_count": null,
   "metadata": {},
   "outputs": [],
   "source": [
    "not_in_vocab = list(set(accepted_abstract_funcs) & set(top_data_freq_list))\n",
    "len(not_in_vocab)"
   ]
  },
  {
   "cell_type": "markdown",
   "metadata": {},
   "source": [
    "## Testing new model"
   ]
  },
  {
   "cell_type": "code",
   "execution_count": null,
   "metadata": {},
   "outputs": [],
   "source": [
    "## Loading one training data\n",
    "tree_data = getJsonData(\"../CodeSearchNet/train_test_valid_uncompressed/java_train_0.json\")"
   ]
  },
  {
   "cell_type": "code",
   "execution_count": null,
   "metadata": {},
   "outputs": [],
   "source": [
    "## build freq_dict\n",
    "freq_dict = {}\n",
    "\n",
    "for i in range(len(tree_data)):\n",
    "    if i%5000 == 0: print(\"[\", i, \"]\")\n",
    "    code, _ = tree2code(tree_data[i], 0)\n",
    "    tokens = code.split()\n",
    "\n",
    "    for token in tokens:\n",
    "        if token not in freq_dict: freq_dict[token] = 0\n",
    "        freq_dict[token] += 1"
   ]
  },
  {
   "cell_type": "code",
   "execution_count": null,
   "metadata": {},
   "outputs": [],
   "source": [
    "import ast\n",
    "def get_compressed_func():\n",
    "    global compression_number\n",
    "    compression_number += 1\n",
    "    return \"$F\"+str(compression_number)"
   ]
  },
  {
   "cell_type": "code",
   "execution_count": null,
   "metadata": {},
   "outputs": [],
   "source": [
    "def build_dict(tree):\n",
    "    var_list = []\n",
    "    global abstract_code_dict\n",
    "    global num_to_compress\n",
    "    global function2abstract\n",
    "    \n",
    "    if 'text' in tree:\n",
    "        code = tree[\"text\"] + \" \"\n",
    "        #print(\"**:\\t\",code, 1)\n",
    "        return (code, 1, 0, [], None)\n",
    "    else:\n",
    "        parent = list(tree.keys())[0]\n",
    "        children = tree[parent]\n",
    "        if len(children) == 0:\n",
    "            return (\"\", 0, 0, [], None)\n",
    "        \n",
    "        code = \"\"\n",
    "        compressed_func = None\n",
    "        leaf_count = 0\n",
    "        id_count = 0\n",
    "        children_list = []\n",
    "        #leaf_list = []\n",
    "        \n",
    "        '''\n",
    "        and not (len(children) == 2 and 'text' in children[1] and children[1]['text'] == ';')\\\n",
    "        and not (len(children) == 3 and 'text' in children[0] and 'text' in children[2] and \\\n",
    "                 ((children[0]['text'] == '(' and children[2]['text'] == ')') or \n",
    "                  (children[0]['text'] == '{' and children[2]['text'] == '}') or\n",
    "                  (children[0]['text'] == '[' and children[2]['text'] == ']')))\n",
    "        '''\n",
    "        \n",
    "        if len(children) > 1:\n",
    "            for child in children:\n",
    "                (c, n, i, vl, f) = build_dict(child)\n",
    "                code += c\n",
    "                leaf_count += n\n",
    "                id_count += i\n",
    "                var_list += [v for v in vl if v not in var_list]\n",
    "                if f: children_list.append(f)\n",
    "                #else: leaf_list += code.split()\n",
    "                \n",
    "            if (var_list and leaf_count - len(var_list) >= 4) or (not var_list and leaf_count > 1) :\n",
    "                abstract_code = code.split()\n",
    "                for i in range(len(abstract_code)):\n",
    "                    if abstract_code[i] in var_list:\n",
    "                        abstract_code[i] = \"$id{}\".format(var_list.index(abstract_code[i]))\n",
    "                abstract_code = ' '.join(abstract_code)\n",
    "                \n",
    "                if abstract_code not in abstract_code_dict:\n",
    "                    compressed_func = get_compressed_func()\n",
    "                    abstract_code_dict[abstract_code] = {\n",
    "                        'count': 0, \n",
    "                        'compressed_name': compressed_func,\n",
    "                        'num_params': len(var_list),\n",
    "                        'children': children_list,\n",
    "                        #'leaves': leaf_list\n",
    "                    }\n",
    "                    function2abstract[compressed_func] = abstract_code\n",
    "                else:\n",
    "                    compressed_func = abstract_code_dict[abstract_code]['compressed_name']\n",
    "                \n",
    "                abstract_code_dict[abstract_code]['count'] += 1\n",
    "#                 children_list.insert(0, compressed_func)\n",
    "                \n",
    "            return (code, leaf_count, id_count, var_list, compressed_func)\n",
    "        \n",
    "        if parent == \"literal\":\n",
    "            child = children[0]\n",
    "            child_text = child[\"text\"]\n",
    "            try:\n",
    "                if child_text in ['null', 'true', 'false']:\n",
    "                    pass\n",
    "                elif type(ast.literal_eval(child_text)) == type(\"STRING\"):\n",
    "                    children[0][\"text\"] = \"STRING00\"\n",
    "                elif type(ast.literal_eval(child_text)) == type(1):\n",
    "                    children[0][\"text\"] = \"INT00\"\n",
    "                elif type(ast.literal_eval(child_text)) == type(1.1):\n",
    "                    children[0][\"text\"] = \"FLOAT00\"\n",
    "            except:\n",
    "                children[0][\"text\"] = \"NUM00\"\n",
    "#==================================================================\n",
    "        elif parent == \"primary\" and 'type' in children[0]:\n",
    "            id_count += 1\n",
    "            text = children[0][\"text\"]\n",
    "            if text not in var_list:\n",
    "                var_list.append(text)\n",
    "        elif parent == \"variableDeclaratorId\" and 'type' in children[0]:\n",
    "            id_count += 1\n",
    "            text = children[0][\"text\"]\n",
    "            if text not in var_list:\n",
    "                var_list.append(text)\n",
    "#=================================================================\n",
    "        else:\n",
    "            (code, leaf_count, i, vl, compressed_func) = build_dict(children[0])\n",
    "            id_count += i\n",
    "            var_list += [v for v in vl if v not in var_list]\n",
    "        \n",
    "        return (code, leaf_count, id_count, var_list, compressed_func)"
   ]
  },
  {
   "cell_type": "code",
   "execution_count": null,
   "metadata": {},
   "outputs": [],
   "source": [
    "abstract_code_dict = {}\n",
    "compression_number = 0\n",
    "function2abstract = {}"
   ]
  },
  {
   "cell_type": "code",
   "execution_count": null,
   "metadata": {},
   "outputs": [],
   "source": [
    "for data in tree_data:\n",
    "    build_dict(data)"
   ]
  },
  {
   "cell_type": "code",
   "execution_count": null,
   "metadata": {},
   "outputs": [],
   "source": [
    "len(abstract_code_dict)"
   ]
  },
  {
   "cell_type": "code",
   "execution_count": null,
   "metadata": {},
   "outputs": [],
   "source": [
    "most_freq = sorted(freq_dict, key = lambda x:freq_dict[x], reverse=True)"
   ]
  },
  {
   "cell_type": "code",
   "execution_count": null,
   "metadata": {},
   "outputs": [],
   "source": [
    "func2abs = {}\n",
    "\n",
    "for key in abstract_code_dict:\n",
    "    func2abs[abstract_code_dict[key]['compressed_name']] = key"
   ]
  },
  {
   "cell_type": "code",
   "execution_count": null,
   "metadata": {},
   "outputs": [],
   "source": [
    "vocab_size = 10000"
   ]
  },
  {
   "cell_type": "code",
   "execution_count": null,
   "metadata": {
    "scrolled": true
   },
   "outputs": [],
   "source": [
    "min_freq = freq_dict[most_freq[vocab_size]]\n",
    "most_freq[vocab_size], min_freq"
   ]
  },
  {
   "cell_type": "code",
   "execution_count": null,
   "metadata": {},
   "outputs": [],
   "source": [
    "for key in list(abstract_code_dict):\n",
    "    if abstract_code_dict[key]['count'] < min_freq:\n",
    "        del abstract_code_dict[key]"
   ]
  },
  {
   "cell_type": "code",
   "execution_count": null,
   "metadata": {},
   "outputs": [],
   "source": [
    "for key in abstract_code_dict:\n",
    "    children = abstract_code_dict[key]['children']\n",
    "    count = abstract_code_dict[key]['count']\n",
    "    for child in children:\n",
    "        child_key = func2abs[child]\n",
    "        if child_key in abstract_code_dict:\n",
    "            abstract_code_dict[child_key]['count'] -= count"
   ]
  },
  {
   "cell_type": "code",
   "execution_count": null,
   "metadata": {
    "scrolled": true
   },
   "outputs": [],
   "source": [
    "abstract_code_keys = sorted(abstract_code_dict, key = lambda x:abstract_code_dict[x]['count'], reverse=True)\n",
    "len(abstract_code_keys)"
   ]
  },
  {
   "cell_type": "code",
   "execution_count": null,
   "metadata": {},
   "outputs": [],
   "source": [
    "for x in abstract_code_keys:\n",
    "    "
   ]
  },
  {
   "cell_type": "code",
   "execution_count": null,
   "metadata": {},
   "outputs": [],
   "source": [
    "for key in abstract_code_dict:\n",
    "    func = abstract_code_dict[key]['compressed_name']\n",
    "    freq_dict[func] = abstract_code_dict[key]['count']"
   ]
  },
  {
   "cell_type": "code",
   "execution_count": null,
   "metadata": {
    "scrolled": true
   },
   "outputs": [],
   "source": [
    "i = 0\n",
    "for key in abstract_code_keys:\n",
    "    if not i%100: print(i)\n",
    "    i+=1\n",
    "    most_freq = sorted(freq_dict, key = lambda x:freq_dict[x], reverse=True)\n",
    "    count = abstract_code_dict[key]['count']\n",
    "    func = abstract_code_dict[key]['compressed_name']\n",
    "    if func in most_freq[:vocab_size]:\n",
    "        tokens = key.split()\n",
    "        for token in tokens:\n",
    "            if not token.startswith(\"$id\") if token in freq_dict:\n",
    "                freq_dict[token] -= count"
   ]
  },
  {
   "cell_type": "code",
   "execution_count": null,
   "metadata": {},
   "outputs": [],
   "source": [
    "freq_dict[most_freq[vocab_size]]"
   ]
  },
  {
   "cell_type": "code",
   "execution_count": null,
   "metadata": {},
   "outputs": [],
   "source": [
    "to_be_compressed = []\n",
    "for token in most_freq[:vocab_size]:\n",
    "    if token.startswith(\"$F\"):\n",
    "        to_be_compressed.append(func2abs[token])"
   ]
  },
  {
   "cell_type": "code",
   "execution_count": null,
   "metadata": {},
   "outputs": [],
   "source": [
    "len(to_be_compressed), to_be_compressed[0]"
   ]
  },
  {
   "cell_type": "code",
   "execution_count": null,
   "metadata": {},
   "outputs": [],
   "source": [
    "abstract_code_keys = to_be_compressed"
   ]
  },
  {
   "cell_type": "code",
   "execution_count": null,
   "metadata": {},
   "outputs": [],
   "source": [
    "def compress(tree):\n",
    "    var_list = []\n",
    "    global abstract_code_dict\n",
    "    global num_to_compress\n",
    "    \n",
    "    if 'text' in tree:\n",
    "        code = tree[\"text\"] + \" \"\n",
    "        #print(\"**:\\t\",code, 1)\n",
    "        return (code, 1, 0, var_list)\n",
    "    else:\n",
    "        parent = list(tree.keys())[0]\n",
    "        children = tree[parent]\n",
    "        if len(children) == 0:\n",
    "            return (\"\", 0, 0, [])\n",
    "        \n",
    "        code = \"\"\n",
    "        leaf_count = 0\n",
    "        id_count = 0\n",
    "        \n",
    "        if len(children) > 1:\n",
    "            for child in children:\n",
    "                (c, n, i, vl) = compress(child)\n",
    "                code += c\n",
    "                leaf_count += n\n",
    "                id_count += i\n",
    "                var_list += [v for v in vl if v not in var_list]\n",
    "\n",
    "            if (var_list and leaf_count - len(var_list) >= 4) or (not var_list and leaf_count > 1) :\n",
    "                abstract_code = code.split()\n",
    "                for i in range(len(abstract_code)):\n",
    "                    if abstract_code[i] in var_list:\n",
    "                        abstract_code[i] = \"$id{}\".format(var_list.index(abstract_code[i]))\n",
    "                abstract_code = ' '.join(abstract_code)\n",
    "                \n",
    "                # If the abstracted code is within the range, replace\n",
    "                # the children with a single leaf node containing whole code\n",
    "                # If the list is empty, only one token.\n",
    "                if abstract_code in abstract_code_keys:\n",
    "                    compressed_func = abstract_code_dict[abstract_code]['compressed_name']\n",
    "                    compressed_func += ' ( ' +' , '.join(var_list)+' )' if var_list else ''\n",
    "                    tree[parent] = [{\"type\": \"compressed\", \"text\": compressed_func}]\n",
    "\n",
    "            #print(parent, \":\\t\",code, leaf_count, id_count, var_list)\n",
    "            return (code, leaf_count, id_count, var_list)\n",
    "        \n",
    "        if parent == \"literal\":\n",
    "            child = children[0]\n",
    "            child_text = child[\"text\"]\n",
    "            try:\n",
    "                if child_text in ['null', 'true', 'false']:\n",
    "                    pass\n",
    "                elif type(ast.literal_eval(child_text)) == type(\"STRING\"):\n",
    "                    children[0][\"text\"] = \"STRING00\"\n",
    "                elif type(ast.literal_eval(child_text)) == type(1):\n",
    "                    children[0][\"text\"] = \"INT00\"\n",
    "                elif type(ast.literal_eval(child_text)) == type(1.1):\n",
    "                    children[0][\"text\"] = \"FLOAT00\"\n",
    "            except:\n",
    "                children[0][\"text\"] = \"NUM00\"\n",
    "        elif parent == \"primary\" and 'type' in children[0]:\n",
    "            id_count += 1\n",
    "            text = children[0][\"text\"]\n",
    "            if text not in var_list:\n",
    "                var_list.append(text)\n",
    "        elif parent == \"variableDeclaratorId\" and 'type' in children[0]:\n",
    "            id_count += 1\n",
    "            text = children[0][\"text\"]\n",
    "            if text not in var_list:\n",
    "                var_list.append(text)\n",
    "\n",
    "        (code, leaf_count, i, vl) = compress(children[0])\n",
    "        id_count += i\n",
    "        var_list += [v for v in vl if v not in var_list]\n",
    "        \n",
    "        #print(parent, \":\\t\",code, leaf_count, id_count, var_list)\n",
    "        return (code, leaf_count, id_count, var_list)\n",
    "    "
   ]
  },
  {
   "cell_type": "code",
   "execution_count": null,
   "metadata": {
    "scrolled": true
   },
   "outputs": [],
   "source": [
    "compressed_freq_dict = {}\n",
    "compressed_codes = []\n",
    "for i in range(len(tree_data)):\n",
    "    if i%1000 == 0: print(\"[\", i, \"]\") \n",
    "    try:\n",
    "        tree_copy = copy.deepcopy(tree_data[i])\n",
    "        (code, leaf_count, id_count, var_list) = compress(tree_copy)\n",
    "        code, _ = tree2code(tree_copy, 0)\n",
    "    except Exception as e:\n",
    "        # Write the data number and file name to another file for later investigation\n",
    "        print(e)\n",
    "        code, _ = tree2code(tree_data[i], 0)\n",
    "    compressed_code = {\"code\": code}\n",
    "    tokens = code.split()\n",
    "    for token in tokens:\n",
    "        if token not in compressed_freq_dict:\n",
    "            compressed_freq_dict[token] = 0\n",
    "        compressed_freq_dict[token] += 1\n",
    "    compressed_codes.append(compressed_code)"
   ]
  },
  {
   "cell_type": "code",
   "execution_count": null,
   "metadata": {},
   "outputs": [],
   "source": [
    "compressed_most_freq = sorted(compressed_freq_dict, key = lambda x:compressed_freq_dict[x], reverse=True)"
   ]
  },
  {
   "cell_type": "code",
   "execution_count": null,
   "metadata": {},
   "outputs": [],
   "source": [
    "compressed_funcs = [abstract_code_dict[x]['compressed_name'] for x in abstract_code_keys]"
   ]
  },
  {
   "cell_type": "code",
   "execution_count": null,
   "metadata": {},
   "outputs": [],
   "source": [
    "common_tokens_after_compression = list(set(compressed_most_freq[:vocab_size]) & set(compressed_funcs))\n",
    "len(common_tokens_after_compression)"
   ]
  },
  {
   "cell_type": "code",
   "execution_count": null,
   "metadata": {},
   "outputs": [],
   "source": [
    "'$F280' in compressed_funcs"
   ]
  },
  {
   "cell_type": "code",
   "execution_count": null,
   "metadata": {
    "scrolled": true
   },
   "outputs": [],
   "source": [
    "compressed_most_freq[:100]"
   ]
  },
  {
   "cell_type": "code",
   "execution_count": null,
   "metadata": {},
   "outputs": [],
   "source": [
    "oov = list(set(compressed_funcs) - set(compressed_most_freq[:vocab_size]))\n",
    "len(oov)"
   ]
  },
  {
   "cell_type": "code",
   "execution_count": null,
   "metadata": {},
   "outputs": [],
   "source": [
    "for o in oov:\n",
    "    a = abstract_code_dict[func2abs[o]]\n",
    "    print(o, a[])"
   ]
  },
  {
   "cell_type": "code",
   "execution_count": null,
   "metadata": {
    "scrolled": true
   },
   "outputs": [],
   "source": [
    "len(abstract_code_keys)"
   ]
  },
  {
   "cell_type": "code",
   "execution_count": null,
   "metadata": {
    "scrolled": true
   },
   "outputs": [],
   "source": [
    "count = 0\n",
    "# IF A CHILD IS BEFORE A PARENT\n",
    "for key in abstract_code_keys:\n",
    "    children = abstract_code_dict[key]['children']\n",
    "    for child in children:\n",
    "        if child in func2abs:\n",
    "            child_key = func2abs[child]\n",
    "            if abstract_code_keys.index(key) < abstract_code_keys.index(child_key):\n",
    "                print(key, \"||\", child_key)\n",
    "                print(abstract_code_dict[key]['count'],\"--\", abstract_code_dict[child_key]['count'])\n",
    "                count+=1"
   ]
  },
  {
   "cell_type": "code",
   "execution_count": null,
   "metadata": {},
   "outputs": [],
   "source": [
    "count"
   ]
  },
  {
   "cell_type": "code",
   "execution_count": null,
   "metadata": {},
   "outputs": [],
   "source": [
    "for key in abstract_code_keys:\n",
    "    if \"$id0 ( )\" in key:\n",
    "        print(key, abstract_code_dict[key]['count'])"
   ]
  },
  {
   "cell_type": "code",
   "execution_count": null,
   "metadata": {},
   "outputs": [],
   "source": []
  }
 ],
 "metadata": {
  "kernelspec": {
   "display_name": "conda_tensorflow_p36",
   "language": "python",
   "name": "conda_tensorflow_p36"
  },
  "language_info": {
   "codemirror_mode": {
    "name": "ipython",
    "version": 3
   },
   "file_extension": ".py",
   "mimetype": "text/x-python",
   "name": "python",
   "nbconvert_exporter": "python",
   "pygments_lexer": "ipython3",
   "version": "3.6.10"
  }
 },
 "nbformat": 4,
 "nbformat_minor": 4
}
