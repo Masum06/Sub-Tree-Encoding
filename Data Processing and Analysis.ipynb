{
 "cells": [
  {
   "cell_type": "code",
   "execution_count": 4,
   "metadata": {},
   "outputs": [],
   "source": [
    "import pickle"
   ]
  },
  {
   "cell_type": "code",
   "execution_count": 5,
   "metadata": {},
   "outputs": [],
   "source": [
    "filename = \"../CodeSearchNet/big_csn_data/CodeSearchNet_Java_Search_Preliminary.pkl\"\n",
    "infile = open(filename,'rb')\n",
    "new_dict = pickle.load(infile)\n",
    "infile.close()"
   ]
  },
  {
   "cell_type": "code",
   "execution_count": 48,
   "metadata": {
    "scrolled": false
   },
   "outputs": [
    {
     "data": {
      "text/plain": [
       "1569889"
      ]
     },
     "execution_count": 48,
     "metadata": {},
     "output_type": "execute_result"
    }
   ],
   "source": [
    "len(new_dict)"
   ]
  },
  {
   "cell_type": "code",
   "execution_count": 46,
   "metadata": {
    "scrolled": true
   },
   "outputs": [
    {
     "name": "stdout",
     "output_type": "stream",
     "text": [
      "private static String interpretFacet(final Facet facet) {\n",
      "        if (facet == null || facet.isNoop()) {\n",
      "            return \"\";\n",
      "        }\n",
      "        if (facet instanceof ImperativeFacet) {\n",
      "            ImperativeFacet imperativeFacet = (ImperativeFacet) facet;\n",
      "            return imperativeFacet.getMethods().get(0).getName();\n",
      "        } \n",
      "        final String name = facet.getClass().getSimpleName();\n",
      "        if (ignore(name)) {\n",
      "            return \"\";\n",
      "        } \n",
      "        final String abbr = StringExtensions.toAbbreviation(name);\n",
      "        return abbr.length()>0 ? abbr : name;\n",
      "    }\n"
     ]
    }
   ],
   "source": [
    "i = -1#+(100000)*15\n",
    "print(new_dict[i]['function'])"
   ]
  },
  {
   "cell_type": "code",
   "execution_count": 47,
   "metadata": {},
   "outputs": [
    {
     "data": {
      "text/plain": [
       "110"
      ]
     },
     "execution_count": 47,
     "metadata": {},
     "output_type": "execute_result"
    }
   ],
   "source": [
    "len(new_dict[i]['function_tokens'])"
   ]
  },
  {
   "cell_type": "code",
   "execution_count": null,
   "metadata": {},
   "outputs": [],
   "source": []
  },
  {
   "cell_type": "code",
   "execution_count": null,
   "metadata": {},
   "outputs": [],
   "source": []
  }
 ],
 "metadata": {
  "kernelspec": {
   "display_name": "conda_tensorflow_p36",
   "language": "python",
   "name": "conda_tensorflow_p36"
  },
  "language_info": {
   "codemirror_mode": {
    "name": "ipython",
    "version": 3
   },
   "file_extension": ".py",
   "mimetype": "text/x-python",
   "name": "python",
   "nbconvert_exporter": "python",
   "pygments_lexer": "ipython3",
   "version": "3.6.10"
  }
 },
 "nbformat": 4,
 "nbformat_minor": 4
}
