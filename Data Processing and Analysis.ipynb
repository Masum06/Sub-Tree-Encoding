{
 "cells": [
  {
   "cell_type": "code",
   "execution_count": null,
   "metadata": {},
   "outputs": [],
   "source": [
    "import pickle"
   ]
  },
  {
   "cell_type": "code",
   "execution_count": null,
   "metadata": {},
   "outputs": [],
   "source": [
    "filename = \"../CodeSearchNet/big_csn_data/CodeSearchNet_Java_Search_Preliminary.pkl\"\n",
    "infile = open(filename,'rb')\n",
    "new_dict = pickle.load(infile)\n",
    "infile.close()"
   ]
  },
  {
   "cell_type": "code",
   "execution_count": null,
   "metadata": {
    "scrolled": false
   },
   "outputs": [],
   "source": [
    "len(new_dict)"
   ]
  },
  {
   "cell_type": "code",
   "execution_count": null,
   "metadata": {
    "scrolled": true
   },
   "outputs": [],
   "source": [
    "i = -1 #+(100000)*15\n",
    "print(new_dict[i]['function'])"
   ]
  },
  {
   "cell_type": "code",
   "execution_count": null,
   "metadata": {
    "scrolled": false
   },
   "outputs": [],
   "source": [
    "len(new_dict[i]['function_tokens'])"
   ]
  },
  {
   "cell_type": "markdown",
   "metadata": {},
   "source": [
    "## Analyzing Compression"
   ]
  },
  {
   "cell_type": "code",
   "execution_count": 1,
   "metadata": {},
   "outputs": [],
   "source": [
    "import json\n",
    "import copy"
   ]
  },
  {
   "cell_type": "code",
   "execution_count": 2,
   "metadata": {},
   "outputs": [],
   "source": [
    "def getJsonData(JsonFile):\n",
    "    with open(JsonFile, encoding=\"utf8\") as f:\n",
    "        data = json.load(f)\n",
    "    return data"
   ]
  },
  {
   "cell_type": "code",
   "execution_count": null,
   "metadata": {},
   "outputs": [],
   "source": [
    "def getJsonDataLineByLine(JsonFile):\n",
    "    data = []\n",
    "    i = 0\n",
    "    with open(JsonFile) as f:\n",
    "        for line in f:\n",
    "            i += 1\n",
    "            line = line.strip()\n",
    "            if line[0] == '[':\n",
    "                line = line[1:]\n",
    "            elif line[-1] == ']':\n",
    "                line = line[:-1]\n",
    "            if line[-1] == ',':\n",
    "                line = line[:-1]\n",
    "            try:\n",
    "                data.append(json.loads(line))\n",
    "                if i%10000 == 0: print(i, \"success\")\n",
    "            except:\n",
    "                data.append('''{\"classBodyDeclaration\": \"\"}''')\n",
    "                print(i, \"failure\")\n",
    "                print(line)\n",
    "    return data"
   ]
  },
  {
   "cell_type": "code",
   "execution_count": null,
   "metadata": {},
   "outputs": [],
   "source": [
    "def getJsonDataSafe(JsonFile):\n",
    "    try:\n",
    "        return getJsonData(JsonFile)\n",
    "    except Exception as e:\n",
    "        print(e)\n",
    "        print(\"Loading JSON failed. Attempting safe method.\")\n",
    "        return getJsonDataLineByLine(JsonFile)"
   ]
  },
  {
   "cell_type": "code",
   "execution_count": 3,
   "metadata": {},
   "outputs": [],
   "source": [
    "def dump_dict(data, name):\n",
    "    with open(name, 'w', encoding=\"utf8\") as f:\n",
    "        json.dump(data, f)"
   ]
  },
  {
   "cell_type": "markdown",
   "metadata": {},
   "source": [
    "# Visualize Tree"
   ]
  },
  {
   "cell_type": "code",
   "execution_count": 4,
   "metadata": {},
   "outputs": [],
   "source": [
    "def travarse(tree):\n",
    "    if 'type' in tree:\n",
    "        print(tree['text'], end=\" \")\n",
    "        if tree['text'] in [';', '{', '}']:\n",
    "            print()\n",
    "        return\n",
    "    else:\n",
    "        root = list(tree.keys())[0]\n",
    "        children = tree[root]\n",
    "        for child in children:\n",
    "            travarse(child)"
   ]
  },
  {
   "cell_type": "code",
   "execution_count": 5,
   "metadata": {},
   "outputs": [],
   "source": [
    "import ast\n",
    "def tree2code(tree, indentation):\n",
    "    code = \"\"\n",
    "    parent = list(tree.keys())[0]\n",
    "    children = tree[parent]\n",
    "    if 'type' in tree:\n",
    "        code = tree['text'] + ' '\n",
    "        if tree['text'] in [';', '{', '}']:\n",
    "            code += '\\n'\n",
    "            if tree['text'] == '{':\n",
    "                indentation += 1\n",
    "            elif tree['text'] == '}':\n",
    "                indentation -= 1\n",
    "            code += '\\t'*indentation\n",
    "        #return code, indentation\n",
    "    elif len(children)==1 and parent == \"literal\":\n",
    "        child = children[0]\n",
    "        child_text = child[\"text\"]\n",
    "        #type(ast.literal_eval(child_text))\n",
    "        try:\n",
    "            if child_text in ['null', 'true', 'false']:\n",
    "                code = child_text + \" \"\n",
    "            elif type(ast.literal_eval(child_text)) == type(\"STRING\"):\n",
    "                code = \"STRING00 \"\n",
    "            elif type(ast.literal_eval(child_text)) == type(1):\n",
    "                code = \"INT00 \"\n",
    "            elif type(ast.literal_eval(child_text)) == type(1.1):\n",
    "                code = \"FLOAT00 \"\n",
    "        except:\n",
    "            code = \"NUM00 \"\n",
    "    else:\n",
    "        root = list(tree.keys())[0]\n",
    "        children = tree[root]\n",
    "        for child in children:\n",
    "            t, indentation = tree2code(child, indentation)\n",
    "            code += t\n",
    "    return code, indentation"
   ]
  },
  {
   "cell_type": "code",
   "execution_count": null,
   "metadata": {},
   "outputs": [],
   "source": [
    "for i in range(100):\n",
    "    print(tree2code(tree_data[i],0)[0])"
   ]
  },
  {
   "cell_type": "code",
   "execution_count": null,
   "metadata": {},
   "outputs": [],
   "source": [
    "def printCode(tree):\n",
    "    code, _ = tree2code(tree, 0)\n",
    "    print(code)\n",
    "    print(\"Count:\", len(code.split()))"
   ]
  },
  {
   "cell_type": "code",
   "execution_count": null,
   "metadata": {
    "scrolled": true
   },
   "outputs": [],
   "source": [
    "ls ../csn_big_only_trees/"
   ]
  },
  {
   "cell_type": "code",
   "execution_count": null,
   "metadata": {},
   "outputs": [],
   "source": [
    "uncompressed_data = getJsonData('../csn_big_only_trees/csn_big_1.json')"
   ]
  },
  {
   "cell_type": "code",
   "execution_count": null,
   "metadata": {},
   "outputs": [],
   "source": [
    "compressed_data = getJsonData('../CodeSearchNet/train_test_valid_data_10k/java_train_1u_10k_compressed.json')"
   ]
  },
  {
   "cell_type": "code",
   "execution_count": null,
   "metadata": {},
   "outputs": [],
   "source": [
    "bef_comp = 0\n",
    "aft_comp = 0\n",
    "for i in range(len(compressed_data)):\n",
    "    code, _ = tree2code(uncompressed_data[i], 0)\n",
    "    num_tokens = len(code.split())\n",
    "    compressed_tokens = len(compressed_data[i]['code'].split())\n",
    "    bef_comp += num_tokens\n",
    "    aft_comp += compressed_tokens\n",
    "    if not compressed_tokens:\n",
    "        aft_comp += num_tokens\n",
    "\n",
    "print(1-aft_comp/bef_comp)"
   ]
  },
  {
   "cell_type": "code",
   "execution_count": null,
   "metadata": {},
   "outputs": [],
   "source": [
    "i = 205"
   ]
  },
  {
   "cell_type": "code",
   "execution_count": null,
   "metadata": {},
   "outputs": [],
   "source": []
  },
  {
   "cell_type": "code",
   "execution_count": null,
   "metadata": {
    "scrolled": true
   },
   "outputs": [],
   "source": [
    "code, _ = tree2code(uncompressed_data[i], 0)\n",
    "num_tokens = len(code.split())\n",
    "print(code)\n",
    "print(num_tokens)\n",
    "print(\"================================\")\n",
    "print(compressed_data[i]['code'])\n",
    "compressed_tokens = len(compressed_data[i]['code'].split())\n",
    "print(compressed_tokens)\n",
    "print(\"Compression Ratio:\", compressed_tokens/num_tokens)\n",
    "i+=1"
   ]
  },
  {
   "cell_type": "code",
   "execution_count": null,
   "metadata": {},
   "outputs": [],
   "source": []
  },
  {
   "cell_type": "code",
   "execution_count": null,
   "metadata": {},
   "outputs": [],
   "source": [
    "0.2104572106016639"
   ]
  },
  {
   "cell_type": "markdown",
   "metadata": {},
   "source": [
    "## How many of the compressed tokens were present in the top 10k train data?"
   ]
  },
  {
   "cell_type": "code",
   "execution_count": null,
   "metadata": {},
   "outputs": [],
   "source": [
    "abstract_code_dict = getJsonData('../CodeSearchNet/abstract_code_dict_500k_w_child.json')"
   ]
  },
  {
   "cell_type": "code",
   "execution_count": null,
   "metadata": {},
   "outputs": [],
   "source": [
    "abstract_code_keys = sorted(abstract_code_dict, key = lambda x:abstract_code_dict[x]['count'], reverse=True)"
   ]
  },
  {
   "cell_type": "code",
   "execution_count": null,
   "metadata": {},
   "outputs": [],
   "source": [
    "abstract_code_dict[abstract_code_keys[110]]"
   ]
  },
  {
   "cell_type": "code",
   "execution_count": null,
   "metadata": {},
   "outputs": [],
   "source": [
    "most_freq_25k = [abstract_code_dict[abstract_code_keys[i]]['compressed_name'] for i in range(25000)]"
   ]
  },
  {
   "cell_type": "code",
   "execution_count": null,
   "metadata": {},
   "outputs": [],
   "source": [
    "most_freq_10k = [abstract_code_dict[abstract_code_keys[i]]['compressed_name'] for i in range(10000)]"
   ]
  },
  {
   "cell_type": "code",
   "execution_count": null,
   "metadata": {
    "scrolled": true
   },
   "outputs": [],
   "source": [
    "most_freq_25k[:1000]"
   ]
  },
  {
   "cell_type": "code",
   "execution_count": null,
   "metadata": {},
   "outputs": [],
   "source": [
    "#!mkdir ../CodeSearchNet/25k\n",
    "#!mv ../CodeSearchNet/train-test-valid_25kf.zip ../CodeSearchNet/25k/\n",
    "#!unzip ../CodeSearchNet/25k/train-test-valid_25kf.zip\n",
    "!ls ../CodeSearchNet/train_test_valid_data_10k/"
   ]
  },
  {
   "cell_type": "code",
   "execution_count": null,
   "metadata": {},
   "outputs": [],
   "source": [
    "import glob\n",
    "dirs = glob.glob('../CodeSearchNet/train_test_valid_data_10k_500k/*_train_*')\n",
    "dirs"
   ]
  },
  {
   "cell_type": "code",
   "execution_count": null,
   "metadata": {},
   "outputs": [],
   "source": [
    "freq_dict = {}\n",
    "for path in dirs:\n",
    "    dataset = getJsonData(path)\n",
    "    for data in dataset:\n",
    "        code = data['code']\n",
    "        code_tokens = code.split()\n",
    "        for token in code_tokens:\n",
    "            if token not in freq_dict:\n",
    "                freq_dict[token] = 0\n",
    "            freq_dict[token] += 1"
   ]
  },
  {
   "cell_type": "code",
   "execution_count": null,
   "metadata": {},
   "outputs": [],
   "source": [
    "len(freq_dict)"
   ]
  },
  {
   "cell_type": "code",
   "execution_count": null,
   "metadata": {},
   "outputs": [],
   "source": [
    "# 25k compressed total tokens: 1024352\n",
    "# 10k compressed total tokens: 1160247"
   ]
  },
  {
   "cell_type": "code",
   "execution_count": null,
   "metadata": {},
   "outputs": [],
   "source": [
    "data_freq_list = sorted(freq_dict, key = lambda x:freq_dict[x], reverse=True)"
   ]
  },
  {
   "cell_type": "code",
   "execution_count": null,
   "metadata": {},
   "outputs": [],
   "source": [
    "top_data_freq_list = data_freq_list[:30000]"
   ]
  },
  {
   "cell_type": "code",
   "execution_count": null,
   "metadata": {
    "scrolled": true
   },
   "outputs": [],
   "source": [
    "top_data_freq_list[:1000]"
   ]
  },
  {
   "cell_type": "code",
   "execution_count": null,
   "metadata": {},
   "outputs": [],
   "source": [
    "common_tokens = list(set(top_data_freq_list) & set(most_freq_10k))"
   ]
  },
  {
   "cell_type": "code",
   "execution_count": null,
   "metadata": {
    "scrolled": true
   },
   "outputs": [],
   "source": [
    "len(common_tokens)"
   ]
  },
  {
   "cell_type": "code",
   "execution_count": null,
   "metadata": {},
   "outputs": [],
   "source": [
    "len(top_data_freq_list)"
   ]
  },
  {
   "cell_type": "markdown",
   "metadata": {},
   "source": [
    "Dumping common union vocabs"
   ]
  },
  {
   "cell_type": "code",
   "execution_count": null,
   "metadata": {},
   "outputs": [],
   "source": [
    "list_10k_10k = []"
   ]
  },
  {
   "cell_type": "code",
   "execution_count": null,
   "metadata": {},
   "outputs": [],
   "source": [
    "for token in top_data_freq_list:\n",
    "    list_10k_10k.append({'token':token, 'count':freq_dict[token]})"
   ]
  },
  {
   "cell_type": "code",
   "execution_count": null,
   "metadata": {},
   "outputs": [],
   "source": [
    "additional_compressed_tokens = list(set(most_freq_10k) - set(top_data_freq_list))\n",
    "len(additional_compressed_tokens)"
   ]
  },
  {
   "cell_type": "code",
   "execution_count": null,
   "metadata": {},
   "outputs": [],
   "source": [
    "for token in additional_compressed_tokens:\n",
    "    if token in freq_dict:\n",
    "        list_10k_10k.append({'token':token, 'count':freq_dict[token]})"
   ]
  },
  {
   "cell_type": "code",
   "execution_count": null,
   "metadata": {},
   "outputs": [],
   "source": [
    "len(list_10k_10k)"
   ]
  },
  {
   "cell_type": "code",
   "execution_count": null,
   "metadata": {},
   "outputs": [],
   "source": [
    "dump_dict(list_10k_10k, \"list_10k_10k.json\")"
   ]
  },
  {
   "cell_type": "code",
   "execution_count": null,
   "metadata": {},
   "outputs": [],
   "source": []
  },
  {
   "cell_type": "markdown",
   "metadata": {},
   "source": [
    "Testing out data outside vocab"
   ]
  },
  {
   "cell_type": "code",
   "execution_count": null,
   "metadata": {},
   "outputs": [],
   "source": [
    "not_in_vocab = list(set(most_freq_10k) - set(top_data_freq_list))\n",
    "len(not_in_vocab)"
   ]
  },
  {
   "cell_type": "code",
   "execution_count": null,
   "metadata": {
    "scrolled": true
   },
   "outputs": [],
   "source": [
    "not_in_vocab[:100]"
   ]
  },
  {
   "cell_type": "code",
   "execution_count": null,
   "metadata": {
    "scrolled": true
   },
   "outputs": [],
   "source": [
    "for f in not_in_vocab:\n",
    "    print(f,\"||\", func2abs[f],\"||\", abstract_code_dict[func2abs[f]]['count'])"
   ]
  },
  {
   "cell_type": "code",
   "execution_count": null,
   "metadata": {
    "scrolled": true
   },
   "outputs": [],
   "source": [
    "for f in common_tokens[:1000]:\n",
    "    print(f,\"||\", func2abs[f],\"||\", abstract_code_dict[func2abs[f]]['count'])"
   ]
  },
  {
   "cell_type": "code",
   "execution_count": null,
   "metadata": {
    "scrolled": true
   },
   "outputs": [],
   "source": [
    "abstract_code_dict[abstract_code_keys[10000]]"
   ]
  },
  {
   "cell_type": "code",
   "execution_count": null,
   "metadata": {
    "scrolled": true
   },
   "outputs": [],
   "source": [
    "abstract_code_dict['( ( AbstractISUPParameter ) $id0 ) . decode ( $id1 ) ;']"
   ]
  },
  {
   "cell_type": "code",
   "execution_count": null,
   "metadata": {},
   "outputs": [],
   "source": [
    "'$F2570015' in common_tokens"
   ]
  },
  {
   "cell_type": "code",
   "execution_count": null,
   "metadata": {},
   "outputs": [],
   "source": [
    "len(abstract_code_keys)\n",
    "#1144264"
   ]
  },
  {
   "cell_type": "code",
   "execution_count": null,
   "metadata": {
    "scrolled": false
   },
   "outputs": [],
   "source": [
    "i = -1\n",
    "abstract_code_keys2 = []\n",
    "for key in abstract_code_keys:\n",
    "    i+=1\n",
    "    parent = key + \" ;\" \n",
    "    if parent in abstract_code_keys:\n",
    "        if not i%1000: print(i)\n",
    "        if abstract_code_dict[key]['count'] != abstract_code_dict[parent]['count']:\n",
    "            abstract_code_keys2.append(key)\n",
    "\n",
    "abstract_code_keys = abstract_code_keys2\n",
    "len(abstract_code_keys)"
   ]
  },
  {
   "cell_type": "code",
   "execution_count": null,
   "metadata": {
    "scrolled": true
   },
   "outputs": [],
   "source": [
    "i = -1\n",
    "abstract_code_keys2 = []\n",
    "for key in abstract_code_keys:\n",
    "    i+=1\n",
    "    if not i%100: print(i)\n",
    "    #abstract_code_keys.remove(key)\n",
    "    abstract_code_keys2.append(key)"
   ]
  },
  {
   "cell_type": "markdown",
   "metadata": {},
   "source": [
    "## Removing child counts"
   ]
  },
  {
   "cell_type": "code",
   "execution_count": null,
   "metadata": {},
   "outputs": [],
   "source": [
    "min_freq = freq_dict[data_freq_list[30000]]\n",
    "min_freq"
   ]
  },
  {
   "cell_type": "code",
   "execution_count": null,
   "metadata": {},
   "outputs": [],
   "source": [
    "for discard_after in range(len(abstract_code_keys)):\n",
    "    key = abstract_code_keys[discard_after]\n",
    "    if abstract_code_dict[key]['count'] <= min_freq:\n",
    "        break\n",
    "discard_after"
   ]
  },
  {
   "cell_type": "code",
   "execution_count": null,
   "metadata": {},
   "outputs": [],
   "source": [
    "func2abs = {}\n",
    "\n",
    "for key in abstract_code_dict:\n",
    "    func2abs[abstract_code_dict[key]['compressed_name']] = key"
   ]
  },
  {
   "cell_type": "code",
   "execution_count": null,
   "metadata": {},
   "outputs": [],
   "source": [
    "accepted_abstract_keys = abstract_code_keys[:discard_after]\n",
    "abstract_code_dict_modified = copy.deepcopy(abstract_code_dict)"
   ]
  },
  {
   "cell_type": "code",
   "execution_count": null,
   "metadata": {
    "scrolled": false
   },
   "outputs": [],
   "source": [
    "for key in accepted_abstract_keys:\n",
    "    children = abstract_code_dict[key]['children']\n",
    "    if children:\n",
    "        count = abstract_code_dict[key]['count']\n",
    "        for child in children:\n",
    "            try:\n",
    "                child_key = func2abs[child]\n",
    "            except:\n",
    "                print(\"parent:\", abstract_code_dict_modified[key], \"child:\", child)\n",
    "            abstract_code_dict_modified[child_key]['count'] -= count"
   ]
  },
  {
   "cell_type": "code",
   "execution_count": null,
   "metadata": {},
   "outputs": [],
   "source": [
    "abstract_code_keys = sorted(abstract_code_dict_modified, key = lambda x:abstract_code_dict_modified[x]['count'], reverse=True)"
   ]
  },
  {
   "cell_type": "code",
   "execution_count": null,
   "metadata": {},
   "outputs": [],
   "source": [
    "for discard_after in range(len(abstract_code_keys)):\n",
    "    key = abstract_code_keys[discard_after]\n",
    "    if abstract_code_dict_modified[key]['count'] <= min_freq:\n",
    "        break\n",
    "discard_after"
   ]
  },
  {
   "cell_type": "code",
   "execution_count": null,
   "metadata": {},
   "outputs": [],
   "source": [
    "accepted_abstract_keys = abstract_code_keys[:discard_after]"
   ]
  },
  {
   "cell_type": "code",
   "execution_count": null,
   "metadata": {},
   "outputs": [],
   "source": [
    "len(top_data_freq_list)"
   ]
  },
  {
   "cell_type": "code",
   "execution_count": null,
   "metadata": {},
   "outputs": [],
   "source": [
    "abstract_code_dict2 = getJsonData('../CodeSearchNet/abstract_code_dict_500k.json')"
   ]
  },
  {
   "cell_type": "code",
   "execution_count": null,
   "metadata": {},
   "outputs": [],
   "source": [
    "accepted_abstract_funcs = [ abstract_code_dict2[x]['compressed_name'] for x in accepted_abstract_keys ]"
   ]
  },
  {
   "cell_type": "code",
   "execution_count": null,
   "metadata": {},
   "outputs": [],
   "source": [
    "not_in_vocab = list(set(accepted_abstract_funcs) & set(top_data_freq_list))\n",
    "len(not_in_vocab)"
   ]
  },
  {
   "cell_type": "markdown",
   "metadata": {},
   "source": [
    "## Testing new model"
   ]
  },
  {
   "cell_type": "code",
   "execution_count": 6,
   "metadata": {},
   "outputs": [],
   "source": [
    "import ast\n",
    "def get_compressed_func():\n",
    "    global compression_number\n",
    "    compression_number += 1\n",
    "    return \"$F\"+str(compression_number)"
   ]
  },
  {
   "cell_type": "code",
   "execution_count": 63,
   "metadata": {},
   "outputs": [],
   "source": [
    "def build_dict(tree):\n",
    "    var_list = []\n",
    "    global abstract_code_dict_copy\n",
    "    global abstract_code_keys\n",
    "    \n",
    "    \n",
    "    if 'text' in tree:\n",
    "        code = tree[\"text\"] + \" \"\n",
    "        #print(\"**:\\t\",code, 1)\n",
    "        return (code, 1, 0, [], None)\n",
    "    else:\n",
    "        parent = list(tree.keys())[0]\n",
    "        children = tree[parent]\n",
    "        if len(children) == 0:\n",
    "            return (\"\", 0, 0, [], None)\n",
    "        \n",
    "        code = \"\"\n",
    "        compressed_func = None\n",
    "        leaf_count = 0\n",
    "        id_count = 0\n",
    "        children_list = []\n",
    "        #leaf_list = []\n",
    "        \n",
    "        '''\n",
    "        and not (len(children) == 2 and 'text' in children[1] and children[1]['text'] == ';')\\\n",
    "        and not (len(children) == 3 and 'text' in children[0] and 'text' in children[2] and \\\n",
    "                 ((children[0]['text'] == '(' and children[2]['text'] == ')') or \n",
    "                  (children[0]['text'] == '{' and children[2]['text'] == '}') or\n",
    "                  (children[0]['text'] == '[' and children[2]['text'] == ']')))\n",
    "        '''\n",
    "        \n",
    "        if len(children) > 1:\n",
    "            for child in children:\n",
    "                (c, n, i, vl, f) = build_dict(child)\n",
    "                code += c\n",
    "                leaf_count += n\n",
    "                id_count += i\n",
    "                var_list += [v for v in vl if v not in var_list]\n",
    "                if f: children_list.append(f)\n",
    "                #else: leaf_list += code.split()\n",
    "                \n",
    "            if (var_list and leaf_count - len(var_list) >= 4) or (not var_list and leaf_count > 1) :\n",
    "                abstract_code = code.split()\n",
    "                for i in range(len(abstract_code)):\n",
    "                    if abstract_code[i] in var_list:\n",
    "                        abstract_code[i] = \"$id{}\".format(var_list.index(abstract_code[i]))\n",
    "                abstract_code = ' '.join(abstract_code)\n",
    "                \n",
    "                if abstract_code not in abstract_code_dict:\n",
    "                    compressed_func = get_compressed_func()\n",
    "                    abstract_code_dict[abstract_code] = {\n",
    "                        'count': 0, \n",
    "                        'compressed_name': compressed_func,\n",
    "                        'num_params': len(var_list),\n",
    "                        'children': children_list,\n",
    "                        #'leaves': leaf_list\n",
    "                    }\n",
    "                else:\n",
    "                    compressed_func = abstract_code_dict[abstract_code]['compressed_name']\n",
    "                \n",
    "                abstract_code_dict[abstract_code]['count'] += 1\n",
    "#                 children_list.insert(0, compressed_func)\n",
    "                \n",
    "            return (code, leaf_count, id_count, var_list, compressed_func)\n",
    "        \n",
    "        if parent == \"literal\":\n",
    "            child = children[0]\n",
    "            child_text = child[\"text\"]\n",
    "            try:\n",
    "                if child_text in ['null', 'true', 'false']:\n",
    "                    pass\n",
    "                elif type(ast.literal_eval(child_text)) == type(\"STRING\"):\n",
    "                    children[0][\"text\"] = \"STRING00\"\n",
    "                elif type(ast.literal_eval(child_text)) == type(1):\n",
    "                    children[0][\"text\"] = \"INT00\"\n",
    "                elif type(ast.literal_eval(child_text)) == type(1.1):\n",
    "                    children[0][\"text\"] = \"FLOAT00\"\n",
    "            except:\n",
    "                children[0][\"text\"] = \"NUM00\"\n",
    "            code = children[0][\"text\"] + \" \"\n",
    "#==================================================================\n",
    "        elif parent == \"primary\" and 'type' in children[0]:\n",
    "            id_count += 1\n",
    "            text = children[0][\"text\"]\n",
    "            if text not in var_list:\n",
    "                var_list.append(text)\n",
    "            code = text + \" \"\n",
    "        elif parent == \"variableDeclaratorId\" and 'type' in children[0]:\n",
    "            id_count += 1\n",
    "            text = children[0][\"text\"]\n",
    "            if text not in var_list:\n",
    "                var_list.append(text)\n",
    "            code = text + \" \"\n",
    "#=================================================================\n",
    "        else:\n",
    "            (code, leaf_count, i, vl, compressed_func) = build_dict(children[0])\n",
    "            id_count += i\n",
    "            var_list += [v for v in vl if v not in var_list]\n",
    "        \n",
    "        return (code, leaf_count, id_count, var_list, compressed_func)"
   ]
  },
  {
   "cell_type": "code",
   "execution_count": 64,
   "metadata": {},
   "outputs": [],
   "source": [
    "def compress(tree):\n",
    "    var_list = []\n",
    "    global abstract_code_dict_copy\n",
    "    global abstract_code_keys\n",
    "    \n",
    "    if 'text' in tree:\n",
    "        code = tree[\"text\"] + \" \"\n",
    "        #print(\"**:\\t\",code, 1)\n",
    "        return (code, 1, 0, [])\n",
    "    else:\n",
    "        parent = list(tree.keys())[0]\n",
    "        children = tree[parent]\n",
    "        if len(children) == 0:\n",
    "            return (\"\", 0, 0, [])\n",
    "        \n",
    "        code = \"\"\n",
    "        compressed_func = None\n",
    "        leaf_count = 0\n",
    "        id_count = 0\n",
    "        children_list = []\n",
    "        \n",
    "        if len(children) > 1:\n",
    "            for child in children:\n",
    "                (c, n, i, vl) = compress(child)\n",
    "                code += c\n",
    "                leaf_count += n\n",
    "                id_count += i\n",
    "                var_list += [v for v in vl if v not in var_list]\n",
    "                #if f: children_list.append(f)\n",
    "                #else: leaf_list += code.split()\n",
    "                \n",
    "            if (var_list and leaf_count - len(var_list) >= 4) or (not var_list and leaf_count > 1) :\n",
    "                abstract_code = code.split()\n",
    "                for i in range(len(abstract_code)):\n",
    "                    if abstract_code[i] in var_list:\n",
    "                        abstract_code[i] = \"$id{}\".format(var_list.index(abstract_code[i]))\n",
    "                abstract_code = ' '.join(abstract_code)\n",
    "                \n",
    "                #---------------------------------------------------\n",
    "                if abstract_code in abstract_code_keys:\n",
    "                    #print(\"compressing!!\")\n",
    "                    compressed_func = abstract_code_dict_copy[abstract_code]['compressed_name']\n",
    "                    compressed_func += ' ( ' +' , '.join(var_list)+' )' if var_list else ''\n",
    "                    tree[parent] = [{\"type\": \"compressed\", \"text\": compressed_func}]\n",
    "                #---------------------------------------------------\n",
    "\n",
    "            return (code, leaf_count, id_count, var_list)\n",
    "        \n",
    "        if parent == \"literal\":\n",
    "            child = children[0]\n",
    "            child_text = child[\"text\"]\n",
    "            try:\n",
    "                if child_text in ['null', 'true', 'false']:\n",
    "                    pass\n",
    "                elif type(ast.literal_eval(child_text)) == type(\"STRING\"):\n",
    "                    children[0][\"text\"] = \"STRING00\"\n",
    "                elif type(ast.literal_eval(child_text)) == type(1):\n",
    "                    children[0][\"text\"] = \"INT00\"\n",
    "                elif type(ast.literal_eval(child_text)) == type(1.1):\n",
    "                    children[0][\"text\"] = \"FLOAT00\"\n",
    "            except:\n",
    "                children[0][\"text\"] = \"NUM00\"\n",
    "            code = children[0][\"text\"] + \" \"\n",
    "            \n",
    "        elif parent == \"primary\" and 'type' in children[0]:\n",
    "            id_count += 1\n",
    "            text = children[0][\"text\"]\n",
    "            if text not in var_list:\n",
    "                var_list.append(text)\n",
    "            code = text + \" \"\n",
    "        elif parent == \"variableDeclaratorId\" and 'type' in children[0]:\n",
    "            id_count += 1\n",
    "            text = children[0][\"text\"]\n",
    "            if text not in var_list:\n",
    "                var_list.append(text)\n",
    "            code = text + \" \"\n",
    "        else:\n",
    "            (code, leaf_count, i, vl) = compress(children[0])\n",
    "            id_count += i\n",
    "            var_list += [v for v in vl if v not in var_list]\n",
    "        \n",
    "        return (code, leaf_count, id_count, var_list)"
   ]
  },
  {
   "cell_type": "code",
   "execution_count": 9,
   "metadata": {},
   "outputs": [],
   "source": [
    "## Loading one training data\n",
    "tree_data = getJsonData(\"../test_data/java_train_3.json\")"
   ]
  },
  {
   "cell_type": "code",
   "execution_count": 98,
   "metadata": {
    "scrolled": true
   },
   "outputs": [
    {
     "name": "stdout",
     "output_type": "stream",
     "text": [
      "[ 0 ]\n",
      "[ 5000 ]\n",
      "[ 10000 ]\n",
      "[ 15000 ]\n",
      "[ 20000 ]\n",
      "[ 25000 ]\n",
      "[ 29999 ]\n"
     ]
    }
   ],
   "source": [
    "## build freq_dict\n",
    "freq_dict = {}\n",
    "uncompressed_codes = []\n",
    "\n",
    "for i in range(len(tree_data)):\n",
    "    if i%5000 == 0: print(\"[\", i, \"]\")\n",
    "    code, _ = tree2code(tree_data[i], 0)\n",
    "    uncompressed_codes.append({\"code\": code})\n",
    "    tokens = code.split()\n",
    "\n",
    "    for token in tokens:\n",
    "        if token not in freq_dict: freq_dict[token] = 0\n",
    "        freq_dict[token] += 1\n",
    "print(\"[\", i, \"]\")"
   ]
  },
  {
   "cell_type": "code",
   "execution_count": 66,
   "metadata": {},
   "outputs": [],
   "source": [
    "most_freq = sorted(freq_dict, key = lambda x:freq_dict[x], reverse=True)"
   ]
  },
  {
   "cell_type": "code",
   "execution_count": null,
   "metadata": {},
   "outputs": [],
   "source": [
    "dump_dict(uncompressed_codes, \"../test_data/uncompressed_codes_no_literal_train_3.json\")"
   ]
  },
  {
   "cell_type": "markdown",
   "metadata": {},
   "source": [
    "### Building Dictionary\n",
    "[Parent Child](#Parent-child)"
   ]
  },
  {
   "cell_type": "code",
   "execution_count": null,
   "metadata": {},
   "outputs": [],
   "source": [
    "# Num items first: 411762\n",
    "# After removing children low frequency than 10,000th in freq_dict: 4810\n",
    "# After deducing parent frequency from children: 2922\n",
    "# After "
   ]
  },
  {
   "cell_type": "code",
   "execution_count": 67,
   "metadata": {},
   "outputs": [],
   "source": [
    "abstract_code_dict = {}\n",
    "compression_number = 0"
   ]
  },
  {
   "cell_type": "code",
   "execution_count": 68,
   "metadata": {},
   "outputs": [
    {
     "name": "stdout",
     "output_type": "stream",
     "text": [
      "0\n",
      "5000\n",
      "10000\n",
      "15000\n",
      "20000\n",
      "25000\n",
      "30000\n"
     ]
    }
   ],
   "source": [
    "i = 0\n",
    "for data in tree_data:\n",
    "    if not i%5000: print(i)\n",
    "    build_dict(data)\n",
    "    i += 1\n",
    "print(i)"
   ]
  },
  {
   "cell_type": "code",
   "execution_count": 99,
   "metadata": {},
   "outputs": [],
   "source": [
    "import copy\n",
    "abstract_code_dict_copy = copy.deepcopy(abstract_code_dict)"
   ]
  },
  {
   "cell_type": "code",
   "execution_count": 100,
   "metadata": {
    "scrolled": true
   },
   "outputs": [
    {
     "data": {
      "text/plain": [
       "411217"
      ]
     },
     "execution_count": 100,
     "metadata": {},
     "output_type": "execute_result"
    }
   ],
   "source": [
    "abstract_code_keys = sorted(abstract_code_dict_copy, key = lambda x:abstract_code_dict_copy[x]['count'], reverse=True)\n",
    "len(abstract_code_keys)"
   ]
  },
  {
   "cell_type": "code",
   "execution_count": 101,
   "metadata": {
    "scrolled": true
   },
   "outputs": [
    {
     "name": "stdout",
     "output_type": "stream",
     "text": [
      "( ) --> {'count': 13831, 'compressed_name': '$F1', 'num_params': 0, 'children': []}\n",
      "@ Override --> {'count': 5896, 'compressed_name': '$F178', 'num_params': 0, 'children': []}\n",
      "( NUM00 ) --> {'count': 5555, 'compressed_name': '$F84', 'num_params': 0, 'children': []}\n",
      "IllegalArgumentException ( NUM00 ) --> {'count': 3727, 'compressed_name': '$F2241', 'num_params': 0, 'children': ['$F84']}\n",
      "new IllegalArgumentException ( NUM00 ) --> {'count': 3727, 'compressed_name': '$F2242', 'num_params': 0, 'children': ['$F2241']}\n",
      "throw new IllegalArgumentException ( NUM00 ) ; --> {'count': 3726, 'compressed_name': '$F2243', 'num_params': 0, 'children': ['$F2242']}\n",
      "break ; --> {'count': 3654, 'compressed_name': '$F1188', 'num_params': 0, 'children': []}\n",
      "{ throw new IllegalArgumentException ( NUM00 ) ; } --> {'count': 3567, 'compressed_name': '$F2244', 'num_params': 0, 'children': ['$F2243']}\n",
      "return $id0 . body ( ) ; --> {'count': 2244, 'compressed_name': '$F354778', 'num_params': 1, 'children': []}\n",
      "{ return $id0 . body ( ) ; } --> {'count': 2244, 'compressed_name': '$F354779', 'num_params': 1, 'children': ['$F354778']}\n"
     ]
    }
   ],
   "source": [
    "for key in abstract_code_keys[:10]:\n",
    "    print(key, \"-->\", abstract_code_dict[key])"
   ]
  },
  {
   "cell_type": "code",
   "execution_count": 102,
   "metadata": {},
   "outputs": [],
   "source": [
    "func2abs = {}\n",
    "\n",
    "for key in abstract_code_dict_copy:\n",
    "    func2abs[abstract_code_dict_copy[key]['compressed_name']] = key"
   ]
  },
  {
   "cell_type": "code",
   "execution_count": 103,
   "metadata": {},
   "outputs": [],
   "source": [
    "vocab_size = 30000"
   ]
  },
  {
   "cell_type": "code",
   "execution_count": 104,
   "metadata": {
    "scrolled": true
   },
   "outputs": [
    {
     "data": {
      "text/plain": [
       "('getTemplateData', 4)"
      ]
     },
     "execution_count": 104,
     "metadata": {},
     "output_type": "execute_result"
    }
   ],
   "source": [
    "min_freq = freq_dict[most_freq[vocab_size]]\n",
    "most_freq[vocab_size], min_freq"
   ]
  },
  {
   "cell_type": "code",
   "execution_count": 105,
   "metadata": {
    "scrolled": true
   },
   "outputs": [
    {
     "data": {
      "text/plain": [
       "[')',\n",
       " '(',\n",
       " '.',\n",
       " ';',\n",
       " ',',\n",
       " '{',\n",
       " '}',\n",
       " '=',\n",
       " 'NUM00',\n",
       " 'if',\n",
       " '<',\n",
       " '>',\n",
       " 'public',\n",
       " 'String',\n",
       " 'return',\n",
       " 'new',\n",
       " 'null',\n",
       " 'i',\n",
       " 'int',\n",
       " '[',\n",
       " ']',\n",
       " '+',\n",
       " 'this',\n",
       " '==',\n",
       " 'else',\n",
       " '$F1',\n",
       " 'final',\n",
       " '!=',\n",
       " ':',\n",
       " 'resourceGroupName',\n",
       " '-',\n",
       " 'void',\n",
       " 'for',\n",
       " 'response',\n",
       " 'static',\n",
       " '&&',\n",
       " 'e',\n",
       " 'Observable',\n",
       " '$F178',\n",
       " 'throws']"
      ]
     },
     "execution_count": 105,
     "metadata": {},
     "output_type": "execute_result"
    }
   ],
   "source": [
    "most_freq[:40]"
   ]
  },
  {
   "cell_type": "code",
   "execution_count": 106,
   "metadata": {},
   "outputs": [
    {
     "data": {
      "text/plain": [
       "21178"
      ]
     },
     "execution_count": 106,
     "metadata": {},
     "output_type": "execute_result"
    }
   ],
   "source": [
    "for key in list(abstract_code_dict_copy):\n",
    "    if abstract_code_dict_copy[key]['count'] < min_freq:\n",
    "        del abstract_code_dict_copy[key]\n",
    "abstract_code_keys = sorted(abstract_code_dict_copy, key = lambda x:abstract_code_dict_copy[x]['count'], reverse=True)\n",
    "len(abstract_code_keys)"
   ]
  },
  {
   "cell_type": "code",
   "execution_count": 107,
   "metadata": {},
   "outputs": [],
   "source": [
    "for key in abstract_code_keys:\n",
    "    children = abstract_code_dict_copy[key]['children']\n",
    "    count = abstract_code_dict_copy[key]['count']\n",
    "    for child in children:\n",
    "        child_key = func2abs[child]\n",
    "        if child_key in abstract_code_dict_copy:\n",
    "            abstract_code_dict_copy[child_key]['count'] -= count"
   ]
  },
  {
   "cell_type": "code",
   "execution_count": 108,
   "metadata": {},
   "outputs": [
    {
     "data": {
      "text/plain": [
       "11146"
      ]
     },
     "execution_count": 108,
     "metadata": {},
     "output_type": "execute_result"
    }
   ],
   "source": [
    "for key in list(abstract_code_dict_copy):\n",
    "    if abstract_code_dict_copy[key]['count'] < min_freq:\n",
    "        del abstract_code_dict_copy[key]\n",
    "len(abstract_code_dict_copy)"
   ]
  },
  {
   "cell_type": "code",
   "execution_count": 109,
   "metadata": {
    "scrolled": false
   },
   "outputs": [
    {
     "data": {
      "text/plain": [
       "11146"
      ]
     },
     "execution_count": 109,
     "metadata": {},
     "output_type": "execute_result"
    }
   ],
   "source": [
    "abstract_code_keys = sorted(abstract_code_dict_copy, key = lambda x:abstract_code_dict_copy[x]['count'], reverse=True)\n",
    "len(abstract_code_keys)"
   ]
  },
  {
   "cell_type": "code",
   "execution_count": null,
   "metadata": {},
   "outputs": [],
   "source": []
  },
  {
   "cell_type": "code",
   "execution_count": null,
   "metadata": {},
   "outputs": [],
   "source": [
    "### 10k\n",
    "# Before operation total keys: 4810\n",
    "# After decreasing child count and removing lower than min_count: 2922\n",
    "# Functions survived after addidngg in freq_dict: 2001\n",
    "# Ended up after compression: 1989\n",
    "# Compressio Ratio: 0.8567161502728318\n",
    "\n",
    "### 30k\n",
    "# Before operation total keys: \n",
    "# After decreasing child count and removing lower than min_count: 2776\n",
    "# Functions survived after addidngg in freq_dict: 2770\n",
    "# Ended up after compression:\n",
    "# Compression Ratio: 0.8987381335587129"
   ]
  },
  {
   "cell_type": "code",
   "execution_count": 110,
   "metadata": {},
   "outputs": [],
   "source": [
    "for key in abstract_code_keys:\n",
    "    func = abstract_code_dict_copy[key]['compressed_name']\n",
    "    freq_dict[func] = abstract_code_dict_copy[key]['count']"
   ]
  },
  {
   "cell_type": "code",
   "execution_count": 111,
   "metadata": {
    "scrolled": true
   },
   "outputs": [
    {
     "name": "stdout",
     "output_type": "stream",
     "text": [
      "0\n",
      "200\n",
      "400\n",
      "600\n",
      "800\n",
      "1000\n",
      "1200\n",
      "1400\n",
      "1600\n",
      "1800\n",
      "2000\n",
      "2200\n",
      "2400\n",
      "2600\n",
      "2800\n",
      "3000\n",
      "3200\n",
      "3400\n",
      "3600\n",
      "3800\n",
      "4000\n",
      "4200\n",
      "4400\n",
      "4600\n",
      "4800\n",
      "5000\n",
      "5200\n",
      "5400\n",
      "5600\n",
      "5800\n",
      "6000\n",
      "6200\n",
      "6400\n",
      "6600\n",
      "6800\n",
      "7000\n",
      "7200\n",
      "7400\n",
      "7600\n",
      "7800\n",
      "8000\n",
      "8200\n",
      "8400\n",
      "8600\n",
      "8800\n",
      "9000\n",
      "9200\n",
      "9400\n",
      "9600\n",
      "9800\n",
      "10000\n",
      "10200\n",
      "10400\n",
      "10600\n",
      "10800\n",
      "11000\n",
      "11146\n"
     ]
    },
    {
     "data": {
      "text/plain": [
       "6644"
      ]
     },
     "execution_count": 111,
     "metadata": {},
     "output_type": "execute_result"
    }
   ],
   "source": [
    "i = 0\n",
    "done_funcs = []\n",
    "for key in abstract_code_keys:\n",
    "    if not i%200: print(i)\n",
    "    i+=1\n",
    "    most_freq = sorted(freq_dict, key = lambda x:freq_dict[x], reverse=True)\n",
    "    count = abstract_code_dict_copy[key]['count']\n",
    "    func = abstract_code_dict_copy[key]['compressed_name']\n",
    "    if func in most_freq[:vocab_size]:\n",
    "        done_funcs.append(func)\n",
    "        tokens = key.split()\n",
    "        for token in tokens:\n",
    "            if not token.startswith(\"$id\") and token in freq_dict:\n",
    "                freq_dict[token] -= count\n",
    "print(i)\n",
    "len(done_funcs)"
   ]
  },
  {
   "cell_type": "code",
   "execution_count": 118,
   "metadata": {},
   "outputs": [
    {
     "data": {
      "text/plain": [
       "6644"
      ]
     },
     "execution_count": 118,
     "metadata": {},
     "output_type": "execute_result"
    }
   ],
   "source": [
    "accepted_fucnctions = list(set([abstract_code_dict_copy[x]['compressed_name'] for x in abstract_code_dict_copy]))\n",
    "## Suggested functions in our estimation\n",
    "len(accepted_fucnctions)"
   ]
  },
  {
   "cell_type": "code",
   "execution_count": null,
   "metadata": {
    "scrolled": true
   },
   "outputs": [],
   "source": []
  },
  {
   "cell_type": "code",
   "execution_count": 119,
   "metadata": {},
   "outputs": [
    {
     "data": {
      "text/plain": [
       "5"
      ]
     },
     "execution_count": 119,
     "metadata": {},
     "output_type": "execute_result"
    }
   ],
   "source": [
    "freq_dict[most_freq[vocab_size]]"
   ]
  },
  {
   "cell_type": "code",
   "execution_count": 120,
   "metadata": {},
   "outputs": [],
   "source": [
    "to_be_compressed = []\n",
    "for token in accepted_fucnctions:\n",
    "    to_be_compressed.append(func2abs[token])"
   ]
  },
  {
   "cell_type": "code",
   "execution_count": 121,
   "metadata": {},
   "outputs": [
    {
     "data": {
      "text/plain": [
       "(6644, 'int $id0 = $id1 . read ( ) ;')"
      ]
     },
     "execution_count": 121,
     "metadata": {},
     "output_type": "execute_result"
    }
   ],
   "source": [
    "len(to_be_compressed), to_be_compressed[0]"
   ]
  },
  {
   "cell_type": "code",
   "execution_count": 122,
   "metadata": {},
   "outputs": [],
   "source": [
    "del abstract_code_keys\n",
    "abstract_code_keys = to_be_compressed"
   ]
  },
  {
   "cell_type": "code",
   "execution_count": null,
   "metadata": {
    "scrolled": true
   },
   "outputs": [],
   "source": []
  },
  {
   "cell_type": "markdown",
   "metadata": {
    "scrolled": false
   },
   "source": [
    "**Testing Single compression**\n",
    "i = 14\n",
    "data = copy.deepcopy(tree_data[i])\n",
    "uncompressed_code = tree2code(data, 0)[0]\n",
    "before_tokens = len(uncompressed_code.split())\n",
    "print(uncompressed_code, \"\\n\", before_tokens)\n",
    "\n",
    "(code, leaf_count, id_count, var_list) = compress(data)\n",
    "code = tree2code(data, 0)[0]\n",
    "after_tokens = len(code.split())\n",
    "print(code, \"\\n\", after_tokens)\n",
    "print(\"Compression Ratio: \", after_tokens/before_tokens)"
   ]
  },
  {
   "cell_type": "code",
   "execution_count": 123,
   "metadata": {
    "scrolled": true
   },
   "outputs": [
    {
     "name": "stdout",
     "output_type": "stream",
     "text": [
      "[ 0 ] : 0.8095238095238095\n",
      "[ 5000 ] : 0.8523455026600372\n",
      "[ 10000 ] : 0.852111196568635\n",
      "[ 15000 ] : 0.8479061391169184\n",
      "[ 20000 ] : 0.8532493911409994\n",
      "[ 25000 ] : 0.8418096155254878\n",
      "[ 29999 ] : 0.8143530881118337\n"
     ]
    }
   ],
   "source": [
    "compressed_freq_dict = {}\n",
    "compressed_codes = []\n",
    "total_tokens_before = 0\n",
    "total_tokens_after = 0\n",
    "for i in range(len(tree_data)):\n",
    "    try:\n",
    "        tree_copy = copy.deepcopy(tree_data[i])\n",
    "        code, _ = tree2code(tree_copy, 0)\n",
    "        total_tokens_before += len(code.split())\n",
    "        (code, leaf_count, id_count, var_list) = compress(tree_copy)\n",
    "        code, _ = tree2code(tree_copy, 0)\n",
    "    except Exception as e:\n",
    "        print(e)\n",
    "        code, _ = tree2code(tree_data[i], 0)\n",
    "    compressed_code = {\"code\": code}\n",
    "    tokens = code.split()\n",
    "    total_tokens_after += len(tokens)\n",
    "    for token in tokens:\n",
    "        if token not in compressed_freq_dict:\n",
    "            compressed_freq_dict[token] = 0\n",
    "        compressed_freq_dict[token] += 1\n",
    "    compressed_codes.append(compressed_code)\n",
    "    if i%5000 == 0: print(\"[\", i, \"] :\", total_tokens_after/total_tokens_before) \n",
    "print(\"[\", i, \"] :\", total_tokens_after/total_tokens_before) "
   ]
  },
  {
   "cell_type": "code",
   "execution_count": null,
   "metadata": {},
   "outputs": [],
   "source": []
  },
  {
   "cell_type": "code",
   "execution_count": null,
   "metadata": {},
   "outputs": [],
   "source": [
    "dump_dict(compressed_codes, '../test_data/compressed_codes_train_3_30k.json')"
   ]
  },
  {
   "cell_type": "code",
   "execution_count": 126,
   "metadata": {},
   "outputs": [],
   "source": [
    "compressed_most_freq = sorted(compressed_freq_dict, key = lambda x:compressed_freq_dict[x], reverse=True)"
   ]
  },
  {
   "cell_type": "code",
   "execution_count": null,
   "metadata": {},
   "outputs": [],
   "source": []
  },
  {
   "cell_type": "code",
   "execution_count": 127,
   "metadata": {},
   "outputs": [
    {
     "data": {
      "text/plain": [
       "6598"
      ]
     },
     "execution_count": 127,
     "metadata": {},
     "output_type": "execute_result"
    }
   ],
   "source": [
    "common_tokens_after_compression = list(set(compressed_most_freq[:vocab_size]) & set(accepted_fucnctions))\n",
    "len(common_tokens_after_compression)"
   ]
  },
  {
   "cell_type": "code",
   "execution_count": 128,
   "metadata": {},
   "outputs": [
    {
     "data": {
      "text/plain": [
       "0.9930764599638772"
      ]
     },
     "execution_count": 128,
     "metadata": {},
     "output_type": "execute_result"
    }
   ],
   "source": [
    "6598/6644"
   ]
  },
  {
   "cell_type": "code",
   "execution_count": 92,
   "metadata": {
    "scrolled": true
   },
   "outputs": [
    {
     "data": {
      "text/plain": [
       "2005"
      ]
     },
     "execution_count": 92,
     "metadata": {},
     "output_type": "execute_result"
    }
   ],
   "source": [
    "len(abstract_code_keys)"
   ]
  },
  {
   "cell_type": "code",
   "execution_count": 93,
   "metadata": {
    "scrolled": true
   },
   "outputs": [
    {
     "data": {
      "text/plain": [
       "[')',\n",
       " '(',\n",
       " ',',\n",
       " '.',\n",
       " ';',\n",
       " '{',\n",
       " '}',\n",
       " '=',\n",
       " 'NUM00',\n",
       " 'if',\n",
       " 'public',\n",
       " 'String',\n",
       " '<',\n",
       " '>',\n",
       " 'return',\n",
       " 'new',\n",
       " 'null',\n",
       " 'int',\n",
       " '[',\n",
       " ']',\n",
       " '+',\n",
       " 'i',\n",
       " '==',\n",
       " 'this',\n",
       " 'else',\n",
       " '$F1',\n",
       " 'final',\n",
       " '!=',\n",
       " ':',\n",
       " 'resourceGroupName']"
      ]
     },
     "execution_count": 93,
     "metadata": {},
     "output_type": "execute_result"
    }
   ],
   "source": [
    "compressed_most_freq[:30]"
   ]
  },
  {
   "cell_type": "code",
   "execution_count": 95,
   "metadata": {},
   "outputs": [
    {
     "data": {
      "text/plain": [
       "13"
      ]
     },
     "execution_count": 95,
     "metadata": {},
     "output_type": "execute_result"
    }
   ],
   "source": [
    "oov = list(set(accepted_fucnctions) - set(compressed_most_freq[:vocab_size]))\n",
    "len(oov)"
   ]
  },
  {
   "cell_type": "code",
   "execution_count": 97,
   "metadata": {
    "scrolled": true
   },
   "outputs": [
    {
     "name": "stdout",
     "output_type": "stream",
     "text": [
      "$id0 . body ( ) . items ( ) {'count': 14, 'compressed_name': '$F361184', 'num_params': 1, 'children': ['$F361183']}\n",
      "{ $id0 . ifUnmodifiedSince = null ; } {'count': 22, 'compressed_name': '$F354751', 'num_params': 1, 'children': []}\n",
      "ServiceResponse < OperationStatusResponseInner > {'count': 64, 'compressed_name': '$F361100', 'num_params': 0, 'children': ['$F361091']}\n",
      "$id0 != null ? $id0 . skip ( ) : null {'count': 17, 'compressed_name': '$F360708', 'num_params': 1, 'children': []}\n",
      "$id0 != null ? $id0 . take ( ) : null {'count': 19, 'compressed_name': '$F360711', 'num_params': 1, 'children': []}\n",
      "ServiceResponse < UUID > {'count': 105, 'compressed_name': '$F395853', 'num_params': 0, 'children': ['$F16958']}\n",
      "{ $id0 . ifModifiedSince = null ; } {'count': 22, 'compressed_name': '$F354748', 'num_params': 1, 'children': []}\n",
      "boolean $id0 = $id1 . $id0 ( ) {'count': 20, 'compressed_name': '$F92142', 'num_params': 2, 'children': []}\n",
      "ServiceResponse < Void > {'count': 584, 'compressed_name': '$F355038', 'num_params': 0, 'children': ['$F19297']}\n",
      "$id0 != null ? $id0 . name ( ) : null {'count': 27, 'compressed_name': '$F392591', 'num_params': 1, 'children': []}\n",
      "{ $id0 . lastModified = null ; } {'count': 47, 'compressed_name': '$F356290', 'num_params': 1, 'children': []}\n",
      "CacheMgmtInterceptor . class {'count': 18, 'compressed_name': '$F115703', 'num_params': 0, 'children': []}\n",
      "$id0 . body ( ) . nextPageLink {'count': 166, 'compressed_name': '$F355005', 'num_params': 1, 'children': []}\n"
     ]
    }
   ],
   "source": [
    "for o in oov:\n",
    "    a = abstract_code_dict[func2abs[o]]\n",
    "    print(func2abs[o], a)"
   ]
  },
  {
   "cell_type": "code",
   "execution_count": 62,
   "metadata": {},
   "outputs": [
    {
     "data": {
      "text/plain": [
       "True"
      ]
     },
     "execution_count": 62,
     "metadata": {},
     "output_type": "execute_result"
    }
   ],
   "source": [
    "'$F406149' in compressed_freq_dict"
   ]
  },
  {
   "cell_type": "code",
   "execution_count": 61,
   "metadata": {
    "scrolled": true
   },
   "outputs": [
    {
     "data": {
      "text/plain": [
       "'$F406149'"
      ]
     },
     "execution_count": 61,
     "metadata": {},
     "output_type": "execute_result"
    }
   ],
   "source": [
    "common_tokens_after_compression[0]"
   ]
  },
  {
   "cell_type": "code",
   "execution_count": null,
   "metadata": {},
   "outputs": [],
   "source": [
    "# Vocab 10k, compression ratio: 0.8567161502728318\n",
    "# vocab 30k, compression ratio: 0.8987381335587129"
   ]
  }
 ],
 "metadata": {
  "kernelspec": {
   "display_name": "Python 3",
   "language": "python",
   "name": "python3"
  },
  "language_info": {
   "codemirror_mode": {
    "name": "ipython",
    "version": 3
   },
   "file_extension": ".py",
   "mimetype": "text/x-python",
   "name": "python",
   "nbconvert_exporter": "python",
   "pygments_lexer": "ipython3",
   "version": "3.6.8"
  }
 },
 "nbformat": 4,
 "nbformat_minor": 4
}
